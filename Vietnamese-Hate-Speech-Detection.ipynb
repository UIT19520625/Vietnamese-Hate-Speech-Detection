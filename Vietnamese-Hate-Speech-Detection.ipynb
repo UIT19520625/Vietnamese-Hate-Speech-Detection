{
  "nbformat": 4,
  "nbformat_minor": 0,
  "metadata": {
    "colab": {
      "name": "Semi_Final_fix_bug.ipynb",
      "provenance": [],
      "collapsed_sections": []
    },
    "kernelspec": {
      "display_name": "Python 3",
      "name": "python3"
    },
    "language_info": {
      "name": "python"
    }
  },
  "cells": [
    {
      "cell_type": "markdown",
      "source": [
        "# Load Library"
      ],
      "metadata": {
        "id": "IXHkkWWIaOIA"
      }
    },
    {
      "cell_type": "code",
      "metadata": {
        "colab": {
          "base_uri": "https://localhost:8080/"
        },
        "id": "Q63dcgqtZfEz",
        "outputId": "a7397b58-03cc-4395-f022-44a3f9f9c607"
      },
      "source": [
        "pip install vncorenlp"
      ],
      "execution_count": null,
      "outputs": [
        {
          "output_type": "stream",
          "name": "stdout",
          "text": [
            "Collecting vncorenlp\n",
            "  Downloading vncorenlp-1.0.3.tar.gz (2.6 MB)\n",
            "\u001b[K     |████████████████████████████████| 2.6 MB 2.1 MB/s \n",
            "\u001b[?25hRequirement already satisfied: requests in /usr/local/lib/python3.7/dist-packages (from vncorenlp) (2.23.0)\n",
            "Requirement already satisfied: idna<3,>=2.5 in /usr/local/lib/python3.7/dist-packages (from requests->vncorenlp) (2.10)\n",
            "Requirement already satisfied: chardet<4,>=3.0.2 in /usr/local/lib/python3.7/dist-packages (from requests->vncorenlp) (3.0.4)\n",
            "Requirement already satisfied: certifi>=2017.4.17 in /usr/local/lib/python3.7/dist-packages (from requests->vncorenlp) (2021.10.8)\n",
            "Requirement already satisfied: urllib3!=1.25.0,!=1.25.1,<1.26,>=1.21.1 in /usr/local/lib/python3.7/dist-packages (from requests->vncorenlp) (1.24.3)\n",
            "Building wheels for collected packages: vncorenlp\n",
            "  Building wheel for vncorenlp (setup.py) ... \u001b[?25l\u001b[?25hdone\n",
            "  Created wheel for vncorenlp: filename=vncorenlp-1.0.3-py3-none-any.whl size=2645951 sha256=31a8c415c669c9c706b050acc6d8b87923767cb8b3a71994a766b4ca2124950f\n",
            "  Stored in directory: /root/.cache/pip/wheels/0c/d8/f2/d28d97379b4f6479bf51247c8dfd57fa00932fa7a74b6aab29\n",
            "Successfully built vncorenlp\n",
            "Installing collected packages: vncorenlp\n",
            "Successfully installed vncorenlp-1.0.3\n"
          ]
        }
      ]
    },
    {
      "cell_type": "code",
      "metadata": {
        "colab": {
          "base_uri": "https://localhost:8080/"
        },
        "id": "lvRFJI-gZjxv",
        "outputId": "1f817a44-d7e3-417d-f2cf-736aa1d315ac"
      },
      "source": [
        "!mkdir -p vncorenlp/models/wordsegmenter\n",
        "!wget https://raw.githubusercontent.com/vncorenlp/VnCoreNLP/master/VnCoreNLP-1.1.1.jar\n",
        "!wget https://raw.githubusercontent.com/vncorenlp/VnCoreNLP/master/models/wordsegmenter/vi-vocab\n",
        "!wget https://raw.githubusercontent.com/vncorenlp/VnCoreNLP/master/models/wordsegmenter/wordsegmenter.rdr\n",
        "!mv VnCoreNLP-1.1.1.jar vncorenlp/\n",
        "!mv vi-vocab vncorenlp/models/wordsegmenter/\n",
        "!mv wordsegmenter.rdr vncorenlp/models/wordsegmenter/"
      ],
      "execution_count": null,
      "outputs": [
        {
          "output_type": "stream",
          "name": "stdout",
          "text": [
            "--2021-12-22 12:33:27--  https://raw.githubusercontent.com/vncorenlp/VnCoreNLP/master/VnCoreNLP-1.1.1.jar\n",
            "Resolving raw.githubusercontent.com (raw.githubusercontent.com)... 185.199.108.133, 185.199.111.133, 185.199.109.133, ...\n",
            "Connecting to raw.githubusercontent.com (raw.githubusercontent.com)|185.199.108.133|:443... connected.\n",
            "HTTP request sent, awaiting response... 200 OK\n",
            "Length: 27412575 (26M) [application/octet-stream]\n",
            "Saving to: ‘VnCoreNLP-1.1.1.jar’\n",
            "\n",
            "VnCoreNLP-1.1.1.jar 100%[===================>]  26.14M  66.2MB/s    in 0.4s    \n",
            "\n",
            "2021-12-22 12:33:29 (66.2 MB/s) - ‘VnCoreNLP-1.1.1.jar’ saved [27412575/27412575]\n",
            "\n",
            "--2021-12-22 12:33:29--  https://raw.githubusercontent.com/vncorenlp/VnCoreNLP/master/models/wordsegmenter/vi-vocab\n",
            "Resolving raw.githubusercontent.com (raw.githubusercontent.com)... 185.199.108.133, 185.199.111.133, 185.199.109.133, ...\n",
            "Connecting to raw.githubusercontent.com (raw.githubusercontent.com)|185.199.108.133|:443... connected.\n",
            "HTTP request sent, awaiting response... 200 OK\n",
            "Length: 526544 (514K) [application/octet-stream]\n",
            "Saving to: ‘vi-vocab’\n",
            "\n",
            "vi-vocab            100%[===================>] 514.20K  --.-KB/s    in 0.09s   \n",
            "\n",
            "2021-12-22 12:33:30 (5.57 MB/s) - ‘vi-vocab’ saved [526544/526544]\n",
            "\n",
            "--2021-12-22 12:33:30--  https://raw.githubusercontent.com/vncorenlp/VnCoreNLP/master/models/wordsegmenter/wordsegmenter.rdr\n",
            "Resolving raw.githubusercontent.com (raw.githubusercontent.com)... 185.199.108.133, 185.199.111.133, 185.199.109.133, ...\n",
            "Connecting to raw.githubusercontent.com (raw.githubusercontent.com)|185.199.108.133|:443... connected.\n",
            "HTTP request sent, awaiting response... 200 OK\n",
            "Length: 128508 (125K) [text/plain]\n",
            "Saving to: ‘wordsegmenter.rdr’\n",
            "\n",
            "wordsegmenter.rdr   100%[===================>] 125.50K  --.-KB/s    in 0.05s   \n",
            "\n",
            "2021-12-22 12:33:30 (2.25 MB/s) - ‘wordsegmenter.rdr’ saved [128508/128508]\n",
            "\n"
          ]
        }
      ]
    },
    {
      "cell_type": "code",
      "metadata": {
        "id": "zURLo-zxZwmi"
      },
      "source": [
        "from vncorenlp import VnCoreNLP\n",
        "\n",
        "vncorenlp = VnCoreNLP(\"vncorenlp/VnCoreNLP-1.1.1.jar\", annotators=\"wseg\", max_heap_size='-Xmx500m')"
      ],
      "execution_count": null,
      "outputs": []
    },
    {
      "cell_type": "code",
      "metadata": {
        "colab": {
          "base_uri": "https://localhost:8080/"
        },
        "id": "btu4n64C95wW",
        "outputId": "6496e91c-b59a-4ccc-bfa0-47d0e1808ef4"
      },
      "source": [
        "pip install pyvi"
      ],
      "execution_count": null,
      "outputs": [
        {
          "output_type": "stream",
          "name": "stdout",
          "text": [
            "Collecting pyvi\n",
            "  Downloading pyvi-0.1.1-py2.py3-none-any.whl (8.5 MB)\n",
            "\u001b[K     |████████████████████████████████| 8.5 MB 2.0 MB/s \n",
            "\u001b[?25hRequirement already satisfied: scikit-learn in /usr/local/lib/python3.7/dist-packages (from pyvi) (1.0.1)\n",
            "Collecting sklearn-crfsuite\n",
            "  Downloading sklearn_crfsuite-0.3.6-py2.py3-none-any.whl (12 kB)\n",
            "Requirement already satisfied: scipy>=1.1.0 in /usr/local/lib/python3.7/dist-packages (from scikit-learn->pyvi) (1.4.1)\n",
            "Requirement already satisfied: numpy>=1.14.6 in /usr/local/lib/python3.7/dist-packages (from scikit-learn->pyvi) (1.19.5)\n",
            "Requirement already satisfied: joblib>=0.11 in /usr/local/lib/python3.7/dist-packages (from scikit-learn->pyvi) (1.1.0)\n",
            "Requirement already satisfied: threadpoolctl>=2.0.0 in /usr/local/lib/python3.7/dist-packages (from scikit-learn->pyvi) (3.0.0)\n",
            "Collecting python-crfsuite>=0.8.3\n",
            "  Downloading python_crfsuite-0.9.7-cp37-cp37m-manylinux1_x86_64.whl (743 kB)\n",
            "\u001b[K     |████████████████████████████████| 743 kB 25.5 MB/s \n",
            "\u001b[?25hRequirement already satisfied: tqdm>=2.0 in /usr/local/lib/python3.7/dist-packages (from sklearn-crfsuite->pyvi) (4.62.3)\n",
            "Requirement already satisfied: tabulate in /usr/local/lib/python3.7/dist-packages (from sklearn-crfsuite->pyvi) (0.8.9)\n",
            "Requirement already satisfied: six in /usr/local/lib/python3.7/dist-packages (from sklearn-crfsuite->pyvi) (1.15.0)\n",
            "Installing collected packages: python-crfsuite, sklearn-crfsuite, pyvi\n",
            "Successfully installed python-crfsuite-0.9.7 pyvi-0.1.1 sklearn-crfsuite-0.3.6\n"
          ]
        }
      ]
    },
    {
      "cell_type": "code",
      "source": [
        "### Import ###\n",
        "import seaborn as sns\n",
        "import pandas as pd\n",
        "import matplotlib.pyplot as plt\n",
        "from pyvi.ViTokenizer import ViTokenizer\n",
        "import numpy as np \n",
        "import re\n",
        "import pickle\n",
        "import seaborn as sn\n",
        "from keras.layers import Input, Dense, Embedding, Conv2D, MaxPool2D\n",
        "from keras.layers import Reshape, Flatten, Dropout, Concatenate\n",
        "from keras.callbacks import ModelCheckpoint\n",
        "from tensorflow.keras.optimizers import Adam # - Works\n",
        "from keras.models import Model\n",
        "from tensorflow.keras.utils import to_categorical\n",
        "from keras.preprocessing import text, sequence\n",
        "from sklearn.metrics import f1_score, confusion_matrix, accuracy_score\n",
        "from sklearn.model_selection import train_test_split, StratifiedShuffleSplit\n",
        "from sklearn.feature_extraction.text import CountVectorizer\n",
        "from sklearn.feature_extraction.text import TfidfVectorizer\n",
        "import os"
      ],
      "metadata": {
        "id": "Sq0bthuPPL8z"
      },
      "execution_count": null,
      "outputs": []
    },
    {
      "cell_type": "markdown",
      "metadata": {
        "id": "GZjahAwCT9sZ"
      },
      "source": [
        "# Prepare DATA"
      ]
    },
    {
      "cell_type": "markdown",
      "metadata": {
        "id": "nt7TGdvVUPpN"
      },
      "source": [
        "##Load Data"
      ]
    },
    {
      "cell_type": "code",
      "metadata": {
        "id": "8OJnf-TGgrbp",
        "colab": {
          "base_uri": "https://localhost:8080/"
        },
        "outputId": "ebb313c2-a815-46e9-b076-210397a3bcd4"
      },
      "source": [
        "from google.colab import drive\n",
        "drive.mount('/content/drive')"
      ],
      "execution_count": null,
      "outputs": [
        {
          "output_type": "stream",
          "name": "stdout",
          "text": [
            "Mounted at /content/drive\n"
          ]
        }
      ]
    },
    {
      "cell_type": "code",
      "metadata": {
        "id": "zOzYGXe6UAs1",
        "colab": {
          "base_uri": "https://localhost:8080/"
        },
        "outputId": "8766f9cb-191d-4f50-fe4b-1877dae5bd33"
      },
      "source": [
        "train = pd.read_csv('/content/drive/MyDrive/hmtk_th_dataset/hate_speech/train.csv', index_col=False)\n",
        "test = pd.read_csv('/content/drive/MyDrive/hmtk_th_dataset/hate_speech/test.csv', index_col=False)\n",
        "dev = pd.read_csv('/content/drive/MyDrive/hmtk_th_dataset/hate_speech/dev.csv', index_col=False)\n",
        "\n",
        "train.reset_index(drop=True)\n",
        "print('Train \\n')\n",
        "print(train.head(10))\n",
        "print('\\n\\nDev \\n')\n",
        "print(dev.head(10))\n",
        "print('\\n\\nTest \\n')\n",
        "print(test.head(10))\n",
        "len(train.index) + len(test.index) + len(dev.index)"
      ],
      "execution_count": null,
      "outputs": [
        {
          "output_type": "stream",
          "name": "stdout",
          "text": [
            "Train \n",
            "\n",
            "                                           free_text  label_id\n",
            "0  Em được làm fan cứng luôn rồi nè ❤️ reaction q...         0\n",
            "1  Đúng là bọn mắt híp lò xo thụt :))) bên việt n...         2\n",
            "2           Đậu Văn Cường giờ giống thằng sida hơn à         0\n",
            "3  CÔN ĐỒ CỤC SÚC VÔ NHÂN TÍNH ĐỀ NGHI VN. NHÀ NƯ...         2\n",
            "4  Từ lý thuyết đến thực hành là cả 1 câu chuyện ...         0\n",
            "5                             Coronavirus is manmade         0\n",
            "6                              Đố chúng m nhận ra ai         0\n",
            "7                                  Lúp lúp như chó .         1\n",
            "8                                                🥰🥰🥰         0\n",
            "9  Thế mà mình nói mấy thằng bắc kì, bọn đó lại b...         2\n",
            "\n",
            "\n",
            "Dev \n",
            "\n",
            "                                           free_text  label_id\n",
            "0                                       Coi cười xỉu         0\n",
            "1                    Chi ba vang ngoc dep va tre mai         0\n",
            "2  Chần vần một đống, không ai đoán trước được đừ...         0\n",
            "3                              Du học sinh Úc mà lại         0\n",
            "4  Dm báo lá cải.. Nghĩ gì khi ở qn mà có hơn 30%...         0\n",
            "5  Mai Đoàn mới nãy không thấy ai rep cmt vừa rep...         0\n",
            "6                                              My su         0\n",
            "7  Muốn có 1 cô em trong bộ tộc cùng hợp tác để r...         0\n",
            "8                                        gays lên nn         0\n",
            "9  @Ngoc Quynh Nhu Nguyen Nó góp ý thì có ngon và...         2\n",
            "\n",
            "\n",
            "Test \n",
            "\n",
            "                                           free_text  label_id\n",
            "0                   Đừng cố biện minh =)))) choi lon         0\n",
            "1                    Haizz. Nthe này thì dân khổ quá         1\n",
            "2  the nay ma chi phat gay roi trat tu cong cong ...         0\n",
            "3              Mua cho em hộp bcs mĩ sài cho oai :))         0\n",
            "4                                       coin card :3         1\n",
            "5                 K có điểm dừng luôn hả trời ☹️☹️☹️         0\n",
            "6                                     cái gì thế :))         0\n",
            "7                                Chi ba Chui hay qua         0\n",
            "8                            Lê Văn Quật xin vid ông         0\n",
            "9                                 Lý khùng thì có,kk         0\n"
          ]
        },
        {
          "output_type": "execute_result",
          "data": {
            "text/plain": [
              "33400"
            ]
          },
          "metadata": {},
          "execution_count": 7
        }
      ]
    },
    {
      "cell_type": "code",
      "source": [
        "all=0\n",
        "print('\\nTrain')\n",
        "value_count=train['label_id'].value_counts()\n",
        "all+=value_count\n",
        "print(value_count)\n",
        "\n",
        "print('\\nDev')\n",
        "value_count=dev['label_id'].value_counts()\n",
        "all+=value_count\n",
        "print(value_count)\n",
        "\n",
        "print('\\nTest')\n",
        "value_count=test['label_id'].value_counts()\n",
        "all+=value_count\n",
        "print(value_count)\n",
        "\n",
        "print('\\nAll')\n",
        "print(all)"
      ],
      "metadata": {
        "colab": {
          "base_uri": "https://localhost:8080/"
        },
        "id": "Wylkmw45-1BS",
        "outputId": "4ae30dcc-810a-4ace-abe0-7e66fe12e85d"
      },
      "execution_count": null,
      "outputs": [
        {
          "output_type": "stream",
          "name": "stdout",
          "text": [
            "\n",
            "Train\n",
            "0    19886\n",
            "2     2556\n",
            "1     1606\n",
            "Name: label_id, dtype: int64\n",
            "\n",
            "Dev\n",
            "0    2190\n",
            "2     270\n",
            "1     212\n",
            "Name: label_id, dtype: int64\n",
            "\n",
            "Test\n",
            "0    5548\n",
            "2     688\n",
            "1     444\n",
            "Name: label_id, dtype: int64\n",
            "\n",
            "All\n",
            "0    27624\n",
            "2     3514\n",
            "1     2262\n",
            "Name: label_id, dtype: int64\n"
          ]
        }
      ]
    },
    {
      "cell_type": "code",
      "metadata": {
        "id": "qH5MAc8DvIc5",
        "colab": {
          "base_uri": "https://localhost:8080/",
          "height": 466
        },
        "outputId": "34724c0a-e44a-48e8-d53e-f5415d2a95ae"
      },
      "source": [
        "data = {len(train.index),len(test.index),len(dev.index)}\n",
        "df = pd.DataFrame(data,columns=['Dataset Division'],index = ['Train','Test','Dev'])\n",
        "\n",
        "df.plot.pie(y='Dataset Division',figsize=(8, 8),autopct='%1.1f%%', startangle=90)\n",
        "plt.show()"
      ],
      "execution_count": null,
      "outputs": [
        {
          "output_type": "display_data",
          "data": {
            "image/png": "[encoded data removed]",
            "text/plain": [
              "<Figure size 576x576 with 1 Axes>"
            ]
          },
          "metadata": {}
        }
      ]
    },
    {
      "cell_type": "code",
      "source": [
        "fig_train = sns.countplot(x= 'label_id',data = train)\n",
        "plt.title('Train Set Label Counts')\n",
        "plot_train = fig_train.get_figure()"
      ],
      "metadata": {
        "colab": {
          "base_uri": "https://localhost:8080/",
          "height": 296
        },
        "id": "Fo2b4QZAOOzz",
        "outputId": "f4eff373-5a98-4c03-aa14-1119bf519e3e"
      },
      "execution_count": null,
      "outputs": [
        {
          "output_type": "display_data",
          "data": {
            "image/png": "[encoded data removed]",
            "text/plain": [
              "<Figure size 432x288 with 1 Axes>"
            ]
          },
          "metadata": {
            "needs_background": "light"
          }
        }
      ]
    },
    {
      "cell_type": "code",
      "source": [
        "fig_train = sns.countplot(x= 'label_id',data = dev)\n",
        "plt.title('Dev Set Label Counts')\n",
        "plot_train = fig_train.get_figure()"
      ],
      "metadata": {
        "colab": {
          "base_uri": "https://localhost:8080/",
          "height": 296
        },
        "id": "GrkFXZ-JakEE",
        "outputId": "8ed95d7b-939e-4ab4-b9ab-0a28c331cb83"
      },
      "execution_count": null,
      "outputs": [
        {
          "output_type": "display_data",
          "data": {
            "image/png": "[encoded data removed]",
            "text/plain": [
              "<Figure size 432x288 with 1 Axes>"
            ]
          },
          "metadata": {
            "needs_background": "light"
          }
        }
      ]
    },
    {
      "cell_type": "code",
      "source": [
        "fig_test = sns.countplot(x= 'label_id',data = test)\n",
        "plt.title('Test Set Label Counts')\n",
        "plot_test = fig_test.get_figure()"
      ],
      "metadata": {
        "colab": {
          "base_uri": "https://localhost:8080/",
          "height": 296
        },
        "id": "FAbMi-ZmQcUj",
        "outputId": "d50714c6-eb6b-4dc3-89bf-cc0cf73d79b3"
      },
      "execution_count": null,
      "outputs": [
        {
          "output_type": "display_data",
          "data": {
            "image/png": "[encoded data removed]",
            "text/plain": [
              "<Figure size 432x288 with 1 Axes>"
            ]
          },
          "metadata": {
            "needs_background": "light"
          }
        }
      ]
    },
    {
      "cell_type": "markdown",
      "metadata": {
        "id": "dqiJv5i9UGcy"
      },
      "source": [
        "##Pre-process"
      ]
    },
    {
      "cell_type": "code",
      "metadata": {
        "id": "Ba3AsD9QUWQ0"
      },
      "source": [
        "for dirname, _, filenames in os.walk('/kaggle/input'):\n",
        "    for filename in filenames:\n",
        "        print(os.path.join(dirname, filename))\n",
        "\n",
        "STOPWORDS = '/content/drive/MyDrive/hmtk_th_dataset/hate_speech/vietnamese.txt'\n",
        "with open(STOPWORDS, \"r\") as ins:\n",
        "    stopwords = []\n",
        "    for line in ins:\n",
        "        dd = line.strip('\\n')\n",
        "        stopwords.append(dd)\n",
        "    stopwords = set(stopwords)\n",
        "\n",
        "def filter_stop_words(train_sentences, stop_words):\n",
        "    new_sent = [word for word in train_sentences.split() if word not in stop_words]\n",
        "    train_sentences = ' '.join(new_sent)\n",
        "    return train_sentences\n",
        "\n",
        "def deEmojify(text):\n",
        "    regrex_pattern = re.compile(\"[\"\n",
        "        u\"\\U0001F600-\\U0001F64F\"  # emoticons\n",
        "        u\"\\U0001F300-\\U0001F5FF\"  # symbols & pictographs\n",
        "        u\"\\U0001F680-\\U0001F6FF\"  # transport & map symbols\n",
        "        u\"\\U0001F1E0-\\U0001F1FF\"  # flags (iOS)\n",
        "        u\"\\U00002500-\\U00002BEF\"  # chinese char\n",
        "        u\"\\U00002702-\\U000027B0\"\n",
        "        u\"\\U00002702-\\U000027B0\"\n",
        "        u\"\\U000024C2-\\U0001F251\"\n",
        "        u\"\\U0001f926-\\U0001f937\"\n",
        "        u\"\\U00010000-\\U0010ffff\"\n",
        "        u\"\\u2640-\\u2642\" \n",
        "        u\"\\u2600-\\u2B55\"\n",
        "        u\"\\u200d\"\n",
        "        u\"\\u23cf\"\n",
        "        u\"\\u23e9\"\n",
        "        u\"\\u231a\"\n",
        "        u\"\\ufe0f\"  # dingbats\n",
        "        u\"\\u3030\"\n",
        "                      \"]+\", re.UNICODE)\n",
        "    return re.sub(regrex_pattern,'',text)\n",
        "\n",
        "def preprocess(text, tokenized=True, lowercased=True, no_stw=True):\n",
        "#    text = ViTokenizer.tokenize(text)\n",
        "#    text = ' '.join(vncorenlp.tokenize(text)[0])\n",
        "    if no_stw == True:\n",
        "        text = filter_stop_words(text, stopwords)\n",
        "    text = deEmojify(text)\n",
        "    text = re.sub('\\[.*?\\]', '', text) # remove square brackets\n",
        "    text = re.sub(r'[^\\w\\s]','',text) # remove punctuation\n",
        "    text = re.sub('\\w*\\d\\w*', '', text) # remove words containing numbers\n",
        "    text = re.sub(r'http\\S+', '', text)\n",
        "    text = text.lower() if lowercased else text\n",
        "    if tokenized:\n",
        "        pre_text = \"\"\n",
        "        sentences = vncorenlp.tokenize(text)\n",
        "        for sentence in sentences:\n",
        "            pre_text += \" \".join(sentence)\n",
        "        text = pre_text\n",
        "    return text\n",
        "\n",
        "def pre_process_features(X, y, tokenized=True, lowercased=True, no_stw=True):\n",
        "    X = [preprocess(str(p), tokenized=tokenized, lowercased=lowercased, no_stw=no_stw) for p in list(X)]\n",
        "    for idx, ele in enumerate(X):\n",
        "        if not ele:\n",
        "            np.delete(X, idx)\n",
        "            np.delete(y, idx) \n",
        "    return X, y\n",
        "\n",
        "\n",
        "\n",
        "X_train = train['free_text']\n",
        "y_train = train['label_id'].values\n",
        "X_temp = train['free_text']\n",
        "\n",
        "#X_dev = dev['free_text']\n",
        "#y_dev = dev['label_id'].values\n",
        "\n",
        "X_test = test['free_text']\n",
        "y_test = test['label_id'].values"
      ],
      "execution_count": null,
      "outputs": []
    },
    {
      "cell_type": "code",
      "metadata": {
        "id": "zWmBtDkNvmvQ"
      },
      "source": [
        "#X_train = [str(t) for t in X_train]\n",
        "#X_test = [str(t) for t in X_test]\n",
        "\n",
        "\n",
        "X_train, y_train = pre_process_features(X_train, y_train, tokenized=True, lowercased = True, no_stw=False)\n",
        "#dev_X, dev_y = pre_process_features(X_dev, y_dev, tokenized=True, lowercased = True)\n",
        "X_test, y_test = pre_process_features(X_test, y_test, tokenized=True, lowercased = True, no_stw=False)\n",
        "\n",
        "\n",
        "train_X, train_y = pre_process_features(X_train, y_train, tokenized=True, lowercased = True, no_stw=True)\n",
        "#dev_X, dev_y = pre_process_features(X_dev, y_dev, tokenized=True, lowercased = True)\n",
        "test_X, test_y = pre_process_features(X_test, y_test, tokenized=True, lowercased = True, no_stw=True)"
      ],
      "execution_count": null,
      "outputs": []
    },
    {
      "cell_type": "code",
      "source": [
        "# So sánh trước và sau khi tiền xử lý.\n",
        "list_of_tuples = list(zip(X_temp, train_X))\n",
        "compare_list = pd.DataFrame(list_of_tuples, columns = ['Original', 'Pre-processed'])\n",
        "compare_list"
      ],
      "metadata": {
        "id": "JrV2umu1A1Jm",
        "colab": {
          "base_uri": "https://localhost:8080/",
          "height": 424
        },
        "outputId": "6259f988-d54f-4d66-ce4a-72f91764bf82"
      },
      "execution_count": null,
      "outputs": [
        {
          "output_type": "execute_result",
          "data": {
            "text/html": [
              "\n",
              "  <div id=\"df-a73d5e1f-d279-4d99-abb8-7515d6c439c8\">\n",
              "    <div class=\"colab-df-container\">\n",
              "      <div>\n",
              "<style scoped>\n",
              "    .dataframe tbody tr th:only-of-type {\n",
              "        vertical-align: middle;\n",
              "    }\n",
              "\n",
              "    .dataframe tbody tr th {\n",
              "        vertical-align: top;\n",
              "    }\n",
              "\n",
              "    .dataframe thead th {\n",
              "        text-align: right;\n",
              "    }\n",
              "</style>\n",
              "<table border=\"1\" class=\"dataframe\">\n",
              "  <thead>\n",
              "    <tr style=\"text-align: right;\">\n",
              "      <th></th>\n",
              "      <th>Original</th>\n",
              "      <th>Pre-processed</th>\n",
              "    </tr>\n",
              "  </thead>\n",
              "  <tbody>\n",
              "    <tr>\n",
              "      <th>0</th>\n",
              "      <td>Em được làm fan cứng luôn rồi nè ❤️ reaction q...</td>\n",
              "      <td>fan cứng nè reaction cute coi mấy hợp _ lí</td>\n",
              "    </tr>\n",
              "    <tr>\n",
              "      <th>1</th>\n",
              "      <td>Đúng là bọn mắt híp lò xo thụt :))) bên việt n...</td>\n",
              "      <td>bọn mắt híp lò _ xo thụt việt _ nam t r bọn t ...</td>\n",
              "    </tr>\n",
              "    <tr>\n",
              "      <th>2</th>\n",
              "      <td>Đậu Văn Cường giờ giống thằng sida hơn à</td>\n",
              "      <td>đậu văn cường thằng sida</td>\n",
              "    </tr>\n",
              "    <tr>\n",
              "      <th>3</th>\n",
              "      <td>CÔN ĐỒ CỤC SÚC VÔ NHÂN TÍNH ĐỀ NGHI VN. NHÀ NƯ...</td>\n",
              "      <td>côn _ đồ cục _ súc vô _ nhân đề nghi vn nhà _ ...</td>\n",
              "    </tr>\n",
              "    <tr>\n",
              "      <th>4</th>\n",
              "      <td>Từ lý thuyết đến thực hành là cả 1 câu chuyện ...</td>\n",
              "      <td>lý _ thuyết thực _ hành câu _ chuyện</td>\n",
              "    </tr>\n",
              "    <tr>\n",
              "      <th>...</th>\n",
              "      <td>...</td>\n",
              "      <td>...</td>\n",
              "    </tr>\n",
              "    <tr>\n",
              "      <th>24043</th>\n",
              "      <td>Thả tim cho sự cống hiến của ngài</td>\n",
              "      <td>thả tim cống _ hiến ngài</td>\n",
              "    </tr>\n",
              "    <tr>\n",
              "      <th>24044</th>\n",
              "      <td>Thua !</td>\n",
              "      <td>thua</td>\n",
              "    </tr>\n",
              "    <tr>\n",
              "      <th>24045</th>\n",
              "      <td>Ở Việt Nam thì có khánh sky..hải ngoại có trần...</td>\n",
              "      <td>việt _ nam khánh skyhải ngoại trần danh _ hài ...</td>\n",
              "    </tr>\n",
              "    <tr>\n",
              "      <th>24046</th>\n",
              "      <td>1:22 ai lớp du chu cờ moo, Duyên dáng quá cô ơi</td>\n",
              "      <td>lớp du chu cờ moo duyên _ dáng</td>\n",
              "    </tr>\n",
              "    <tr>\n",
              "      <th>24047</th>\n",
              "      <td>Cụ này mắt mới cắt mý sao ta kkk đấy vnch đấy ...</td>\n",
              "      <td>cụ mắt cắt mý ta kkk đấy vnch đấy oai hoành ch...</td>\n",
              "    </tr>\n",
              "  </tbody>\n",
              "</table>\n",
              "<p>24048 rows × 2 columns</p>\n",
              "</div>\n",
              "      <button class=\"colab-df-convert\" onclick=\"convertToInteractive('df-a73d5e1f-d279-4d99-abb8-7515d6c439c8')\"\n",
              "              title=\"Convert this dataframe to an interactive table.\"\n",
              "              style=\"display:none;\">\n",
              "        \n",
              "  <svg xmlns=\"http://www.w3.org/2000/svg\" height=\"24px\"viewBox=\"0 0 24 24\"\n",
              "       width=\"24px\">\n",
              "    <path d=\"M0 0h24v24H0V0z\" fill=\"none\"/>\n",
              "    <path d=\"M18.56 5.44l.94 2.06.94-2.06 2.06-.94-2.06-.94-.94-2.06-.94 2.06-2.06.94zm-11 1L8.5 8.5l.94-2.06 2.06-.94-2.06-.94L8.5 2.5l-.94 2.06-2.06.94zm10 10l.94 2.06.94-2.06 2.06-.94-2.06-.94-.94-2.06-.94 2.06-2.06.94z\"/><path d=\"M17.41 7.96l-1.37-1.37c-.4-.4-.92-.59-1.43-.59-.52 0-1.04.2-1.43.59L10.3 9.45l-7.72 7.72c-.78.78-.78 2.05 0 2.83L4 21.41c.39.39.9.59 1.41.59.51 0 1.02-.2 1.41-.59l7.78-7.78 2.81-2.81c.8-.78.8-2.07 0-2.86zM5.41 20L4 18.59l7.72-7.72 1.47 1.35L5.41 20z\"/>\n",
              "  </svg>\n",
              "      </button>\n",
              "      \n",
              "  <style>\n",
              "    .colab-df-container {\n",
              "      display:flex;\n",
              "      flex-wrap:wrap;\n",
              "      gap: 12px;\n",
              "    }\n",
              "\n",
              "    .colab-df-convert {\n",
              "      background-color: #E8F0FE;\n",
              "      border: none;\n",
              "      border-radius: 50%;\n",
              "      cursor: pointer;\n",
              "      display: none;\n",
              "      fill: #1967D2;\n",
              "      height: 32px;\n",
              "      padding: 0 0 0 0;\n",
              "      width: 32px;\n",
              "    }\n",
              "\n",
              "    .colab-df-convert:hover {\n",
              "      background-color: #E2EBFA;\n",
              "      box-shadow: 0px 1px 2px rgba(60, 64, 67, 0.3), 0px 1px 3px 1px rgba(60, 64, 67, 0.15);\n",
              "      fill: #174EA6;\n",
              "    }\n",
              "\n",
              "    [theme=dark] .colab-df-convert {\n",
              "      background-color: #3B4455;\n",
              "      fill: #D2E3FC;\n",
              "    }\n",
              "\n",
              "    [theme=dark] .colab-df-convert:hover {\n",
              "      background-color: #434B5C;\n",
              "      box-shadow: 0px 1px 3px 1px rgba(0, 0, 0, 0.15);\n",
              "      filter: drop-shadow(0px 1px 2px rgba(0, 0, 0, 0.3));\n",
              "      fill: #FFFFFF;\n",
              "    }\n",
              "  </style>\n",
              "\n",
              "      <script>\n",
              "        const buttonEl =\n",
              "          document.querySelector('#df-a73d5e1f-d279-4d99-abb8-7515d6c439c8 button.colab-df-convert');\n",
              "        buttonEl.style.display =\n",
              "          google.colab.kernel.accessAllowed ? 'block' : 'none';\n",
              "\n",
              "        async function convertToInteractive(key) {\n",
              "          const element = document.querySelector('#df-a73d5e1f-d279-4d99-abb8-7515d6c439c8');\n",
              "          const dataTable =\n",
              "            await google.colab.kernel.invokeFunction('convertToInteractive',\n",
              "                                                     [key], {});\n",
              "          if (!dataTable) return;\n",
              "\n",
              "          const docLinkHtml = 'Like what you see? Visit the ' +\n",
              "            '<a target=\"_blank\" href=https://colab.research.google.com/notebooks/data_table.ipynb>data table notebook</a>'\n",
              "            + ' to learn more about interactive tables.';\n",
              "          element.innerHTML = '';\n",
              "          dataTable['output_type'] = 'display_data';\n",
              "          await google.colab.output.renderOutput(dataTable, element);\n",
              "          const docLink = document.createElement('div');\n",
              "          docLink.innerHTML = docLinkHtml;\n",
              "          element.appendChild(docLink);\n",
              "        }\n",
              "      </script>\n",
              "    </div>\n",
              "  </div>\n",
              "  "
            ],
            "text/plain": [
              "                                                Original                                      Pre-processed\n",
              "0      Em được làm fan cứng luôn rồi nè ❤️ reaction q...         fan cứng nè reaction cute coi mấy hợp _ lí\n",
              "1      Đúng là bọn mắt híp lò xo thụt :))) bên việt n...  bọn mắt híp lò _ xo thụt việt _ nam t r bọn t ...\n",
              "2               Đậu Văn Cường giờ giống thằng sida hơn à                           đậu văn cường thằng sida\n",
              "3      CÔN ĐỒ CỤC SÚC VÔ NHÂN TÍNH ĐỀ NGHI VN. NHÀ NƯ...  côn _ đồ cục _ súc vô _ nhân đề nghi vn nhà _ ...\n",
              "4      Từ lý thuyết đến thực hành là cả 1 câu chuyện ...               lý _ thuyết thực _ hành câu _ chuyện\n",
              "...                                                  ...                                                ...\n",
              "24043                  Thả tim cho sự cống hiến của ngài                           thả tim cống _ hiến ngài\n",
              "24044                                             Thua !                                               thua\n",
              "24045  Ở Việt Nam thì có khánh sky..hải ngoại có trần...  việt _ nam khánh skyhải ngoại trần danh _ hài ...\n",
              "24046    1:22 ai lớp du chu cờ moo, Duyên dáng quá cô ơi                     lớp du chu cờ moo duyên _ dáng\n",
              "24047  Cụ này mắt mới cắt mý sao ta kkk đấy vnch đấy ...  cụ mắt cắt mý ta kkk đấy vnch đấy oai hoành ch...\n",
              "\n",
              "[24048 rows x 2 columns]"
            ]
          },
          "metadata": {},
          "execution_count": 15
        }
      ]
    },
    {
      "cell_type": "code",
      "source": [
        "X_train[0:10]"
      ],
      "metadata": {
        "colab": {
          "base_uri": "https://localhost:8080/"
        },
        "id": "sKIKr9uxbsho",
        "outputId": "a9a1356a-715a-45c7-d143-b96ddbec721b"
      },
      "execution_count": null,
      "outputs": [
        {
          "output_type": "execute_result",
          "data": {
            "text/plain": [
              "['em được làm fan cứng luôn rồi nè reaction quá hay quá cute coi mấy giờ này quá hợp_lí',\n",
              " 'đúng là bọn mắt híp lò_xo thụt bên việt_nam t cái này ra cách đây năm r và bọn t gọi là cái l',\n",
              " 'đậu văn cường giờ giống thằng sida hơn à',\n",
              " 'côn_đồ cục_súc vô_nhân tính đề nghi vn nhà_nước vn ban thưởng',\n",
              " 'từ lý_thuyết đến thực_hành là cả câu_chuyện dài',\n",
              " 'coronavirus is manmade',\n",
              " 'đố chúng m nhận ra ai',\n",
              " 'lúp lúp như chó',\n",
              " '',\n",
              " 'thế_mà mình nói mấy thằng bắc kì bọn đó lại bâu vô nói mình phân biệtd']"
            ]
          },
          "metadata": {},
          "execution_count": 16
        }
      ]
    },
    {
      "cell_type": "code",
      "source": [
        "train_X[0:10]"
      ],
      "metadata": {
        "colab": {
          "base_uri": "https://localhost:8080/"
        },
        "id": "VQMsRzEAby47",
        "outputId": "2b4251b2-5bd4-433c-e598-a43bac39f8aa"
      },
      "execution_count": null,
      "outputs": [
        {
          "output_type": "execute_result",
          "data": {
            "text/plain": [
              "['fan cứng nè reaction cute coi mấy hợp _ lí',\n",
              " 'bọn mắt híp lò _ xo thụt việt _ nam t r bọn t gọi l',\n",
              " 'đậu văn cường thằng sida',\n",
              " 'côn _ đồ cục _ súc vô _ nhân đề nghi vn nhà _ nước vn ban thưởng',\n",
              " 'lý _ thuyết thực _ hành câu _ chuyện',\n",
              " 'coronavirus is manmade',\n",
              " 'đố m',\n",
              " 'lúp lúp chó',\n",
              " '',\n",
              " 'thế _ mà mấy thằng bắc kì bọn bâu vô phân biệtd']"
            ]
          },
          "metadata": {},
          "execution_count": 17
        }
      ]
    },
    {
      "cell_type": "code",
      "metadata": {
        "id": "B7U0IU5ULyU2",
        "colab": {
          "base_uri": "https://localhost:8080/"
        },
        "outputId": "82cd15bb-e81d-4807-bda1-6f4102b7c5d7"
      },
      "source": [
        "vectorizer = CountVectorizer()\n",
        "vectorizer.fit(X_train)\n",
        "\n",
        "vectorizer_nsw = CountVectorizer()\n",
        "vectorizer_nsw.fit(train_X)"
      ],
      "execution_count": null,
      "outputs": [
        {
          "output_type": "execute_result",
          "data": {
            "text/plain": [
              "CountVectorizer()"
            ]
          },
          "metadata": {},
          "execution_count": 18
        }
      ]
    },
    {
      "cell_type": "code",
      "metadata": {
        "id": "JN9zR1oTHRC_"
      },
      "source": [
        "## Encode but including stopwords\n",
        "\n",
        "X_train_encoded = vectorizer.transform(X_train)\n",
        "X_test_encoded = vectorizer.transform(X_test)"
      ],
      "execution_count": null,
      "outputs": []
    },
    {
      "cell_type": "code",
      "metadata": {
        "id": "NrEzMe53HOaU"
      },
      "source": [
        "## Encode but not including stopwords\n",
        "\n",
        "X_train_nsw_encoded = vectorizer_nsw.transform(train_X)\n",
        "X_test_nsw_encoded = vectorizer_nsw.transform(test_X)"
      ],
      "execution_count": null,
      "outputs": []
    },
    {
      "cell_type": "markdown",
      "metadata": {
        "id": "_91wBYkMlhSW"
      },
      "source": [
        "# Model"
      ]
    },
    {
      "cell_type": "markdown",
      "metadata": {
        "id": "UqTH3DwdaTAN"
      },
      "source": [
        "## Including stopwords"
      ]
    },
    {
      "cell_type": "markdown",
      "metadata": {
        "id": "r0hL3lmcbMen"
      },
      "source": [
        "### Naive Bayes\n",
        "\n"
      ]
    },
    {
      "cell_type": "code",
      "metadata": {
        "id": "63qAud7vbMfD",
        "colab": {
          "base_uri": "https://localhost:8080/"
        },
        "outputId": "dceaf84d-857f-478d-9892-010e76fe7437"
      },
      "source": [
        "from sklearn.naive_bayes import MultinomialNB\n",
        "NB = MultinomialNB()\n",
        "NB.fit(X_train_encoded, y_train)"
      ],
      "execution_count": null,
      "outputs": [
        {
          "output_type": "execute_result",
          "data": {
            "text/plain": [
              "MultinomialNB()"
            ]
          },
          "metadata": {},
          "execution_count": 21
        }
      ]
    },
    {
      "cell_type": "code",
      "metadata": {
        "id": "i5Man1WRbMfE"
      },
      "source": [
        "NB_y_pred = NB.predict(X_test_encoded)"
      ],
      "execution_count": null,
      "outputs": []
    },
    {
      "cell_type": "code",
      "metadata": {
        "id": "hJZA86R3bMfE",
        "colab": {
          "base_uri": "https://localhost:8080/"
        },
        "outputId": "936faf7b-a6c1-4c9f-ae59-628259c72a71"
      },
      "source": [
        "from sklearn.metrics import accuracy_score, precision_score, recall_score, f1_score, confusion_matrix, classification_report\n",
        "print(\"Accuracy: {}\".format(accuracy_score(y_test, NB_y_pred)))\n",
        "print(\"Precision: \",str(precision_score(y_test, NB_y_pred, average='macro')))\n",
        "print(\"Recall: \" + str(recall_score(y_test, NB_y_pred, average='macro')))\n",
        "print(\"F1 - micro: \" + str(f1_score(y_test, NB_y_pred, average='micro')))\n",
        "print(\"F1 - macro: \" + str(f1_score(y_test, NB_y_pred, average='macro')))\n",
        "\n",
        "cmNB = confusion_matrix(y_test, NB_y_pred)\n",
        "crNB = classification_report(y_test, NB_y_pred)"
      ],
      "execution_count": null,
      "outputs": [
        {
          "output_type": "stream",
          "name": "stdout",
          "text": [
            "Accuracy: 0.8600299401197605\n",
            "Precision:  0.6761765108778222\n",
            "Recall: 0.512328403964401\n",
            "F1 - micro: 0.8600299401197605\n",
            "F1 - macro: 0.5375741860455286\n"
          ]
        }
      ]
    },
    {
      "cell_type": "code",
      "metadata": {
        "id": "H_KvH9zGbMfF",
        "colab": {
          "base_uri": "https://localhost:8080/",
          "height": 279
        },
        "outputId": "92c1678d-9c37-405b-ce85-405137e1b0b2"
      },
      "source": [
        "import matplotlib.pyplot as plt\n",
        "import seaborn as sn\n",
        "\n",
        "sn.heatmap(cmNB, annot=True, cmap=\"Greys\",fmt='g', cbar=True, annot_kws={\"size\": 30})\n",
        "plt.ylabel('True Label')\n",
        "plt.xlabel('Predicted Label')\n",
        "plt.show()"
      ],
      "execution_count": null,
      "outputs": [
        {
          "output_type": "display_data",
          "data": {
            "image/png": "[encoded data removed]",
            "text/plain": [
              "<Figure size 432x288 with 2 Axes>"
            ]
          },
          "metadata": {
            "needs_background": "light"
          }
        }
      ]
    },
    {
      "cell_type": "markdown",
      "metadata": {
        "id": "wjgSBU6cbV9k"
      },
      "source": [
        "### Logistic Regression"
      ]
    },
    {
      "cell_type": "code",
      "metadata": {
        "id": "VxPEunUZbV9l",
        "colab": {
          "base_uri": "https://localhost:8080/"
        },
        "outputId": "325edc37-3694-447c-b395-966a36bfba4b"
      },
      "source": [
        "from sklearn.linear_model import LogisticRegression\n",
        "LR = LogisticRegression()\n",
        "LR.fit(X_train_encoded, y_train)"
      ],
      "execution_count": null,
      "outputs": [
        {
          "output_type": "stream",
          "name": "stderr",
          "text": [
            "/usr/local/lib/python3.7/dist-packages/sklearn/linear_model/_logistic.py:818: ConvergenceWarning: lbfgs failed to converge (status=1):\n",
            "STOP: TOTAL NO. of ITERATIONS REACHED LIMIT.\n",
            "\n",
            "Increase the number of iterations (max_iter) or scale the data as shown in:\n",
            "    https://scikit-learn.org/stable/modules/preprocessing.html\n",
            "Please also refer to the documentation for alternative solver options:\n",
            "    https://scikit-learn.org/stable/modules/linear_model.html#logistic-regression\n",
            "  extra_warning_msg=_LOGISTIC_SOLVER_CONVERGENCE_MSG,\n"
          ]
        },
        {
          "output_type": "execute_result",
          "data": {
            "text/plain": [
              "LogisticRegression()"
            ]
          },
          "metadata": {},
          "execution_count": 25
        }
      ]
    },
    {
      "cell_type": "code",
      "metadata": {
        "id": "O8UuZUkMbV9m"
      },
      "source": [
        "LR_y_pred=LR.predict(X_test_encoded)"
      ],
      "execution_count": null,
      "outputs": []
    },
    {
      "cell_type": "code",
      "metadata": {
        "id": "7cz_VDBjbV9n",
        "colab": {
          "base_uri": "https://localhost:8080/"
        },
        "outputId": "2ac29749-2ab5-41d0-bb0e-ce10d66fa795"
      },
      "source": [
        "from sklearn.metrics import accuracy_score, precision_score, recall_score, f1_score, confusion_matrix, classification_report\n",
        "print(\"Accuracy: {}\".format(accuracy_score(y_test, LR_y_pred)))\n",
        "print(\"Precision: \",str(precision_score(y_test, LR_y_pred, average='macro')))\n",
        "print(\"Recall: \" + str(recall_score(y_test, LR_y_pred, average='macro')))\n",
        "print(\"F1 - micro: \" + str(f1_score(y_test, LR_y_pred, average='micro')))\n",
        "print(\"F1 - macro: \" + str(f1_score(y_test, LR_y_pred, average='macro')))\n",
        "\n",
        "\n",
        "cmLR = confusion_matrix(y_test, LR_y_pred)\n",
        "crLR = classification_report(y_test, LR_y_pred)"
      ],
      "execution_count": null,
      "outputs": [
        {
          "output_type": "stream",
          "name": "stdout",
          "text": [
            "Accuracy: 0.8676646706586826\n",
            "Precision:  0.6971733658076186\n",
            "Recall: 0.5536035230414935\n",
            "F1 - micro: 0.8676646706586826\n",
            "F1 - macro: 0.5995392937482261\n"
          ]
        }
      ]
    },
    {
      "cell_type": "code",
      "metadata": {
        "id": "lROSf7RabV9n",
        "colab": {
          "base_uri": "https://localhost:8080/",
          "height": 279
        },
        "outputId": "095bfcbe-9b16-4c91-8357-a845ee6d81f6"
      },
      "source": [
        "import matplotlib.pyplot as plt\n",
        "import seaborn as sn\n",
        "\n",
        "sn.heatmap(cmLR, annot=True, cmap=\"Greys\",fmt='g', cbar=True, annot_kws={\"size\": 30})\n",
        "plt.ylabel('True Label')\n",
        "plt.xlabel('Predicted Label')\n",
        "\n",
        "plt.show()"
      ],
      "execution_count": null,
      "outputs": [
        {
          "output_type": "display_data",
          "data": {
            "image/png": "[encoded data removed]",
            "text/plain": [
              "<Figure size 432x288 with 2 Axes>"
            ]
          },
          "metadata": {
            "needs_background": "light"
          }
        }
      ]
    },
    {
      "cell_type": "markdown",
      "metadata": {
        "id": "dBPP0LWKba89"
      },
      "source": [
        "### Decision Tree"
      ]
    },
    {
      "cell_type": "code",
      "metadata": {
        "id": "Vu0CpQYyba8-"
      },
      "source": [
        "from sklearn import tree\n",
        "DST = tree.DecisionTreeClassifier()\n",
        "DST = DST.fit(X_train_encoded, y_train)"
      ],
      "execution_count": null,
      "outputs": []
    },
    {
      "cell_type": "code",
      "metadata": {
        "id": "8MzTGl2jba8_"
      },
      "source": [
        "DST_y_pred = DST.predict(X_test_encoded)"
      ],
      "execution_count": null,
      "outputs": []
    },
    {
      "cell_type": "code",
      "metadata": {
        "id": "9aQNE_yoba9A",
        "colab": {
          "base_uri": "https://localhost:8080/"
        },
        "outputId": "f2694331-7331-4548-cad3-23929df33c4f"
      },
      "source": [
        "from sklearn.metrics import accuracy_score, precision_score, recall_score, f1_score, confusion_matrix, classification_report\n",
        "print(\"Accuracy: {}\".format(accuracy_score(y_test, DST_y_pred)))\n",
        "print(\"Precision: \",str(precision_score(y_test, DST_y_pred, average='macro')))\n",
        "print(\"Recall: \" + str(recall_score(y_test, DST_y_pred, average='macro')))\n",
        "print(\"F1 - micro: \" + str(f1_score(y_test, DST_y_pred, average='micro')))\n",
        "print(\"F1 - macro: \" + str(f1_score(y_test, DST_y_pred, average='macro')))\n",
        "\n",
        "cmDST = confusion_matrix(y_test, DST_y_pred)\n",
        "crDST = classification_report(y_test, DST_y_pred)"
      ],
      "execution_count": null,
      "outputs": [
        {
          "output_type": "stream",
          "name": "stdout",
          "text": [
            "Accuracy: 0.8270958083832335\n",
            "Precision:  0.5541560338648854\n",
            "Recall: 0.5393672163469786\n",
            "F1 - micro: 0.8270958083832335\n",
            "F1 - macro: 0.5458037426855065\n"
          ]
        }
      ]
    },
    {
      "cell_type": "code",
      "metadata": {
        "id": "9k9ZNk8Wba9A",
        "colab": {
          "base_uri": "https://localhost:8080/",
          "height": 279
        },
        "outputId": "44f07100-37ff-4f19-e0a6-8f4d20c5f0bd"
      },
      "source": [
        "import matplotlib.pyplot as plt\n",
        "import seaborn as sn\n",
        "\n",
        "sn.heatmap(cmDST, annot=True, cmap=\"Greys\",fmt='g', cbar=True, annot_kws={\"size\": 30})\n",
        "plt.ylabel('True Label')\n",
        "plt.xlabel('Predicted Label')\n",
        "plt.show()"
      ],
      "execution_count": null,
      "outputs": [
        {
          "output_type": "display_data",
          "data": {
            "image/png": "[encoded data removed]",
            "text/plain": [
              "<Figure size 432x288 with 2 Axes>"
            ]
          },
          "metadata": {
            "needs_background": "light"
          }
        }
      ]
    },
    {
      "cell_type": "code",
      "source": [
        "pip install dtreeviz \n"
      ],
      "metadata": {
        "id": "OjTixBrmmV29",
        "colab": {
          "base_uri": "https://localhost:8080/"
        },
        "outputId": "3447382e-f363-46a2-d523-592987c9b07e"
      },
      "execution_count": null,
      "outputs": [
        {
          "output_type": "stream",
          "name": "stdout",
          "text": [
            "Collecting dtreeviz\n",
            "  Downloading dtreeviz-1.3.2.tar.gz (62 kB)\n",
            "\u001b[K     |████████████████████████████████| 62 kB 423 kB/s \n",
            "\u001b[?25hRequirement already satisfied: graphviz>=0.9 in /usr/local/lib/python3.7/dist-packages (from dtreeviz) (0.10.1)\n",
            "Requirement already satisfied: pandas in /usr/local/lib/python3.7/dist-packages (from dtreeviz) (1.1.5)\n",
            "Requirement already satisfied: numpy in /usr/local/lib/python3.7/dist-packages (from dtreeviz) (1.19.5)\n",
            "Requirement already satisfied: scikit-learn in /usr/local/lib/python3.7/dist-packages (from dtreeviz) (1.0.1)\n",
            "Requirement already satisfied: matplotlib in /usr/local/lib/python3.7/dist-packages (from dtreeviz) (3.2.2)\n",
            "Collecting colour\n",
            "  Downloading colour-0.1.5-py2.py3-none-any.whl (23 kB)\n",
            "Requirement already satisfied: pytest in /usr/local/lib/python3.7/dist-packages (from dtreeviz) (3.6.4)\n",
            "Requirement already satisfied: python-dateutil>=2.1 in /usr/local/lib/python3.7/dist-packages (from matplotlib->dtreeviz) (2.8.2)\n",
            "Requirement already satisfied: kiwisolver>=1.0.1 in /usr/local/lib/python3.7/dist-packages (from matplotlib->dtreeviz) (1.3.2)\n",
            "Requirement already satisfied: cycler>=0.10 in /usr/local/lib/python3.7/dist-packages (from matplotlib->dtreeviz) (0.11.0)\n",
            "Requirement already satisfied: pyparsing!=2.0.4,!=2.1.2,!=2.1.6,>=2.0.1 in /usr/local/lib/python3.7/dist-packages (from matplotlib->dtreeviz) (3.0.6)\n",
            "Requirement already satisfied: six>=1.5 in /usr/local/lib/python3.7/dist-packages (from python-dateutil>=2.1->matplotlib->dtreeviz) (1.15.0)\n",
            "Requirement already satisfied: pytz>=2017.2 in /usr/local/lib/python3.7/dist-packages (from pandas->dtreeviz) (2018.9)\n",
            "Requirement already satisfied: atomicwrites>=1.0 in /usr/local/lib/python3.7/dist-packages (from pytest->dtreeviz) (1.4.0)\n",
            "Requirement already satisfied: attrs>=17.4.0 in /usr/local/lib/python3.7/dist-packages (from pytest->dtreeviz) (21.2.0)\n",
            "Requirement already satisfied: pluggy<0.8,>=0.5 in /usr/local/lib/python3.7/dist-packages (from pytest->dtreeviz) (0.7.1)\n",
            "Requirement already satisfied: setuptools in /usr/local/lib/python3.7/dist-packages (from pytest->dtreeviz) (57.4.0)\n",
            "Requirement already satisfied: more-itertools>=4.0.0 in /usr/local/lib/python3.7/dist-packages (from pytest->dtreeviz) (8.12.0)\n",
            "Requirement already satisfied: py>=1.5.0 in /usr/local/lib/python3.7/dist-packages (from pytest->dtreeviz) (1.11.0)\n",
            "Requirement already satisfied: threadpoolctl>=2.0.0 in /usr/local/lib/python3.7/dist-packages (from scikit-learn->dtreeviz) (3.0.0)\n",
            "Requirement already satisfied: scipy>=1.1.0 in /usr/local/lib/python3.7/dist-packages (from scikit-learn->dtreeviz) (1.4.1)\n",
            "Requirement already satisfied: joblib>=0.11 in /usr/local/lib/python3.7/dist-packages (from scikit-learn->dtreeviz) (1.1.0)\n",
            "Building wheels for collected packages: dtreeviz\n",
            "  Building wheel for dtreeviz (setup.py) ... \u001b[?25l\u001b[?25hdone\n",
            "  Created wheel for dtreeviz: filename=dtreeviz-1.3.2-py3-none-any.whl size=67936 sha256=0e9ed4641481668450615745d81f623f0f2d1be50746dba41d65c396e2a9177f\n",
            "  Stored in directory: /root/.cache/pip/wheels/9d/29/a1/f2ad20de79875e749330d5c6234fc5f517991fcaa23d7a3d0f\n",
            "Successfully built dtreeviz\n",
            "Installing collected packages: colour, dtreeviz\n",
            "Successfully installed colour-0.1.5 dtreeviz-1.3.2\n"
          ]
        }
      ]
    },
    {
      "cell_type": "code",
      "source": [
        "import graphviz\n",
        "dot_data = tree.export_graphviz(DST, out_file=None, max_depth=15)\n",
        "graph = graphviz.Source(dot_data)\n",
        "graph.render(\"hate-speech-clf\")"
      ],
      "metadata": {
        "id": "QmbCissGmjSI",
        "colab": {
          "base_uri": "https://localhost:8080/",
          "height": 35
        },
        "outputId": "8fcc5ba7-7ddc-42c4-ee55-601ee303f832"
      },
      "execution_count": null,
      "outputs": [
        {
          "output_type": "execute_result",
          "data": {
            "application/vnd.google.colaboratory.intrinsic+json": {
              "type": "string"
            },
            "text/plain": [
              "'hate-speech-clf.pdf'"
            ]
          },
          "metadata": {},
          "execution_count": 35
        }
      ]
    },
    {
      "cell_type": "markdown",
      "metadata": {
        "id": "ZuSoi0rqbh-E"
      },
      "source": [
        "### Support Vector Machine"
      ]
    },
    {
      "cell_type": "code",
      "metadata": {
        "id": "AEJyRNJMbh-G",
        "colab": {
          "base_uri": "https://localhost:8080/"
        },
        "outputId": "7b3ac018-6960-43f1-b3bc-dca660f019ca"
      },
      "source": [
        "from sklearn import svm\n",
        "SVM = svm.SVC(decision_function_shape='ovo')\n",
        "SVM.fit(X_train_encoded, y_train) "
      ],
      "execution_count": null,
      "outputs": [
        {
          "output_type": "execute_result",
          "data": {
            "text/plain": [
              "SVC(decision_function_shape='ovo')"
            ]
          },
          "metadata": {},
          "execution_count": 36
        }
      ]
    },
    {
      "cell_type": "code",
      "metadata": {
        "id": "Hw3i7xksbh-H"
      },
      "source": [
        "SVM_y_pred = SVM.predict(X_test_encoded)"
      ],
      "execution_count": null,
      "outputs": []
    },
    {
      "cell_type": "code",
      "metadata": {
        "id": "4FCEPv-5bh-I",
        "colab": {
          "base_uri": "https://localhost:8080/"
        },
        "outputId": "83c160e5-54c6-4de2-a327-9eee6647f9eb"
      },
      "source": [
        "from sklearn.metrics import accuracy_score, precision_score, recall_score, f1_score, confusion_matrix, classification_report\n",
        "print(\"Accuracy: {}\".format(accuracy_score(y_test, SVM_y_pred)))\n",
        "print(\"Precision: \",str(precision_score(y_test, SVM_y_pred, average='macro')))\n",
        "print(\"Recall: \" + str(recall_score(y_test, SVM_y_pred, average='macro')))\n",
        "print(\"F1 - micro: \" + str(f1_score(y_test, SVM_y_pred, average='micro')))\n",
        "print(\"F1 - macro: \" + str(f1_score(y_test, SVM_y_pred, average='macro')))\n",
        "\n",
        "cmSVM = confusion_matrix(y_test, SVM_y_pred)\n",
        "crSVM = classification_report(y_test, SVM_y_pred)"
      ],
      "execution_count": null,
      "outputs": [
        {
          "output_type": "stream",
          "name": "stdout",
          "text": [
            "Accuracy: 0.8525449101796407\n",
            "Precision:  0.7267305861248342\n",
            "Recall: 0.43782243725759934\n",
            "F1 - micro: 0.8525449101796407\n",
            "F1 - macro: 0.47906729495096984\n"
          ]
        }
      ]
    },
    {
      "cell_type": "code",
      "metadata": {
        "id": "t_vkQ7vRbh-I",
        "colab": {
          "base_uri": "https://localhost:8080/",
          "height": 279
        },
        "outputId": "20fffd84-f304-4181-d9ed-e6e27cd24fe1"
      },
      "source": [
        "import matplotlib.pyplot as plt\n",
        "import seaborn as sn\n",
        "\n",
        "sn.heatmap(cmSVM, annot=True, cmap=\"Greys\",fmt='g', cbar=True, annot_kws={\"size\": 30})\n",
        "\n",
        "plt.ylabel('True Label')\n",
        "plt.xlabel('Predicted Label')\n",
        "plt.show()"
      ],
      "execution_count": null,
      "outputs": [
        {
          "output_type": "display_data",
          "data": {
            "image/png": "[encoded data removed]",
            "text/plain": [
              "<Figure size 432x288 with 2 Axes>"
            ]
          },
          "metadata": {
            "needs_background": "light"
          }
        }
      ]
    },
    {
      "cell_type": "markdown",
      "metadata": {
        "id": "jiZq7iAs7eK-"
      },
      "source": [
        "### Random Forest Classifier\n",
        "\n"
      ]
    },
    {
      "cell_type": "code",
      "metadata": {
        "id": "ElOmAlAI7eLJ",
        "colab": {
          "base_uri": "https://localhost:8080/"
        },
        "outputId": "3c866b3b-9afb-47a8-8da8-2a194bb1aeb2"
      },
      "source": [
        "from sklearn.ensemble import RandomForestClassifier\n",
        "\n",
        "RF_clf = RandomForestClassifier()\n",
        "RF_clf.fit(X_train_encoded, y_train)\n"
      ],
      "execution_count": null,
      "outputs": [
        {
          "output_type": "execute_result",
          "data": {
            "text/plain": [
              "RandomForestClassifier()"
            ]
          },
          "metadata": {},
          "execution_count": 40
        }
      ]
    },
    {
      "cell_type": "code",
      "metadata": {
        "id": "tkbWPnhL7eLK"
      },
      "source": [
        "RF_y_pred = RF_clf.predict(X_test_encoded)"
      ],
      "execution_count": null,
      "outputs": []
    },
    {
      "cell_type": "code",
      "metadata": {
        "id": "5rwNO2c17eLK",
        "colab": {
          "base_uri": "https://localhost:8080/"
        },
        "outputId": "90be2b57-616d-4341-d9ad-3fabde8d07c2"
      },
      "source": [
        "from sklearn.metrics import accuracy_score, precision_score, recall_score, f1_score, confusion_matrix, classification_report\n",
        "print(\"Accuracy: {}\".format(accuracy_score(y_test, RF_y_pred)))\n",
        "print(\"Precision: \",str(precision_score(y_test, RF_y_pred, average='macro')))\n",
        "print(\"Recall: \" + str(recall_score(y_test, RF_y_pred, average='macro')))\n",
        "print(\"F1 - micro: \" + str(f1_score(y_test, RF_y_pred, average='micro')))\n",
        "print(\"F1 - macro: \" + str(f1_score(y_test, RF_y_pred, average='macro')))\n",
        "\n",
        "\n",
        "cmRF = confusion_matrix(y_test, RF_y_pred)\n",
        "crRF = classification_report(y_test, RF_y_pred)"
      ],
      "execution_count": null,
      "outputs": [
        {
          "output_type": "stream",
          "name": "stdout",
          "text": [
            "Accuracy: 0.856437125748503\n",
            "Precision:  0.6684319288971808\n",
            "Recall: 0.5050242906090813\n",
            "F1 - micro: 0.856437125748503\n",
            "F1 - macro: 0.5490570107291394\n"
          ]
        }
      ]
    },
    {
      "cell_type": "code",
      "metadata": {
        "id": "LsR0oiAu7eLK",
        "colab": {
          "base_uri": "https://localhost:8080/",
          "height": 279
        },
        "outputId": "dee643c0-5439-4780-ed7f-021ee9e7b143"
      },
      "source": [
        "import matplotlib.pyplot as plt\n",
        "import seaborn as sn\n",
        "\n",
        "sn.heatmap(cmRF, annot=True, cmap=\"Greys\",fmt='g', cbar=True, annot_kws={\"size\": 30})\n",
        "plt.ylabel('True Label')\n",
        "plt.xlabel('Predicted Label')\n",
        "plt.show()"
      ],
      "execution_count": null,
      "outputs": [
        {
          "output_type": "display_data",
          "data": {
            "image/png": "[encoded data removed]",
            "text/plain": [
              "<Figure size 432x288 with 2 Axes>"
            ]
          },
          "metadata": {
            "needs_background": "light"
          }
        }
      ]
    },
    {
      "cell_type": "code",
      "source": [
        "## Test wrong case\n",
        "i=0\n",
        "for idx, text_input, prediction, label in zip(enumerate(X_test_encoded), X_test_encoded, RF_y_pred, y_test):\n",
        "    if prediction != label:\n",
        "        i+=1\n",
        "        print(\"No.\", idx[0], ', has been classified as', prediction, 'and should be', label) \n",
        "print(i)"
      ],
      "metadata": {
        "id": "P6E8qlaofco3",
        "colab": {
          "base_uri": "https://localhost:8080/"
        },
        "outputId": "8f40c484-b2c1-4c99-b0a5-8d3a879787d1"
      },
      "execution_count": null,
      "outputs": [
        {
          "output_type": "stream",
          "name": "stdout",
          "text": [
            "No. 0 , has been classified as 2 and should be 0\n",
            "No. 1 , has been classified as 0 and should be 1\n",
            "No. 4 , has been classified as 0 and should be 1\n",
            "No. 9 , has been classified as 1 and should be 0\n",
            "No. 22 , has been classified as 0 and should be 2\n",
            "No. 23 , has been classified as 0 and should be 2\n",
            "No. 32 , has been classified as 0 and should be 1\n",
            "No. 34 , has been classified as 0 and should be 1\n",
            "No. 42 , has been classified as 2 and should be 0\n",
            "No. 60 , has been classified as 0 and should be 1\n",
            "No. 64 , has been classified as 0 and should be 1\n",
            "No. 76 , has been classified as 0 and should be 2\n",
            "No. 109 , has been classified as 1 and should be 2\n",
            "No. 113 , has been classified as 0 and should be 2\n",
            "No. 129 , has been classified as 2 and should be 0\n",
            "No. 131 , has been classified as 0 and should be 2\n",
            "No. 136 , has been classified as 1 and should be 0\n",
            "No. 138 , has been classified as 1 and should be 0\n",
            "No. 142 , has been classified as 0 and should be 2\n",
            "No. 143 , has been classified as 0 and should be 2\n",
            "No. 144 , has been classified as 2 and should be 1\n",
            "No. 159 , has been classified as 2 and should be 1\n",
            "No. 172 , has been classified as 0 and should be 2\n",
            "No. 196 , has been classified as 0 and should be 2\n",
            "No. 197 , has been classified as 0 and should be 2\n",
            "No. 198 , has been classified as 0 and should be 2\n",
            "No. 207 , has been classified as 1 and should be 2\n",
            "No. 214 , has been classified as 0 and should be 1\n",
            "No. 216 , has been classified as 0 and should be 1\n",
            "No. 226 , has been classified as 0 and should be 1\n",
            "No. 227 , has been classified as 2 and should be 1\n",
            "No. 230 , has been classified as 0 and should be 2\n",
            "No. 231 , has been classified as 0 and should be 2\n",
            "No. 234 , has been classified as 0 and should be 2\n",
            "No. 235 , has been classified as 0 and should be 2\n",
            "No. 248 , has been classified as 0 and should be 1\n",
            "No. 254 , has been classified as 1 and should be 2\n",
            "No. 259 , has been classified as 0 and should be 1\n",
            "No. 272 , has been classified as 0 and should be 2\n",
            "No. 273 , has been classified as 0 and should be 2\n",
            "No. 278 , has been classified as 0 and should be 1\n",
            "No. 304 , has been classified as 0 and should be 2\n",
            "No. 309 , has been classified as 1 and should be 0\n",
            "No. 316 , has been classified as 0 and should be 2\n",
            "No. 320 , has been classified as 1 and should be 0\n",
            "No. 333 , has been classified as 0 and should be 1\n",
            "No. 335 , has been classified as 0 and should be 1\n",
            "No. 342 , has been classified as 0 and should be 2\n",
            "No. 360 , has been classified as 0 and should be 2\n",
            "No. 370 , has been classified as 0 and should be 2\n",
            "No. 371 , has been classified as 0 and should be 2\n",
            "No. 384 , has been classified as 0 and should be 2\n",
            "No. 395 , has been classified as 0 and should be 2\n",
            "No. 419 , has been classified as 0 and should be 1\n",
            "No. 425 , has been classified as 0 and should be 2\n",
            "No. 426 , has been classified as 0 and should be 1\n",
            "No. 434 , has been classified as 0 and should be 1\n",
            "No. 439 , has been classified as 0 and should be 2\n",
            "No. 460 , has been classified as 0 and should be 2\n",
            "No. 485 , has been classified as 0 and should be 1\n",
            "No. 491 , has been classified as 0 and should be 2\n",
            "No. 495 , has been classified as 0 and should be 1\n",
            "No. 499 , has been classified as 0 and should be 2\n",
            "No. 504 , has been classified as 0 and should be 2\n",
            "No. 510 , has been classified as 0 and should be 2\n",
            "No. 513 , has been classified as 0 and should be 1\n",
            "No. 516 , has been classified as 0 and should be 2\n",
            "No. 530 , has been classified as 0 and should be 1\n",
            "No. 539 , has been classified as 0 and should be 1\n",
            "No. 552 , has been classified as 0 and should be 2\n",
            "No. 558 , has been classified as 0 and should be 2\n",
            "No. 566 , has been classified as 0 and should be 1\n",
            "No. 571 , has been classified as 0 and should be 2\n",
            "No. 593 , has been classified as 0 and should be 2\n",
            "No. 599 , has been classified as 0 and should be 2\n",
            "No. 603 , has been classified as 0 and should be 1\n",
            "No. 604 , has been classified as 0 and should be 2\n",
            "No. 605 , has been classified as 0 and should be 1\n",
            "No. 606 , has been classified as 2 and should be 0\n",
            "No. 607 , has been classified as 0 and should be 1\n",
            "No. 611 , has been classified as 1 and should be 2\n",
            "No. 613 , has been classified as 2 and should be 1\n",
            "No. 614 , has been classified as 0 and should be 1\n",
            "No. 616 , has been classified as 0 and should be 2\n",
            "No. 622 , has been classified as 0 and should be 1\n",
            "No. 624 , has been classified as 0 and should be 2\n",
            "No. 629 , has been classified as 0 and should be 2\n",
            "No. 634 , has been classified as 0 and should be 1\n",
            "No. 637 , has been classified as 2 and should be 0\n",
            "No. 647 , has been classified as 0 and should be 1\n",
            "No. 653 , has been classified as 0 and should be 2\n",
            "No. 663 , has been classified as 2 and should be 1\n",
            "No. 674 , has been classified as 0 and should be 1\n",
            "No. 684 , has been classified as 0 and should be 2\n",
            "No. 704 , has been classified as 0 and should be 1\n",
            "No. 705 , has been classified as 0 and should be 2\n",
            "No. 707 , has been classified as 0 and should be 2\n",
            "No. 708 , has been classified as 0 and should be 1\n",
            "No. 709 , has been classified as 0 and should be 1\n",
            "No. 717 , has been classified as 0 and should be 1\n",
            "No. 724 , has been classified as 0 and should be 2\n",
            "No. 729 , has been classified as 0 and should be 1\n",
            "No. 730 , has been classified as 0 and should be 2\n",
            "No. 739 , has been classified as 0 and should be 2\n",
            "No. 742 , has been classified as 0 and should be 2\n",
            "No. 750 , has been classified as 0 and should be 2\n",
            "No. 751 , has been classified as 0 and should be 1\n",
            "No. 758 , has been classified as 2 and should be 0\n",
            "No. 763 , has been classified as 2 and should be 1\n",
            "No. 765 , has been classified as 0 and should be 2\n",
            "No. 772 , has been classified as 0 and should be 2\n",
            "No. 778 , has been classified as 0 and should be 2\n",
            "No. 787 , has been classified as 2 and should be 1\n",
            "No. 807 , has been classified as 0 and should be 1\n",
            "No. 824 , has been classified as 0 and should be 1\n",
            "No. 825 , has been classified as 1 and should be 0\n",
            "No. 827 , has been classified as 0 and should be 1\n",
            "No. 831 , has been classified as 0 and should be 1\n",
            "No. 834 , has been classified as 0 and should be 1\n",
            "No. 835 , has been classified as 0 and should be 1\n",
            "No. 837 , has been classified as 0 and should be 1\n",
            "No. 844 , has been classified as 0 and should be 2\n",
            "No. 847 , has been classified as 0 and should be 2\n",
            "No. 865 , has been classified as 0 and should be 2\n",
            "No. 868 , has been classified as 0 and should be 2\n",
            "No. 872 , has been classified as 0 and should be 2\n",
            "No. 894 , has been classified as 0 and should be 2\n",
            "No. 896 , has been classified as 2 and should be 1\n",
            "No. 915 , has been classified as 1 and should be 0\n",
            "No. 919 , has been classified as 0 and should be 1\n",
            "No. 925 , has been classified as 0 and should be 1\n",
            "No. 926 , has been classified as 1 and should be 0\n",
            "No. 934 , has been classified as 0 and should be 1\n",
            "No. 936 , has been classified as 0 and should be 2\n",
            "No. 937 , has been classified as 0 and should be 2\n",
            "No. 941 , has been classified as 1 and should be 2\n",
            "No. 945 , has been classified as 2 and should be 0\n",
            "No. 949 , has been classified as 0 and should be 2\n",
            "No. 950 , has been classified as 0 and should be 2\n",
            "No. 958 , has been classified as 0 and should be 2\n",
            "No. 960 , has been classified as 0 and should be 1\n",
            "No. 963 , has been classified as 0 and should be 2\n",
            "No. 965 , has been classified as 0 and should be 1\n",
            "No. 973 , has been classified as 0 and should be 2\n",
            "No. 979 , has been classified as 0 and should be 2\n",
            "No. 998 , has been classified as 0 and should be 1\n",
            "No. 1002 , has been classified as 0 and should be 1\n",
            "No. 1021 , has been classified as 0 and should be 1\n",
            "No. 1026 , has been classified as 0 and should be 2\n",
            "No. 1036 , has been classified as 2 and should be 0\n",
            "No. 1042 , has been classified as 0 and should be 1\n",
            "No. 1045 , has been classified as 0 and should be 2\n",
            "No. 1049 , has been classified as 0 and should be 1\n",
            "No. 1062 , has been classified as 0 and should be 1\n",
            "No. 1064 , has been classified as 0 and should be 2\n",
            "No. 1070 , has been classified as 1 and should be 0\n",
            "No. 1080 , has been classified as 0 and should be 2\n",
            "No. 1086 , has been classified as 1 and should be 2\n",
            "No. 1096 , has been classified as 0 and should be 1\n",
            "No. 1099 , has been classified as 1 and should be 0\n",
            "No. 1130 , has been classified as 0 and should be 2\n",
            "No. 1133 , has been classified as 0 and should be 2\n",
            "No. 1136 , has been classified as 0 and should be 2\n",
            "No. 1146 , has been classified as 1 and should be 2\n",
            "No. 1147 , has been classified as 0 and should be 2\n",
            "No. 1155 , has been classified as 0 and should be 2\n",
            "No. 1162 , has been classified as 0 and should be 2\n",
            "No. 1188 , has been classified as 0 and should be 2\n",
            "No. 1195 , has been classified as 1 and should be 0\n",
            "No. 1198 , has been classified as 0 and should be 2\n",
            "No. 1223 , has been classified as 0 and should be 1\n",
            "No. 1225 , has been classified as 0 and should be 2\n",
            "No. 1226 , has been classified as 1 and should be 0\n",
            "No. 1229 , has been classified as 0 and should be 2\n",
            "No. 1236 , has been classified as 0 and should be 2\n",
            "No. 1242 , has been classified as 0 and should be 2\n",
            "No. 1247 , has been classified as 0 and should be 2\n",
            "No. 1248 , has been classified as 0 and should be 2\n",
            "No. 1249 , has been classified as 0 and should be 2\n",
            "No. 1256 , has been classified as 0 and should be 2\n",
            "No. 1281 , has been classified as 0 and should be 2\n",
            "No. 1285 , has been classified as 0 and should be 1\n",
            "No. 1290 , has been classified as 1 and should be 0\n",
            "No. 1291 , has been classified as 0 and should be 2\n",
            "No. 1300 , has been classified as 0 and should be 1\n",
            "No. 1305 , has been classified as 0 and should be 2\n",
            "No. 1309 , has been classified as 0 and should be 2\n",
            "No. 1310 , has been classified as 1 and should be 0\n",
            "No. 1311 , has been classified as 0 and should be 1\n",
            "No. 1315 , has been classified as 2 and should be 0\n",
            "No. 1331 , has been classified as 0 and should be 2\n",
            "No. 1333 , has been classified as 1 and should be 0\n",
            "No. 1334 , has been classified as 0 and should be 2\n",
            "No. 1346 , has been classified as 0 and should be 1\n",
            "No. 1347 , has been classified as 0 and should be 1\n",
            "No. 1349 , has been classified as 0 and should be 2\n",
            "No. 1353 , has been classified as 0 and should be 2\n",
            "No. 1359 , has been classified as 0 and should be 1\n",
            "No. 1365 , has been classified as 0 and should be 2\n",
            "No. 1367 , has been classified as 0 and should be 1\n",
            "No. 1375 , has been classified as 0 and should be 2\n",
            "No. 1381 , has been classified as 1 and should be 0\n",
            "No. 1387 , has been classified as 2 and should be 1\n",
            "No. 1388 , has been classified as 0 and should be 2\n",
            "No. 1400 , has been classified as 0 and should be 1\n",
            "No. 1421 , has been classified as 0 and should be 1\n",
            "No. 1423 , has been classified as 0 and should be 1\n",
            "No. 1424 , has been classified as 0 and should be 2\n",
            "No. 1430 , has been classified as 0 and should be 1\n",
            "No. 1433 , has been classified as 0 and should be 2\n",
            "No. 1442 , has been classified as 0 and should be 2\n",
            "No. 1447 , has been classified as 0 and should be 1\n",
            "No. 1456 , has been classified as 2 and should be 1\n",
            "No. 1465 , has been classified as 0 and should be 1\n",
            "No. 1466 , has been classified as 0 and should be 2\n",
            "No. 1468 , has been classified as 0 and should be 2\n",
            "No. 1475 , has been classified as 0 and should be 2\n",
            "No. 1476 , has been classified as 1 and should be 0\n",
            "No. 1483 , has been classified as 0 and should be 2\n",
            "No. 1488 , has been classified as 0 and should be 1\n",
            "No. 1490 , has been classified as 0 and should be 1\n",
            "No. 1491 , has been classified as 2 and should be 1\n",
            "No. 1493 , has been classified as 0 and should be 2\n",
            "No. 1497 , has been classified as 0 and should be 1\n",
            "No. 1500 , has been classified as 0 and should be 1\n",
            "No. 1503 , has been classified as 2 and should be 1\n",
            "No. 1507 , has been classified as 0 and should be 1\n",
            "No. 1511 , has been classified as 0 and should be 2\n",
            "No. 1517 , has been classified as 1 and should be 2\n",
            "No. 1525 , has been classified as 0 and should be 2\n",
            "No. 1539 , has been classified as 0 and should be 2\n",
            "No. 1541 , has been classified as 0 and should be 1\n",
            "No. 1545 , has been classified as 0 and should be 1\n",
            "No. 1549 , has been classified as 0 and should be 2\n",
            "No. 1552 , has been classified as 0 and should be 2\n",
            "No. 1556 , has been classified as 0 and should be 1\n",
            "No. 1573 , has been classified as 1 and should be 2\n",
            "No. 1592 , has been classified as 0 and should be 1\n",
            "No. 1593 , has been classified as 2 and should be 1\n",
            "No. 1595 , has been classified as 0 and should be 2\n",
            "No. 1601 , has been classified as 0 and should be 1\n",
            "No. 1605 , has been classified as 0 and should be 1\n",
            "No. 1611 , has been classified as 0 and should be 2\n",
            "No. 1628 , has been classified as 0 and should be 2\n",
            "No. 1639 , has been classified as 0 and should be 2\n",
            "No. 1643 , has been classified as 1 and should be 2\n",
            "No. 1645 , has been classified as 0 and should be 1\n",
            "No. 1646 , has been classified as 0 and should be 1\n",
            "No. 1647 , has been classified as 0 and should be 1\n",
            "No. 1652 , has been classified as 0 and should be 2\n",
            "No. 1662 , has been classified as 1 and should be 2\n",
            "No. 1666 , has been classified as 1 and should be 2\n",
            "No. 1677 , has been classified as 1 and should be 0\n",
            "No. 1702 , has been classified as 0 and should be 1\n",
            "No. 1706 , has been classified as 0 and should be 2\n",
            "No. 1707 , has been classified as 1 and should be 2\n",
            "No. 1713 , has been classified as 1 and should be 0\n",
            "No. 1719 , has been classified as 2 and should be 1\n",
            "No. 1720 , has been classified as 0 and should be 1\n",
            "No. 1724 , has been classified as 1 and should be 0\n",
            "No. 1725 , has been classified as 1 and should be 2\n",
            "No. 1733 , has been classified as 0 and should be 2\n",
            "No. 1746 , has been classified as 1 and should be 0\n",
            "No. 1748 , has been classified as 0 and should be 1\n",
            "No. 1749 , has been classified as 0 and should be 1\n",
            "No. 1751 , has been classified as 0 and should be 2\n",
            "No. 1752 , has been classified as 2 and should be 0\n",
            "No. 1757 , has been classified as 2 and should be 1\n",
            "No. 1758 , has been classified as 2 and should be 1\n",
            "No. 1767 , has been classified as 0 and should be 2\n",
            "No. 1769 , has been classified as 1 and should be 0\n",
            "No. 1785 , has been classified as 0 and should be 1\n",
            "No. 1807 , has been classified as 0 and should be 2\n",
            "No. 1827 , has been classified as 0 and should be 1\n",
            "No. 1835 , has been classified as 0 and should be 2\n",
            "No. 1836 , has been classified as 0 and should be 1\n",
            "No. 1837 , has been classified as 0 and should be 2\n",
            "No. 1841 , has been classified as 0 and should be 2\n",
            "No. 1856 , has been classified as 0 and should be 2\n",
            "No. 1869 , has been classified as 0 and should be 2\n",
            "No. 1871 , has been classified as 2 and should be 0\n",
            "No. 1874 , has been classified as 0 and should be 2\n",
            "No. 1881 , has been classified as 0 and should be 2\n",
            "No. 1886 , has been classified as 0 and should be 2\n",
            "No. 1888 , has been classified as 0 and should be 2\n",
            "No. 1913 , has been classified as 0 and should be 2\n",
            "No. 1919 , has been classified as 0 and should be 1\n",
            "No. 1924 , has been classified as 0 and should be 1\n",
            "No. 1925 , has been classified as 0 and should be 2\n",
            "No. 1937 , has been classified as 0 and should be 2\n",
            "No. 1951 , has been classified as 1 and should be 2\n",
            "No. 1955 , has been classified as 0 and should be 2\n",
            "No. 1971 , has been classified as 1 and should be 0\n",
            "No. 1976 , has been classified as 0 and should be 1\n",
            "No. 1991 , has been classified as 0 and should be 2\n",
            "No. 1996 , has been classified as 1 and should be 2\n",
            "No. 2006 , has been classified as 0 and should be 2\n",
            "No. 2008 , has been classified as 0 and should be 1\n",
            "No. 2010 , has been classified as 0 and should be 2\n",
            "No. 2026 , has been classified as 0 and should be 2\n",
            "No. 2027 , has been classified as 0 and should be 1\n",
            "No. 2046 , has been classified as 2 and should be 0\n",
            "No. 2052 , has been classified as 0 and should be 1\n",
            "No. 2057 , has been classified as 1 and should be 2\n",
            "No. 2060 , has been classified as 1 and should be 2\n",
            "No. 2062 , has been classified as 0 and should be 2\n",
            "No. 2077 , has been classified as 1 and should be 0\n",
            "No. 2082 , has been classified as 0 and should be 1\n",
            "No. 2093 , has been classified as 1 and should be 2\n",
            "No. 2098 , has been classified as 1 and should be 2\n",
            "No. 2102 , has been classified as 0 and should be 2\n",
            "No. 2114 , has been classified as 0 and should be 1\n",
            "No. 2128 , has been classified as 0 and should be 1\n",
            "No. 2133 , has been classified as 1 and should be 2\n",
            "No. 2135 , has been classified as 0 and should be 2\n",
            "No. 2141 , has been classified as 1 and should be 0\n",
            "No. 2142 , has been classified as 0 and should be 1\n",
            "No. 2144 , has been classified as 0 and should be 2\n",
            "No. 2155 , has been classified as 0 and should be 2\n",
            "No. 2163 , has been classified as 0 and should be 1\n",
            "No. 2176 , has been classified as 0 and should be 1\n",
            "No. 2190 , has been classified as 0 and should be 1\n",
            "No. 2193 , has been classified as 0 and should be 2\n",
            "No. 2204 , has been classified as 0 and should be 1\n",
            "No. 2206 , has been classified as 2 and should be 1\n",
            "No. 2241 , has been classified as 0 and should be 2\n",
            "No. 2244 , has been classified as 0 and should be 2\n",
            "No. 2249 , has been classified as 0 and should be 2\n",
            "No. 2259 , has been classified as 0 and should be 2\n",
            "No. 2268 , has been classified as 0 and should be 2\n",
            "No. 2275 , has been classified as 0 and should be 2\n",
            "No. 2276 , has been classified as 1 and should be 0\n",
            "No. 2280 , has been classified as 2 and should be 1\n",
            "No. 2285 , has been classified as 0 and should be 1\n",
            "No. 2288 , has been classified as 0 and should be 2\n",
            "No. 2296 , has been classified as 2 and should be 0\n",
            "No. 2300 , has been classified as 0 and should be 2\n",
            "No. 2303 , has been classified as 0 and should be 2\n",
            "No. 2305 , has been classified as 0 and should be 1\n",
            "No. 2319 , has been classified as 1 and should be 0\n",
            "No. 2325 , has been classified as 0 and should be 1\n",
            "No. 2342 , has been classified as 0 and should be 2\n",
            "No. 2349 , has been classified as 0 and should be 2\n",
            "No. 2353 , has been classified as 0 and should be 1\n",
            "No. 2355 , has been classified as 0 and should be 1\n",
            "No. 2366 , has been classified as 0 and should be 2\n",
            "No. 2372 , has been classified as 0 and should be 2\n",
            "No. 2391 , has been classified as 0 and should be 1\n",
            "No. 2396 , has been classified as 0 and should be 1\n",
            "No. 2399 , has been classified as 0 and should be 2\n",
            "No. 2411 , has been classified as 0 and should be 1\n",
            "No. 2415 , has been classified as 1 and should be 2\n",
            "No. 2422 , has been classified as 0 and should be 1\n",
            "No. 2431 , has been classified as 0 and should be 1\n",
            "No. 2446 , has been classified as 0 and should be 1\n",
            "No. 2462 , has been classified as 1 and should be 0\n",
            "No. 2467 , has been classified as 1 and should be 0\n",
            "No. 2468 , has been classified as 0 and should be 2\n",
            "No. 2492 , has been classified as 0 and should be 2\n",
            "No. 2504 , has been classified as 0 and should be 2\n",
            "No. 2505 , has been classified as 0 and should be 1\n",
            "No. 2520 , has been classified as 0 and should be 2\n",
            "No. 2529 , has been classified as 0 and should be 2\n",
            "No. 2531 , has been classified as 0 and should be 2\n",
            "No. 2535 , has been classified as 0 and should be 2\n",
            "No. 2545 , has been classified as 0 and should be 1\n",
            "No. 2548 , has been classified as 2 and should be 0\n",
            "No. 2551 , has been classified as 0 and should be 1\n",
            "No. 2568 , has been classified as 0 and should be 2\n",
            "No. 2570 , has been classified as 0 and should be 2\n",
            "No. 2579 , has been classified as 0 and should be 1\n",
            "No. 2592 , has been classified as 0 and should be 1\n",
            "No. 2596 , has been classified as 0 and should be 2\n",
            "No. 2601 , has been classified as 0 and should be 2\n",
            "No. 2607 , has been classified as 0 and should be 1\n",
            "No. 2617 , has been classified as 0 and should be 2\n",
            "No. 2627 , has been classified as 1 and should be 2\n",
            "No. 2628 , has been classified as 0 and should be 1\n",
            "No. 2630 , has been classified as 0 and should be 1\n",
            "No. 2641 , has been classified as 0 and should be 2\n",
            "No. 2651 , has been classified as 1 and should be 2\n",
            "No. 2653 , has been classified as 0 and should be 2\n",
            "No. 2666 , has been classified as 0 and should be 1\n",
            "No. 2667 , has been classified as 2 and should be 0\n",
            "No. 2670 , has been classified as 1 and should be 0\n",
            "No. 2684 , has been classified as 0 and should be 2\n",
            "No. 2700 , has been classified as 1 and should be 0\n",
            "No. 2714 , has been classified as 0 and should be 1\n",
            "No. 2722 , has been classified as 0 and should be 1\n",
            "No. 2723 , has been classified as 0 and should be 2\n",
            "No. 2725 , has been classified as 2 and should be 0\n",
            "No. 2728 , has been classified as 0 and should be 2\n",
            "No. 2734 , has been classified as 0 and should be 1\n",
            "No. 2735 , has been classified as 0 and should be 1\n",
            "No. 2736 , has been classified as 0 and should be 1\n",
            "No. 2737 , has been classified as 0 and should be 2\n",
            "No. 2748 , has been classified as 0 and should be 2\n",
            "No. 2752 , has been classified as 2 and should be 1\n",
            "No. 2754 , has been classified as 0 and should be 2\n",
            "No. 2760 , has been classified as 1 and should be 0\n",
            "No. 2766 , has been classified as 0 and should be 2\n",
            "No. 2767 , has been classified as 0 and should be 1\n",
            "No. 2768 , has been classified as 0 and should be 2\n",
            "No. 2775 , has been classified as 0 and should be 1\n",
            "No. 2779 , has been classified as 0 and should be 1\n",
            "No. 2781 , has been classified as 0 and should be 1\n",
            "No. 2788 , has been classified as 0 and should be 2\n",
            "No. 2805 , has been classified as 0 and should be 2\n",
            "No. 2809 , has been classified as 0 and should be 1\n",
            "No. 2810 , has been classified as 0 and should be 1\n",
            "No. 2814 , has been classified as 1 and should be 0\n",
            "No. 2817 , has been classified as 0 and should be 2\n",
            "No. 2845 , has been classified as 0 and should be 2\n",
            "No. 2847 , has been classified as 0 and should be 1\n",
            "No. 2850 , has been classified as 0 and should be 2\n",
            "No. 2859 , has been classified as 0 and should be 2\n",
            "No. 2866 , has been classified as 0 and should be 1\n",
            "No. 2876 , has been classified as 0 and should be 2\n",
            "No. 2884 , has been classified as 1 and should be 2\n",
            "No. 2894 , has been classified as 0 and should be 1\n",
            "No. 2900 , has been classified as 0 and should be 2\n",
            "No. 2906 , has been classified as 0 and should be 2\n",
            "No. 2907 , has been classified as 0 and should be 2\n",
            "No. 2908 , has been classified as 0 and should be 2\n",
            "No. 2921 , has been classified as 0 and should be 2\n",
            "No. 2939 , has been classified as 0 and should be 1\n",
            "No. 2945 , has been classified as 0 and should be 2\n",
            "No. 2947 , has been classified as 2 and should be 1\n",
            "No. 2948 , has been classified as 0 and should be 2\n",
            "No. 2949 , has been classified as 1 and should be 0\n",
            "No. 2956 , has been classified as 0 and should be 2\n",
            "No. 2960 , has been classified as 1 and should be 2\n",
            "No. 2961 , has been classified as 0 and should be 2\n",
            "No. 2966 , has been classified as 1 and should be 2\n",
            "No. 2967 , has been classified as 0 and should be 2\n",
            "No. 2968 , has been classified as 0 and should be 2\n",
            "No. 2973 , has been classified as 0 and should be 1\n",
            "No. 2977 , has been classified as 0 and should be 2\n",
            "No. 2980 , has been classified as 0 and should be 2\n",
            "No. 2981 , has been classified as 0 and should be 2\n",
            "No. 2982 , has been classified as 0 and should be 2\n",
            "No. 2988 , has been classified as 0 and should be 1\n",
            "No. 2990 , has been classified as 2 and should be 0\n",
            "No. 2991 , has been classified as 0 and should be 2\n",
            "No. 2999 , has been classified as 0 and should be 1\n",
            "No. 3024 , has been classified as 0 and should be 1\n",
            "No. 3027 , has been classified as 0 and should be 2\n",
            "No. 3034 , has been classified as 1 and should be 0\n",
            "No. 3044 , has been classified as 1 and should be 0\n",
            "No. 3045 , has been classified as 1 and should be 0\n",
            "No. 3047 , has been classified as 0 and should be 2\n",
            "No. 3058 , has been classified as 0 and should be 1\n",
            "No. 3060 , has been classified as 0 and should be 2\n",
            "No. 3064 , has been classified as 2 and should be 0\n",
            "No. 3099 , has been classified as 0 and should be 2\n",
            "No. 3104 , has been classified as 0 and should be 1\n",
            "No. 3116 , has been classified as 1 and should be 2\n",
            "No. 3122 , has been classified as 2 and should be 0\n",
            "No. 3128 , has been classified as 0 and should be 2\n",
            "No. 3133 , has been classified as 0 and should be 2\n",
            "No. 3156 , has been classified as 2 and should be 1\n",
            "No. 3176 , has been classified as 2 and should be 0\n",
            "No. 3186 , has been classified as 0 and should be 2\n",
            "No. 3193 , has been classified as 0 and should be 1\n",
            "No. 3209 , has been classified as 2 and should be 0\n",
            "No. 3219 , has been classified as 0 and should be 1\n",
            "No. 3223 , has been classified as 1 and should be 0\n",
            "No. 3242 , has been classified as 0 and should be 2\n",
            "No. 3256 , has been classified as 0 and should be 1\n",
            "No. 3267 , has been classified as 1 and should be 2\n",
            "No. 3270 , has been classified as 0 and should be 1\n",
            "No. 3273 , has been classified as 1 and should be 0\n",
            "No. 3275 , has been classified as 1 and should be 2\n",
            "No. 3283 , has been classified as 0 and should be 2\n",
            "No. 3291 , has been classified as 0 and should be 2\n",
            "No. 3297 , has been classified as 0 and should be 1\n",
            "No. 3299 , has been classified as 0 and should be 2\n",
            "No. 3301 , has been classified as 0 and should be 1\n",
            "No. 3304 , has been classified as 0 and should be 2\n",
            "No. 3309 , has been classified as 0 and should be 2\n",
            "No. 3310 , has been classified as 2 and should be 1\n",
            "No. 3318 , has been classified as 2 and should be 0\n",
            "No. 3327 , has been classified as 0 and should be 2\n",
            "No. 3328 , has been classified as 0 and should be 1\n",
            "No. 3331 , has been classified as 2 and should be 0\n",
            "No. 3349 , has been classified as 1 and should be 0\n",
            "No. 3355 , has been classified as 0 and should be 2\n",
            "No. 3366 , has been classified as 0 and should be 2\n",
            "No. 3374 , has been classified as 0 and should be 2\n",
            "No. 3378 , has been classified as 0 and should be 2\n",
            "No. 3379 , has been classified as 0 and should be 2\n",
            "No. 3384 , has been classified as 2 and should be 0\n",
            "No. 3395 , has been classified as 0 and should be 2\n",
            "No. 3400 , has been classified as 0 and should be 2\n",
            "No. 3405 , has been classified as 2 and should be 0\n",
            "No. 3413 , has been classified as 0 and should be 2\n",
            "No. 3418 , has been classified as 0 and should be 1\n",
            "No. 3422 , has been classified as 0 and should be 2\n",
            "No. 3428 , has been classified as 2 and should be 1\n",
            "No. 3434 , has been classified as 0 and should be 1\n",
            "No. 3453 , has been classified as 1 and should be 2\n",
            "No. 3455 , has been classified as 0 and should be 2\n",
            "No. 3456 , has been classified as 0 and should be 2\n",
            "No. 3458 , has been classified as 0 and should be 2\n",
            "No. 3466 , has been classified as 0 and should be 1\n",
            "No. 3469 , has been classified as 0 and should be 2\n",
            "No. 3470 , has been classified as 0 and should be 2\n",
            "No. 3501 , has been classified as 0 and should be 2\n",
            "No. 3510 , has been classified as 0 and should be 2\n",
            "No. 3511 , has been classified as 0 and should be 1\n",
            "No. 3515 , has been classified as 0 and should be 1\n",
            "No. 3521 , has been classified as 0 and should be 2\n",
            "No. 3525 , has been classified as 0 and should be 1\n",
            "No. 3527 , has been classified as 0 and should be 1\n",
            "No. 3530 , has been classified as 0 and should be 2\n",
            "No. 3534 , has been classified as 2 and should be 0\n",
            "No. 3549 , has been classified as 0 and should be 1\n",
            "No. 3556 , has been classified as 0 and should be 2\n",
            "No. 3558 , has been classified as 1 and should be 2\n",
            "No. 3559 , has been classified as 0 and should be 2\n",
            "No. 3564 , has been classified as 0 and should be 2\n",
            "No. 3567 , has been classified as 1 and should be 0\n",
            "No. 3572 , has been classified as 0 and should be 2\n",
            "No. 3575 , has been classified as 1 and should be 2\n",
            "No. 3584 , has been classified as 1 and should be 0\n",
            "No. 3591 , has been classified as 0 and should be 1\n",
            "No. 3598 , has been classified as 1 and should be 0\n",
            "No. 3630 , has been classified as 0 and should be 1\n",
            "No. 3635 , has been classified as 0 and should be 2\n",
            "No. 3645 , has been classified as 0 and should be 2\n",
            "No. 3648 , has been classified as 0 and should be 2\n",
            "No. 3651 , has been classified as 1 and should be 0\n",
            "No. 3657 , has been classified as 0 and should be 2\n",
            "No. 3659 , has been classified as 0 and should be 2\n",
            "No. 3661 , has been classified as 0 and should be 1\n",
            "No. 3698 , has been classified as 0 and should be 1\n",
            "No. 3700 , has been classified as 1 and should be 2\n",
            "No. 3706 , has been classified as 0 and should be 2\n",
            "No. 3712 , has been classified as 0 and should be 2\n",
            "No. 3714 , has been classified as 0 and should be 1\n",
            "No. 3715 , has been classified as 1 and should be 0\n",
            "No. 3745 , has been classified as 0 and should be 1\n",
            "No. 3751 , has been classified as 0 and should be 2\n",
            "No. 3756 , has been classified as 0 and should be 2\n",
            "No. 3759 , has been classified as 0 and should be 2\n",
            "No. 3783 , has been classified as 0 and should be 2\n",
            "No. 3785 , has been classified as 1 and should be 0\n",
            "No. 3787 , has been classified as 0 and should be 2\n",
            "No. 3789 , has been classified as 1 and should be 2\n",
            "No. 3794 , has been classified as 0 and should be 1\n",
            "No. 3796 , has been classified as 0 and should be 1\n",
            "No. 3797 , has been classified as 0 and should be 2\n",
            "No. 3803 , has been classified as 0 and should be 2\n",
            "No. 3805 , has been classified as 0 and should be 2\n",
            "No. 3812 , has been classified as 0 and should be 1\n",
            "No. 3821 , has been classified as 0 and should be 1\n",
            "No. 3830 , has been classified as 0 and should be 1\n",
            "No. 3833 , has been classified as 0 and should be 1\n",
            "No. 3840 , has been classified as 0 and should be 2\n",
            "No. 3851 , has been classified as 0 and should be 1\n",
            "No. 3860 , has been classified as 2 and should be 1\n",
            "No. 3865 , has been classified as 1 and should be 2\n",
            "No. 3879 , has been classified as 0 and should be 2\n",
            "No. 3887 , has been classified as 0 and should be 2\n",
            "No. 3892 , has been classified as 0 and should be 1\n",
            "No. 3893 , has been classified as 0 and should be 2\n",
            "No. 3898 , has been classified as 0 and should be 1\n",
            "No. 3902 , has been classified as 1 and should be 2\n",
            "No. 3903 , has been classified as 0 and should be 2\n",
            "No. 3916 , has been classified as 1 and should be 0\n",
            "No. 3937 , has been classified as 0 and should be 1\n",
            "No. 3950 , has been classified as 2 and should be 0\n",
            "No. 3951 , has been classified as 0 and should be 1\n",
            "No. 3957 , has been classified as 0 and should be 1\n",
            "No. 3958 , has been classified as 0 and should be 2\n",
            "No. 3963 , has been classified as 0 and should be 1\n",
            "No. 3968 , has been classified as 0 and should be 2\n",
            "No. 3980 , has been classified as 0 and should be 2\n",
            "No. 3982 , has been classified as 2 and should be 0\n",
            "No. 3991 , has been classified as 0 and should be 1\n",
            "No. 3996 , has been classified as 0 and should be 2\n",
            "No. 3998 , has been classified as 0 and should be 1\n",
            "No. 4006 , has been classified as 0 and should be 2\n",
            "No. 4015 , has been classified as 2 and should be 0\n",
            "No. 4025 , has been classified as 0 and should be 2\n",
            "No. 4035 , has been classified as 0 and should be 2\n",
            "No. 4041 , has been classified as 0 and should be 2\n",
            "No. 4047 , has been classified as 0 and should be 2\n",
            "No. 4051 , has been classified as 0 and should be 2\n",
            "No. 4056 , has been classified as 0 and should be 1\n",
            "No. 4065 , has been classified as 0 and should be 1\n",
            "No. 4068 , has been classified as 0 and should be 2\n",
            "No. 4071 , has been classified as 0 and should be 2\n",
            "No. 4077 , has been classified as 0 and should be 2\n",
            "No. 4079 , has been classified as 2 and should be 1\n",
            "No. 4080 , has been classified as 0 and should be 1\n",
            "No. 4084 , has been classified as 1 and should be 2\n",
            "No. 4087 , has been classified as 0 and should be 1\n",
            "No. 4096 , has been classified as 1 and should be 2\n",
            "No. 4098 , has been classified as 1 and should be 2\n",
            "No. 4099 , has been classified as 0 and should be 2\n",
            "No. 4101 , has been classified as 2 and should be 1\n",
            "No. 4105 , has been classified as 0 and should be 1\n",
            "No. 4118 , has been classified as 0 and should be 1\n",
            "No. 4124 , has been classified as 2 and should be 1\n",
            "No. 4129 , has been classified as 0 and should be 2\n",
            "No. 4130 , has been classified as 0 and should be 2\n",
            "No. 4140 , has been classified as 0 and should be 2\n",
            "No. 4143 , has been classified as 0 and should be 2\n",
            "No. 4156 , has been classified as 1 and should be 2\n",
            "No. 4157 , has been classified as 0 and should be 2\n",
            "No. 4160 , has been classified as 0 and should be 2\n",
            "No. 4178 , has been classified as 1 and should be 2\n",
            "No. 4193 , has been classified as 0 and should be 2\n",
            "No. 4197 , has been classified as 0 and should be 1\n",
            "No. 4203 , has been classified as 0 and should be 2\n",
            "No. 4204 , has been classified as 0 and should be 2\n",
            "No. 4208 , has been classified as 0 and should be 2\n",
            "No. 4213 , has been classified as 0 and should be 2\n",
            "No. 4237 , has been classified as 0 and should be 2\n",
            "No. 4242 , has been classified as 0 and should be 2\n",
            "No. 4251 , has been classified as 1 and should be 2\n",
            "No. 4255 , has been classified as 2 and should be 1\n",
            "No. 4263 , has been classified as 0 and should be 2\n",
            "No. 4264 , has been classified as 0 and should be 2\n",
            "No. 4268 , has been classified as 0 and should be 1\n",
            "No. 4270 , has been classified as 0 and should be 1\n",
            "No. 4277 , has been classified as 0 and should be 1\n",
            "No. 4283 , has been classified as 2 and should be 1\n",
            "No. 4297 , has been classified as 0 and should be 1\n",
            "No. 4298 , has been classified as 0 and should be 2\n",
            "No. 4301 , has been classified as 1 and should be 2\n",
            "No. 4309 , has been classified as 0 and should be 2\n",
            "No. 4316 , has been classified as 1 and should be 2\n",
            "No. 4322 , has been classified as 0 and should be 2\n",
            "No. 4325 , has been classified as 0 and should be 2\n",
            "No. 4326 , has been classified as 0 and should be 2\n",
            "No. 4328 , has been classified as 2 and should be 1\n",
            "No. 4339 , has been classified as 1 and should be 0\n",
            "No. 4348 , has been classified as 2 and should be 0\n",
            "No. 4369 , has been classified as 0 and should be 2\n",
            "No. 4372 , has been classified as 0 and should be 2\n",
            "No. 4379 , has been classified as 0 and should be 2\n",
            "No. 4381 , has been classified as 1 and should be 0\n",
            "No. 4385 , has been classified as 0 and should be 2\n",
            "No. 4395 , has been classified as 0 and should be 1\n",
            "No. 4402 , has been classified as 0 and should be 2\n",
            "No. 4410 , has been classified as 1 and should be 0\n",
            "No. 4416 , has been classified as 0 and should be 2\n",
            "No. 4426 , has been classified as 0 and should be 2\n",
            "No. 4436 , has been classified as 0 and should be 1\n",
            "No. 4437 , has been classified as 0 and should be 1\n",
            "No. 4452 , has been classified as 0 and should be 1\n",
            "No. 4479 , has been classified as 0 and should be 1\n",
            "No. 4490 , has been classified as 1 and should be 0\n",
            "No. 4491 , has been classified as 2 and should be 1\n",
            "No. 4498 , has been classified as 0 and should be 2\n",
            "No. 4500 , has been classified as 0 and should be 2\n",
            "No. 4509 , has been classified as 0 and should be 1\n",
            "No. 4521 , has been classified as 1 and should be 0\n",
            "No. 4528 , has been classified as 0 and should be 1\n",
            "No. 4536 , has been classified as 0 and should be 2\n",
            "No. 4542 , has been classified as 0 and should be 1\n",
            "No. 4553 , has been classified as 1 and should be 2\n",
            "No. 4561 , has been classified as 0 and should be 2\n",
            "No. 4570 , has been classified as 0 and should be 2\n",
            "No. 4582 , has been classified as 0 and should be 2\n",
            "No. 4583 , has been classified as 0 and should be 1\n",
            "No. 4584 , has been classified as 0 and should be 2\n",
            "No. 4585 , has been classified as 0 and should be 1\n",
            "No. 4588 , has been classified as 0 and should be 1\n",
            "No. 4590 , has been classified as 1 and should be 0\n",
            "No. 4597 , has been classified as 0 and should be 2\n",
            "No. 4605 , has been classified as 0 and should be 2\n",
            "No. 4613 , has been classified as 0 and should be 2\n",
            "No. 4632 , has been classified as 1 and should be 0\n",
            "No. 4635 , has been classified as 0 and should be 1\n",
            "No. 4641 , has been classified as 0 and should be 1\n",
            "No. 4642 , has been classified as 1 and should be 2\n",
            "No. 4645 , has been classified as 2 and should be 0\n",
            "No. 4646 , has been classified as 0 and should be 1\n",
            "No. 4650 , has been classified as 0 and should be 2\n",
            "No. 4657 , has been classified as 1 and should be 0\n",
            "No. 4663 , has been classified as 0 and should be 1\n",
            "No. 4666 , has been classified as 0 and should be 2\n",
            "No. 4678 , has been classified as 0 and should be 2\n",
            "No. 4680 , has been classified as 0 and should be 2\n",
            "No. 4681 , has been classified as 2 and should be 1\n",
            "No. 4696 , has been classified as 0 and should be 2\n",
            "No. 4697 , has been classified as 0 and should be 2\n",
            "No. 4698 , has been classified as 1 and should be 2\n",
            "No. 4699 , has been classified as 0 and should be 2\n",
            "No. 4708 , has been classified as 0 and should be 2\n",
            "No. 4709 , has been classified as 1 and should be 0\n",
            "No. 4710 , has been classified as 1 and should be 0\n",
            "No. 4711 , has been classified as 0 and should be 2\n",
            "No. 4718 , has been classified as 0 and should be 2\n",
            "No. 4722 , has been classified as 2 and should be 0\n",
            "No. 4729 , has been classified as 0 and should be 2\n",
            "No. 4730 , has been classified as 2 and should be 1\n",
            "No. 4733 , has been classified as 1 and should be 2\n",
            "No. 4750 , has been classified as 0 and should be 1\n",
            "No. 4768 , has been classified as 0 and should be 1\n",
            "No. 4775 , has been classified as 0 and should be 2\n",
            "No. 4784 , has been classified as 0 and should be 2\n",
            "No. 4805 , has been classified as 0 and should be 2\n",
            "No. 4815 , has been classified as 1 and should be 0\n",
            "No. 4819 , has been classified as 0 and should be 2\n",
            "No. 4821 , has been classified as 1 and should be 2\n",
            "No. 4844 , has been classified as 1 and should be 0\n",
            "No. 4851 , has been classified as 0 and should be 2\n",
            "No. 4856 , has been classified as 0 and should be 2\n",
            "No. 4870 , has been classified as 0 and should be 2\n",
            "No. 4874 , has been classified as 0 and should be 1\n",
            "No. 4878 , has been classified as 0 and should be 2\n",
            "No. 4881 , has been classified as 0 and should be 2\n",
            "No. 4883 , has been classified as 2 and should be 0\n",
            "No. 4895 , has been classified as 0 and should be 2\n",
            "No. 4898 , has been classified as 0 and should be 2\n",
            "No. 4900 , has been classified as 0 and should be 2\n",
            "No. 4902 , has been classified as 1 and should be 2\n",
            "No. 4914 , has been classified as 0 and should be 2\n",
            "No. 4925 , has been classified as 0 and should be 2\n",
            "No. 4933 , has been classified as 1 and should be 0\n",
            "No. 4938 , has been classified as 1 and should be 0\n",
            "No. 4944 , has been classified as 0 and should be 2\n",
            "No. 4952 , has been classified as 0 and should be 2\n",
            "No. 4967 , has been classified as 0 and should be 2\n",
            "No. 4976 , has been classified as 0 and should be 1\n",
            "No. 4990 , has been classified as 0 and should be 2\n",
            "No. 4992 , has been classified as 0 and should be 2\n",
            "No. 4996 , has been classified as 0 and should be 1\n",
            "No. 5004 , has been classified as 0 and should be 2\n",
            "No. 5009 , has been classified as 0 and should be 2\n",
            "No. 5020 , has been classified as 1 and should be 0\n",
            "No. 5026 , has been classified as 0 and should be 2\n",
            "No. 5030 , has been classified as 0 and should be 1\n",
            "No. 5039 , has been classified as 2 and should be 0\n",
            "No. 5047 , has been classified as 1 and should be 0\n",
            "No. 5062 , has been classified as 2 and should be 0\n",
            "No. 5080 , has been classified as 0 and should be 2\n",
            "No. 5081 , has been classified as 0 and should be 2\n",
            "No. 5089 , has been classified as 0 and should be 2\n",
            "No. 5105 , has been classified as 0 and should be 1\n",
            "No. 5115 , has been classified as 0 and should be 2\n",
            "No. 5116 , has been classified as 0 and should be 1\n",
            "No. 5117 , has been classified as 0 and should be 2\n",
            "No. 5127 , has been classified as 2 and should be 0\n",
            "No. 5137 , has been classified as 0 and should be 1\n",
            "No. 5138 , has been classified as 0 and should be 2\n",
            "No. 5143 , has been classified as 0 and should be 2\n",
            "No. 5151 , has been classified as 0 and should be 2\n",
            "No. 5154 , has been classified as 2 and should be 0\n",
            "No. 5161 , has been classified as 2 and should be 0\n",
            "No. 5162 , has been classified as 0 and should be 1\n",
            "No. 5163 , has been classified as 0 and should be 2\n",
            "No. 5176 , has been classified as 0 and should be 2\n",
            "No. 5178 , has been classified as 1 and should be 2\n",
            "No. 5186 , has been classified as 1 and should be 0\n",
            "No. 5203 , has been classified as 0 and should be 2\n",
            "No. 5205 , has been classified as 0 and should be 2\n",
            "No. 5214 , has been classified as 1 and should be 0\n",
            "No. 5216 , has been classified as 0 and should be 1\n",
            "No. 5220 , has been classified as 0 and should be 1\n",
            "No. 5227 , has been classified as 0 and should be 2\n",
            "No. 5235 , has been classified as 0 and should be 1\n",
            "No. 5242 , has been classified as 1 and should be 2\n",
            "No. 5256 , has been classified as 0 and should be 1\n",
            "No. 5264 , has been classified as 0 and should be 2\n",
            "No. 5280 , has been classified as 0 and should be 2\n",
            "No. 5281 , has been classified as 0 and should be 2\n",
            "No. 5288 , has been classified as 0 and should be 2\n",
            "No. 5289 , has been classified as 0 and should be 1\n",
            "No. 5302 , has been classified as 1 and should be 0\n",
            "No. 5306 , has been classified as 2 and should be 0\n",
            "No. 5307 , has been classified as 1 and should be 2\n",
            "No. 5310 , has been classified as 0 and should be 2\n",
            "No. 5324 , has been classified as 0 and should be 2\n",
            "No. 5326 , has been classified as 0 and should be 1\n",
            "No. 5328 , has been classified as 0 and should be 2\n",
            "No. 5345 , has been classified as 0 and should be 1\n",
            "No. 5347 , has been classified as 0 and should be 1\n",
            "No. 5350 , has been classified as 0 and should be 2\n",
            "No. 5352 , has been classified as 2 and should be 0\n",
            "No. 5369 , has been classified as 0 and should be 1\n",
            "No. 5371 , has been classified as 0 and should be 1\n",
            "No. 5378 , has been classified as 0 and should be 1\n",
            "No. 5380 , has been classified as 0 and should be 2\n",
            "No. 5381 , has been classified as 0 and should be 1\n",
            "No. 5385 , has been classified as 0 and should be 2\n",
            "No. 5389 , has been classified as 0 and should be 2\n",
            "No. 5390 , has been classified as 1 and should be 0\n",
            "No. 5395 , has been classified as 1 and should be 0\n",
            "No. 5405 , has been classified as 0 and should be 2\n",
            "No. 5418 , has been classified as 0 and should be 2\n",
            "No. 5423 , has been classified as 0 and should be 2\n",
            "No. 5428 , has been classified as 1 and should be 0\n",
            "No. 5435 , has been classified as 0 and should be 2\n",
            "No. 5499 , has been classified as 1 and should be 2\n",
            "No. 5509 , has been classified as 0 and should be 2\n",
            "No. 5511 , has been classified as 0 and should be 1\n",
            "No. 5518 , has been classified as 0 and should be 2\n",
            "No. 5519 , has been classified as 0 and should be 2\n",
            "No. 5521 , has been classified as 0 and should be 2\n",
            "No. 5528 , has been classified as 2 and should be 1\n",
            "No. 5530 , has been classified as 0 and should be 2\n",
            "No. 5531 , has been classified as 0 and should be 2\n",
            "No. 5535 , has been classified as 1 and should be 2\n",
            "No. 5538 , has been classified as 2 and should be 1\n",
            "No. 5558 , has been classified as 2 and should be 1\n",
            "No. 5570 , has been classified as 0 and should be 1\n",
            "No. 5574 , has been classified as 0 and should be 1\n",
            "No. 5576 , has been classified as 0 and should be 2\n",
            "No. 5577 , has been classified as 0 and should be 1\n",
            "No. 5583 , has been classified as 0 and should be 1\n",
            "No. 5587 , has been classified as 0 and should be 1\n",
            "No. 5593 , has been classified as 0 and should be 1\n",
            "No. 5603 , has been classified as 0 and should be 2\n",
            "No. 5614 , has been classified as 0 and should be 1\n",
            "No. 5620 , has been classified as 0 and should be 1\n",
            "No. 5624 , has been classified as 1 and should be 0\n",
            "No. 5625 , has been classified as 0 and should be 2\n",
            "No. 5631 , has been classified as 0 and should be 2\n",
            "No. 5638 , has been classified as 2 and should be 0\n",
            "No. 5651 , has been classified as 0 and should be 2\n",
            "No. 5655 , has been classified as 0 and should be 2\n",
            "No. 5658 , has been classified as 0 and should be 2\n",
            "No. 5694 , has been classified as 0 and should be 2\n",
            "No. 5696 , has been classified as 0 and should be 2\n",
            "No. 5709 , has been classified as 0 and should be 2\n",
            "No. 5738 , has been classified as 1 and should be 0\n",
            "No. 5755 , has been classified as 0 and should be 1\n",
            "No. 5764 , has been classified as 0 and should be 2\n",
            "No. 5765 , has been classified as 0 and should be 2\n",
            "No. 5788 , has been classified as 0 and should be 1\n",
            "No. 5798 , has been classified as 0 and should be 1\n",
            "No. 5800 , has been classified as 1 and should be 2\n",
            "No. 5805 , has been classified as 0 and should be 2\n",
            "No. 5813 , has been classified as 0 and should be 2\n",
            "No. 5819 , has been classified as 0 and should be 1\n",
            "No. 5821 , has been classified as 0 and should be 1\n",
            "No. 5826 , has been classified as 0 and should be 2\n",
            "No. 5829 , has been classified as 1 and should be 2\n",
            "No. 5831 , has been classified as 0 and should be 1\n",
            "No. 5844 , has been classified as 0 and should be 2\n",
            "No. 5856 , has been classified as 1 and should be 2\n",
            "No. 5863 , has been classified as 2 and should be 1\n",
            "No. 5868 , has been classified as 0 and should be 2\n",
            "No. 5874 , has been classified as 0 and should be 2\n",
            "No. 5876 , has been classified as 0 and should be 2\n",
            "No. 5880 , has been classified as 0 and should be 1\n",
            "No. 5885 , has been classified as 0 and should be 2\n",
            "No. 5887 , has been classified as 0 and should be 2\n",
            "No. 5905 , has been classified as 2 and should be 0\n",
            "No. 5914 , has been classified as 0 and should be 1\n",
            "No. 5919 , has been classified as 0 and should be 2\n",
            "No. 5923 , has been classified as 1 and should be 2\n",
            "No. 5925 , has been classified as 0 and should be 2\n",
            "No. 5929 , has been classified as 2 and should be 1\n",
            "No. 5936 , has been classified as 1 and should be 2\n",
            "No. 5938 , has been classified as 1 and should be 0\n",
            "No. 5943 , has been classified as 0 and should be 2\n",
            "No. 5952 , has been classified as 2 and should be 0\n",
            "No. 5954 , has been classified as 0 and should be 2\n",
            "No. 5975 , has been classified as 0 and should be 2\n",
            "No. 5993 , has been classified as 0 and should be 2\n",
            "No. 5997 , has been classified as 0 and should be 2\n",
            "No. 6004 , has been classified as 0 and should be 2\n",
            "No. 6007 , has been classified as 0 and should be 2\n",
            "No. 6008 , has been classified as 0 and should be 1\n",
            "No. 6012 , has been classified as 1 and should be 2\n",
            "No. 6013 , has been classified as 0 and should be 2\n",
            "No. 6018 , has been classified as 0 and should be 1\n",
            "No. 6026 , has been classified as 0 and should be 1\n",
            "No. 6027 , has been classified as 0 and should be 2\n",
            "No. 6035 , has been classified as 0 and should be 2\n",
            "No. 6036 , has been classified as 1 and should be 0\n",
            "No. 6040 , has been classified as 0 and should be 1\n",
            "No. 6047 , has been classified as 0 and should be 1\n",
            "No. 6054 , has been classified as 0 and should be 2\n",
            "No. 6068 , has been classified as 0 and should be 2\n",
            "No. 6075 , has been classified as 1 and should be 2\n",
            "No. 6076 , has been classified as 0 and should be 2\n",
            "No. 6079 , has been classified as 0 and should be 2\n",
            "No. 6082 , has been classified as 2 and should be 0\n",
            "No. 6090 , has been classified as 0 and should be 1\n",
            "No. 6091 , has been classified as 0 and should be 2\n",
            "No. 6104 , has been classified as 0 and should be 2\n",
            "No. 6107 , has been classified as 2 and should be 0\n",
            "No. 6108 , has been classified as 0 and should be 1\n",
            "No. 6109 , has been classified as 0 and should be 2\n",
            "No. 6119 , has been classified as 2 and should be 1\n",
            "No. 6124 , has been classified as 0 and should be 2\n",
            "No. 6126 , has been classified as 0 and should be 1\n",
            "No. 6129 , has been classified as 2 and should be 1\n",
            "No. 6131 , has been classified as 0 and should be 1\n",
            "No. 6134 , has been classified as 2 and should be 0\n",
            "No. 6139 , has been classified as 0 and should be 2\n",
            "No. 6150 , has been classified as 0 and should be 2\n",
            "No. 6151 , has been classified as 0 and should be 1\n",
            "No. 6168 , has been classified as 1 and should be 0\n",
            "No. 6173 , has been classified as 0 and should be 1\n",
            "No. 6200 , has been classified as 0 and should be 2\n",
            "No. 6205 , has been classified as 0 and should be 1\n",
            "No. 6209 , has been classified as 0 and should be 2\n",
            "No. 6215 , has been classified as 0 and should be 1\n",
            "No. 6219 , has been classified as 2 and should be 0\n",
            "No. 6233 , has been classified as 2 and should be 1\n",
            "No. 6239 , has been classified as 0 and should be 2\n",
            "No. 6240 , has been classified as 0 and should be 1\n",
            "No. 6244 , has been classified as 1 and should be 0\n",
            "No. 6270 , has been classified as 0 and should be 2\n",
            "No. 6280 , has been classified as 0 and should be 2\n",
            "No. 6289 , has been classified as 2 and should be 0\n",
            "No. 6292 , has been classified as 0 and should be 2\n",
            "No. 6301 , has been classified as 0 and should be 2\n",
            "No. 6307 , has been classified as 0 and should be 2\n",
            "No. 6314 , has been classified as 0 and should be 1\n",
            "No. 6319 , has been classified as 0 and should be 1\n",
            "No. 6324 , has been classified as 0 and should be 2\n",
            "No. 6339 , has been classified as 2 and should be 0\n",
            "No. 6342 , has been classified as 0 and should be 1\n",
            "No. 6343 , has been classified as 0 and should be 2\n",
            "No. 6353 , has been classified as 0 and should be 1\n",
            "No. 6357 , has been classified as 0 and should be 2\n",
            "No. 6363 , has been classified as 0 and should be 1\n",
            "No. 6405 , has been classified as 0 and should be 2\n",
            "No. 6406 , has been classified as 0 and should be 2\n",
            "No. 6407 , has been classified as 0 and should be 2\n",
            "No. 6429 , has been classified as 2 and should be 1\n",
            "No. 6436 , has been classified as 0 and should be 2\n",
            "No. 6446 , has been classified as 0 and should be 1\n",
            "No. 6448 , has been classified as 0 and should be 2\n",
            "No. 6463 , has been classified as 0 and should be 2\n",
            "No. 6471 , has been classified as 0 and should be 2\n",
            "No. 6477 , has been classified as 2 and should be 0\n",
            "No. 6480 , has been classified as 0 and should be 2\n",
            "No. 6481 , has been classified as 0 and should be 2\n",
            "No. 6483 , has been classified as 0 and should be 2\n",
            "No. 6489 , has been classified as 0 and should be 1\n",
            "No. 6494 , has been classified as 0 and should be 1\n",
            "No. 6509 , has been classified as 0 and should be 2\n",
            "No. 6525 , has been classified as 0 and should be 1\n",
            "No. 6533 , has been classified as 1 and should be 0\n",
            "No. 6534 , has been classified as 1 and should be 0\n",
            "No. 6554 , has been classified as 1 and should be 2\n",
            "No. 6559 , has been classified as 0 and should be 2\n",
            "No. 6564 , has been classified as 0 and should be 2\n",
            "No. 6598 , has been classified as 0 and should be 1\n",
            "No. 6601 , has been classified as 0 and should be 1\n",
            "No. 6611 , has been classified as 0 and should be 2\n",
            "No. 6626 , has been classified as 0 and should be 2\n",
            "No. 6634 , has been classified as 2 and should be 1\n",
            "No. 6637 , has been classified as 0 and should be 1\n",
            "No. 6659 , has been classified as 0 and should be 2\n",
            "No. 6660 , has been classified as 0 and should be 1\n",
            "No. 6670 , has been classified as 0 and should be 2\n",
            "No. 6672 , has been classified as 0 and should be 1\n",
            "No. 6678 , has been classified as 1 and should be 0\n",
            "959\n"
          ]
        }
      ]
    },
    {
      "cell_type": "code",
      "source": [
        "X_train[6554]"
      ],
      "metadata": {
        "id": "WaOHHtYHgFL9",
        "colab": {
          "base_uri": "https://localhost:8080/",
          "height": 35
        },
        "outputId": "5fef8948-25ba-4a85-d0ed-ba5394fcaa2a"
      },
      "execution_count": null,
      "outputs": [
        {
          "output_type": "execute_result",
          "data": {
            "application/vnd.google.colaboratory.intrinsic+json": {
              "type": "string"
            },
            "text/plain": [
              "'xác'"
            ]
          },
          "metadata": {},
          "execution_count": 45
        }
      ]
    },
    {
      "cell_type": "markdown",
      "metadata": {
        "id": "GpQQo2fhSDyn"
      },
      "source": [
        "##Not including stopwords"
      ]
    },
    {
      "cell_type": "markdown",
      "metadata": {
        "id": "1X05R2g4SE2z"
      },
      "source": [
        "### Naive Bayes\n",
        "\n"
      ]
    },
    {
      "cell_type": "code",
      "metadata": {
        "id": "QYlw7j86SG3_",
        "colab": {
          "base_uri": "https://localhost:8080/"
        },
        "outputId": "52bdcfa9-5dba-466b-d452-28b72b937599"
      },
      "source": [
        "from sklearn.naive_bayes import MultinomialNB\n",
        "NB_nsw = MultinomialNB()\n",
        "NB_nsw.fit(X_train_nsw_encoded, train_y)"
      ],
      "execution_count": null,
      "outputs": [
        {
          "output_type": "execute_result",
          "data": {
            "text/plain": [
              "MultinomialNB()"
            ]
          },
          "metadata": {},
          "execution_count": 46
        }
      ]
    },
    {
      "cell_type": "code",
      "metadata": {
        "id": "wl-cGLAsSMU4"
      },
      "source": [
        "NB_nsw_y_pred = NB_nsw.predict(X_test_nsw_encoded)"
      ],
      "execution_count": null,
      "outputs": []
    },
    {
      "cell_type": "code",
      "metadata": {
        "id": "ztOaeOQ9SWAA",
        "colab": {
          "base_uri": "https://localhost:8080/"
        },
        "outputId": "64bbcaad-56a4-479a-a8be-4bf9c337fde1"
      },
      "source": [
        "from sklearn.metrics import accuracy_score, precision_score, recall_score, f1_score, confusion_matrix, classification_report\n",
        "print(\"Accuracy: {}\".format(accuracy_score(test_y, NB_nsw_y_pred)))\n",
        "print(\"Precision: \",str(precision_score(test_y, NB_nsw_y_pred, average='macro')))\n",
        "print(\"Recall: \" + str(recall_score(test_y, NB_nsw_y_pred, average='macro')))\n",
        "print(\"F1 - micro: \" + str(f1_score(test_y, NB_nsw_y_pred, average='micro')))\n",
        "print(\"F1 - macro: \" + str(f1_score(test_y, NB_nsw_y_pred, average='macro')))\n",
        "\n",
        "cmNB_nsw = confusion_matrix(test_y, NB_nsw_y_pred)\n",
        "crNB_nsw = classification_report(test_y, NB_nsw_y_pred)"
      ],
      "execution_count": null,
      "outputs": [
        {
          "output_type": "stream",
          "name": "stdout",
          "text": [
            "Accuracy: 0.858682634730539\n",
            "Precision:  0.6547662009113132\n",
            "Recall: 0.5197514125181334\n",
            "F1 - micro: 0.858682634730539\n",
            "F1 - macro: 0.5440992734398563\n"
          ]
        }
      ]
    },
    {
      "cell_type": "code",
      "metadata": {
        "id": "dLSjk8mCSbtE",
        "colab": {
          "base_uri": "https://localhost:8080/",
          "height": 279
        },
        "outputId": "b9fc91e8-4fcb-4d10-8af4-86b566203b90"
      },
      "source": [
        "import matplotlib.pyplot as plt\n",
        "import seaborn as sn\n",
        "\n",
        "sn.heatmap(cmNB_nsw, annot=True, cmap=\"Greys\",fmt='g', cbar=True, annot_kws={\"size\": 30})\n",
        "plt.ylabel('True Label')\n",
        "plt.xlabel('Predicted Label')\n",
        "plt.show()"
      ],
      "execution_count": null,
      "outputs": [
        {
          "output_type": "display_data",
          "data": {
            "image/png": "[encoded data removed]",
            "text/plain": [
              "<Figure size 432x288 with 2 Axes>"
            ]
          },
          "metadata": {
            "needs_background": "light"
          }
        }
      ]
    },
    {
      "cell_type": "markdown",
      "metadata": {
        "id": "qdo0qxwqKA5W"
      },
      "source": [
        "### Logistic Regression"
      ]
    },
    {
      "cell_type": "code",
      "metadata": {
        "id": "iOnElgtfKFSr",
        "colab": {
          "base_uri": "https://localhost:8080/"
        },
        "outputId": "40fd88dd-4bdb-40dc-832e-348719aac1ea"
      },
      "source": [
        "from sklearn.linear_model import LogisticRegression\n",
        "LR_nsw = LogisticRegression()\n",
        "LR_nsw.fit(X_train_nsw_encoded, train_y)"
      ],
      "execution_count": null,
      "outputs": [
        {
          "output_type": "stream",
          "name": "stderr",
          "text": [
            "/usr/local/lib/python3.7/dist-packages/sklearn/linear_model/_logistic.py:818: ConvergenceWarning: lbfgs failed to converge (status=1):\n",
            "STOP: TOTAL NO. of ITERATIONS REACHED LIMIT.\n",
            "\n",
            "Increase the number of iterations (max_iter) or scale the data as shown in:\n",
            "    https://scikit-learn.org/stable/modules/preprocessing.html\n",
            "Please also refer to the documentation for alternative solver options:\n",
            "    https://scikit-learn.org/stable/modules/linear_model.html#logistic-regression\n",
            "  extra_warning_msg=_LOGISTIC_SOLVER_CONVERGENCE_MSG,\n"
          ]
        },
        {
          "output_type": "execute_result",
          "data": {
            "text/plain": [
              "LogisticRegression()"
            ]
          },
          "metadata": {},
          "execution_count": 50
        }
      ]
    },
    {
      "cell_type": "code",
      "metadata": {
        "id": "TSopAfK0KqVJ"
      },
      "source": [
        "LR_nsw_y_pred=LR_nsw.predict(X_test_nsw_encoded)"
      ],
      "execution_count": null,
      "outputs": []
    },
    {
      "cell_type": "code",
      "metadata": {
        "id": "-LVz9tZMKs9V",
        "colab": {
          "base_uri": "https://localhost:8080/"
        },
        "outputId": "94f6bb63-16b7-477a-b464-102f8330e707"
      },
      "source": [
        "from sklearn.metrics import accuracy_score, precision_score, recall_score, f1_score, confusion_matrix, classification_report\n",
        "print(\"Accuracy: {}\".format(accuracy_score(test_y, LR_nsw_y_pred)))\n",
        "print(\"Precision: \",str(precision_score(test_y, LR_nsw_y_pred, average='macro')))\n",
        "print(\"Recall: \" + str(recall_score(test_y, LR_nsw_y_pred, average='macro')))\n",
        "print(\"F1 - micro: \" + str(f1_score(test_y, LR_nsw_y_pred, average='micro')))\n",
        "print(\"F1 - macro: \" + str(f1_score(test_y, LR_nsw_y_pred, average='macro')))\n",
        "\n",
        "\n",
        "cmLR_nsw = confusion_matrix(test_y, LR_nsw_y_pred)\n",
        "crLR_nsw = classification_report(test_y, LR_nsw_y_pred)"
      ],
      "execution_count": null,
      "outputs": [
        {
          "output_type": "stream",
          "name": "stdout",
          "text": [
            "Accuracy: 0.8654191616766467\n",
            "Precision:  0.6749487931024838\n",
            "Recall: 0.550464165520293\n",
            "F1 - micro: 0.8654191616766467\n",
            "F1 - macro: 0.5904533046688788\n"
          ]
        }
      ]
    },
    {
      "cell_type": "code",
      "metadata": {
        "id": "OeB--NaSK6UB",
        "colab": {
          "base_uri": "https://localhost:8080/",
          "height": 279
        },
        "outputId": "bec763f6-d556-4c3c-c15c-fb7c57d3a960"
      },
      "source": [
        "import matplotlib.pyplot as plt\n",
        "import seaborn as sn\n",
        "\n",
        "sn.heatmap(cmLR_nsw, annot=True, cmap=\"Greys\",fmt='g', cbar=True, annot_kws={\"size\": 30})\n",
        "plt.ylabel('True Label')\n",
        "plt.xlabel('Predicted Label')\n",
        "plt.show()"
      ],
      "execution_count": null,
      "outputs": [
        {
          "output_type": "display_data",
          "data": {
            "image/png": "[encoded data removed]",
            "text/plain": [
              "<Figure size 432x288 with 2 Axes>"
            ]
          },
          "metadata": {
            "needs_background": "light"
          }
        }
      ]
    },
    {
      "cell_type": "markdown",
      "metadata": {
        "id": "1AmsCi57gH6Q"
      },
      "source": [
        "### Decision Tree"
      ]
    },
    {
      "cell_type": "code",
      "metadata": {
        "id": "SLP4nMxXgMTd"
      },
      "source": [
        "from sklearn import tree\n",
        "DST_nsw = tree.DecisionTreeClassifier()\n",
        "DST_nsw = DST_nsw.fit(X_train_nsw_encoded, train_y)"
      ],
      "execution_count": null,
      "outputs": []
    },
    {
      "cell_type": "code",
      "metadata": {
        "id": "NL7DUj76irF9"
      },
      "source": [
        "DST_nsw_y_pred = DST_nsw.predict(X_test_nsw_encoded)"
      ],
      "execution_count": null,
      "outputs": []
    },
    {
      "cell_type": "code",
      "metadata": {
        "id": "CDs4wyt6iriX",
        "colab": {
          "base_uri": "https://localhost:8080/"
        },
        "outputId": "025e7884-50b9-4cbe-c3c5-c3da1220d716"
      },
      "source": [
        "from sklearn.metrics import accuracy_score, precision_score, recall_score, f1_score, confusion_matrix, classification_report\n",
        "print(\"Accuracy: {}\".format(accuracy_score(test_y, DST_nsw_y_pred)))\n",
        "print(\"Precision: \",str(precision_score(test_y, DST_nsw_y_pred, average='macro')))\n",
        "print(\"Recall: \" + str(recall_score(test_y, DST_nsw_y_pred, average='macro')))\n",
        "print(\"F1 - micro: \" + str(f1_score(test_y, DST_nsw_y_pred, average='micro')))\n",
        "print(\"F1 - macro: \" + str(f1_score(test_y, DST_nsw_y_pred, average='macro')))\n",
        "\n",
        "cmDST_nsw = confusion_matrix(test_y, DST_nsw_y_pred)\n",
        "crDST_nsw = classification_report(test_y, DST_nsw_y_pred)"
      ],
      "execution_count": null,
      "outputs": [
        {
          "output_type": "stream",
          "name": "stdout",
          "text": [
            "Accuracy: 0.8333832335329341\n",
            "Precision:  0.5724915626500633\n",
            "Recall: 0.546092692346947\n",
            "F1 - micro: 0.833383233532934\n",
            "F1 - macro: 0.5564530673841427\n"
          ]
        }
      ]
    },
    {
      "cell_type": "code",
      "metadata": {
        "id": "6B-zRjT4ivdY",
        "colab": {
          "base_uri": "https://localhost:8080/",
          "height": 279
        },
        "outputId": "0f161236-ac2e-46b6-e758-687b229e5dfb"
      },
      "source": [
        "import matplotlib.pyplot as plt\n",
        "import seaborn as sn\n",
        "\n",
        "sn.heatmap(cmDST_nsw, annot=True, cmap=\"Greys\",fmt='g', cbar=True, annot_kws={\"size\": 30})\n",
        "plt.ylabel('True Label')\n",
        "plt.xlabel('Predicted Label')\n",
        "plt.show()"
      ],
      "execution_count": null,
      "outputs": [
        {
          "output_type": "display_data",
          "data": {
            "image/png": "[encoded data removed]",
            "text/plain": [
              "<Figure size 432x288 with 2 Axes>"
            ]
          },
          "metadata": {
            "needs_background": "light"
          }
        }
      ]
    },
    {
      "cell_type": "markdown",
      "metadata": {
        "id": "ELKsb9JiieFR"
      },
      "source": [
        "### Random Forest Classifier"
      ]
    },
    {
      "cell_type": "code",
      "metadata": {
        "id": "SQYtmbQlioV7",
        "colab": {
          "base_uri": "https://localhost:8080/"
        },
        "outputId": "212dc659-7aae-4b2e-9832-6ceca9de9130"
      },
      "source": [
        "from sklearn.ensemble import RandomForestClassifier\n",
        "\n",
        "RF_nsw = RandomForestClassifier()\n",
        "RF_nsw.fit(X_train_nsw_encoded, train_y)\n"
      ],
      "execution_count": null,
      "outputs": [
        {
          "output_type": "execute_result",
          "data": {
            "text/plain": [
              "RandomForestClassifier()"
            ]
          },
          "metadata": {},
          "execution_count": 58
        }
      ]
    },
    {
      "cell_type": "code",
      "metadata": {
        "id": "P-evbGOnS-1s"
      },
      "source": [
        "RF_nsw_y_pred = RF_nsw.predict(X_test_nsw_encoded)"
      ],
      "execution_count": null,
      "outputs": []
    },
    {
      "cell_type": "code",
      "metadata": {
        "id": "qzGvXP9-TP5e",
        "colab": {
          "base_uri": "https://localhost:8080/"
        },
        "outputId": "abed3183-a56a-48b5-8084-fcd1e8e31b7f"
      },
      "source": [
        "from sklearn.metrics import accuracy_score, precision_score, recall_score, f1_score, confusion_matrix, classification_report\n",
        "print(\"Accuracy: {}\".format(accuracy_score(test_y, RF_nsw_y_pred)))\n",
        "print(\"Precision: \",str(precision_score(test_y, RF_nsw_y_pred, average='macro')))\n",
        "print(\"Recall: \" + str(recall_score(test_y, RF_nsw_y_pred, average='macro')))\n",
        "print(\"F1 - micro: \" + str(f1_score(test_y, RF_nsw_y_pred, average='micro')))\n",
        "print(\"F1 - macro: \" + str(f1_score(test_y, RF_nsw_y_pred, average='macro')))\n",
        "\n",
        "cmRF_nsw = confusion_matrix(test_y, RF_nsw_y_pred)\n",
        "crRF_nsw = classification_report(test_y, RF_nsw_y_pred)"
      ],
      "execution_count": null,
      "outputs": [
        {
          "output_type": "stream",
          "name": "stdout",
          "text": [
            "Accuracy: 0.8529940119760479\n",
            "Precision:  0.6380337406694169\n",
            "Recall: 0.5282243121544107\n",
            "F1 - micro: 0.8529940119760479\n",
            "F1 - macro: 0.5639731798246119\n"
          ]
        }
      ]
    },
    {
      "cell_type": "code",
      "metadata": {
        "id": "2lMXKvqkX0pi",
        "colab": {
          "base_uri": "https://localhost:8080/",
          "height": 279
        },
        "outputId": "f7b1db29-5d38-4524-9804-c09a0134a6a4"
      },
      "source": [
        "import matplotlib.pyplot as plt\n",
        "import seaborn as sn\n",
        "\n",
        "sn.heatmap(cmRF_nsw, annot=True, cmap=\"Greys\",fmt='g', cbar=True, annot_kws={\"size\": 30})\n",
        "plt.ylabel('True Label')\n",
        "plt.xlabel('Predicted Label')\n",
        "plt.show()"
      ],
      "execution_count": null,
      "outputs": [
        {
          "output_type": "display_data",
          "data": {
            "image/png": "[encoded data removed]",
            "text/plain": [
              "<Figure size 432x288 with 2 Axes>"
            ]
          },
          "metadata": {
            "needs_background": "light"
          }
        }
      ]
    },
    {
      "cell_type": "code",
      "source": [
        "## Test wrong case\n",
        "i=0\n",
        "for idx, text_input, prediction, label in zip(enumerate(X_test_nsw_encoded), X_test_nsw_encoded, RF_nsw_y_pred, y_test):\n",
        "    if prediction != label:\n",
        "        i+=1\n",
        "        print(\"No.\", idx[0], ', has been classified as', prediction, 'and should be', label) \n",
        "print(i)"
      ],
      "metadata": {
        "id": "9zP0JUnbsckZ",
        "colab": {
          "base_uri": "https://localhost:8080/"
        },
        "outputId": "dfe8767f-8978-4a27-c505-a81936d41efb"
      },
      "execution_count": null,
      "outputs": [
        {
          "output_type": "stream",
          "name": "stdout",
          "text": [
            "No. 0 , has been classified as 2 and should be 0\n",
            "No. 1 , has been classified as 0 and should be 1\n",
            "No. 4 , has been classified as 0 and should be 1\n",
            "No. 9 , has been classified as 1 and should be 0\n",
            "No. 13 , has been classified as 2 and should be 0\n",
            "No. 23 , has been classified as 0 and should be 2\n",
            "No. 34 , has been classified as 0 and should be 1\n",
            "No. 60 , has been classified as 0 and should be 1\n",
            "No. 64 , has been classified as 0 and should be 1\n",
            "No. 76 , has been classified as 0 and should be 2\n",
            "No. 80 , has been classified as 0 and should be 2\n",
            "No. 109 , has been classified as 1 and should be 2\n",
            "No. 113 , has been classified as 1 and should be 2\n",
            "No. 129 , has been classified as 2 and should be 0\n",
            "No. 131 , has been classified as 0 and should be 2\n",
            "No. 136 , has been classified as 1 and should be 0\n",
            "No. 138 , has been classified as 1 and should be 0\n",
            "No. 142 , has been classified as 0 and should be 2\n",
            "No. 143 , has been classified as 0 and should be 2\n",
            "No. 144 , has been classified as 0 and should be 1\n",
            "No. 159 , has been classified as 2 and should be 1\n",
            "No. 172 , has been classified as 0 and should be 2\n",
            "No. 173 , has been classified as 0 and should be 2\n",
            "No. 197 , has been classified as 0 and should be 2\n",
            "No. 198 , has been classified as 0 and should be 2\n",
            "No. 207 , has been classified as 1 and should be 2\n",
            "No. 214 , has been classified as 0 and should be 1\n",
            "No. 226 , has been classified as 0 and should be 1\n",
            "No. 227 , has been classified as 2 and should be 1\n",
            "No. 230 , has been classified as 0 and should be 2\n",
            "No. 231 , has been classified as 1 and should be 2\n",
            "No. 234 , has been classified as 0 and should be 2\n",
            "No. 235 , has been classified as 0 and should be 2\n",
            "No. 248 , has been classified as 0 and should be 1\n",
            "No. 254 , has been classified as 1 and should be 2\n",
            "No. 259 , has been classified as 0 and should be 1\n",
            "No. 264 , has been classified as 2 and should be 0\n",
            "No. 272 , has been classified as 1 and should be 2\n",
            "No. 273 , has been classified as 0 and should be 2\n",
            "No. 274 , has been classified as 2 and should be 0\n",
            "No. 278 , has been classified as 0 and should be 1\n",
            "No. 290 , has been classified as 1 and should be 0\n",
            "No. 304 , has been classified as 0 and should be 2\n",
            "No. 305 , has been classified as 1 and should be 2\n",
            "No. 316 , has been classified as 0 and should be 2\n",
            "No. 333 , has been classified as 0 and should be 1\n",
            "No. 335 , has been classified as 0 and should be 1\n",
            "No. 342 , has been classified as 0 and should be 2\n",
            "No. 357 , has been classified as 1 and should be 0\n",
            "No. 360 , has been classified as 0 and should be 2\n",
            "No. 370 , has been classified as 0 and should be 2\n",
            "No. 371 , has been classified as 0 and should be 2\n",
            "No. 373 , has been classified as 2 and should be 0\n",
            "No. 381 , has been classified as 2 and should be 0\n",
            "No. 384 , has been classified as 0 and should be 2\n",
            "No. 395 , has been classified as 0 and should be 2\n",
            "No. 419 , has been classified as 0 and should be 1\n",
            "No. 424 , has been classified as 1 and should be 2\n",
            "No. 425 , has been classified as 0 and should be 2\n",
            "No. 426 , has been classified as 0 and should be 1\n",
            "No. 434 , has been classified as 0 and should be 1\n",
            "No. 439 , has been classified as 0 and should be 2\n",
            "No. 446 , has been classified as 2 and should be 0\n",
            "No. 460 , has been classified as 0 and should be 2\n",
            "No. 479 , has been classified as 2 and should be 0\n",
            "No. 485 , has been classified as 0 and should be 1\n",
            "No. 491 , has been classified as 0 and should be 2\n",
            "No. 495 , has been classified as 0 and should be 1\n",
            "No. 499 , has been classified as 0 and should be 2\n",
            "No. 507 , has been classified as 0 and should be 2\n",
            "No. 510 , has been classified as 0 and should be 2\n",
            "No. 513 , has been classified as 0 and should be 1\n",
            "No. 516 , has been classified as 0 and should be 2\n",
            "No. 530 , has been classified as 0 and should be 1\n",
            "No. 535 , has been classified as 2 and should be 0\n",
            "No. 539 , has been classified as 0 and should be 1\n",
            "No. 540 , has been classified as 2 and should be 0\n",
            "No. 552 , has been classified as 0 and should be 2\n",
            "No. 558 , has been classified as 0 and should be 2\n",
            "No. 566 , has been classified as 0 and should be 1\n",
            "No. 571 , has been classified as 0 and should be 2\n",
            "No. 589 , has been classified as 1 and should be 2\n",
            "No. 593 , has been classified as 0 and should be 2\n",
            "No. 599 , has been classified as 0 and should be 2\n",
            "No. 603 , has been classified as 0 and should be 1\n",
            "No. 604 , has been classified as 0 and should be 2\n",
            "No. 605 , has been classified as 0 and should be 1\n",
            "No. 606 , has been classified as 2 and should be 0\n",
            "No. 607 , has been classified as 0 and should be 1\n",
            "No. 611 , has been classified as 1 and should be 2\n",
            "No. 613 , has been classified as 0 and should be 1\n",
            "No. 622 , has been classified as 2 and should be 1\n",
            "No. 624 , has been classified as 0 and should be 2\n",
            "No. 629 , has been classified as 0 and should be 2\n",
            "No. 634 , has been classified as 0 and should be 1\n",
            "No. 637 , has been classified as 2 and should be 0\n",
            "No. 646 , has been classified as 1 and should be 0\n",
            "No. 647 , has been classified as 0 and should be 1\n",
            "No. 653 , has been classified as 0 and should be 2\n",
            "No. 663 , has been classified as 0 and should be 1\n",
            "No. 674 , has been classified as 0 and should be 1\n",
            "No. 676 , has been classified as 1 and should be 2\n",
            "No. 683 , has been classified as 2 and should be 0\n",
            "No. 684 , has been classified as 0 and should be 2\n",
            "No. 704 , has been classified as 0 and should be 1\n",
            "No. 705 , has been classified as 0 and should be 2\n",
            "No. 707 , has been classified as 0 and should be 2\n",
            "No. 708 , has been classified as 0 and should be 1\n",
            "No. 709 , has been classified as 0 and should be 1\n",
            "No. 713 , has been classified as 1 and should be 0\n",
            "No. 717 , has been classified as 0 and should be 1\n",
            "No. 724 , has been classified as 0 and should be 2\n",
            "No. 729 , has been classified as 0 and should be 1\n",
            "No. 730 , has been classified as 0 and should be 2\n",
            "No. 739 , has been classified as 0 and should be 2\n",
            "No. 742 , has been classified as 0 and should be 2\n",
            "No. 750 , has been classified as 0 and should be 2\n",
            "No. 751 , has been classified as 0 and should be 1\n",
            "No. 763 , has been classified as 2 and should be 1\n",
            "No. 765 , has been classified as 0 and should be 2\n",
            "No. 772 , has been classified as 0 and should be 2\n",
            "No. 778 , has been classified as 0 and should be 2\n",
            "No. 807 , has been classified as 0 and should be 1\n",
            "No. 808 , has been classified as 2 and should be 0\n",
            "No. 827 , has been classified as 0 and should be 1\n",
            "No. 831 , has been classified as 0 and should be 1\n",
            "No. 834 , has been classified as 0 and should be 1\n",
            "No. 835 , has been classified as 0 and should be 1\n",
            "No. 837 , has been classified as 0 and should be 1\n",
            "No. 844 , has been classified as 0 and should be 2\n",
            "No. 847 , has been classified as 0 and should be 2\n",
            "No. 861 , has been classified as 2 and should be 0\n",
            "No. 868 , has been classified as 0 and should be 2\n",
            "No. 872 , has been classified as 0 and should be 2\n",
            "No. 894 , has been classified as 0 and should be 2\n",
            "No. 896 , has been classified as 2 and should be 1\n",
            "No. 915 , has been classified as 2 and should be 0\n",
            "No. 919 , has been classified as 0 and should be 1\n",
            "No. 925 , has been classified as 0 and should be 1\n",
            "No. 926 , has been classified as 1 and should be 0\n",
            "No. 934 , has been classified as 0 and should be 1\n",
            "No. 936 , has been classified as 0 and should be 2\n",
            "No. 937 , has been classified as 0 and should be 2\n",
            "No. 941 , has been classified as 1 and should be 2\n",
            "No. 945 , has been classified as 2 and should be 0\n",
            "No. 949 , has been classified as 0 and should be 2\n",
            "No. 950 , has been classified as 0 and should be 2\n",
            "No. 958 , has been classified as 0 and should be 2\n",
            "No. 960 , has been classified as 0 and should be 1\n",
            "No. 963 , has been classified as 0 and should be 2\n",
            "No. 973 , has been classified as 0 and should be 2\n",
            "No. 998 , has been classified as 0 and should be 1\n",
            "No. 1002 , has been classified as 0 and should be 1\n",
            "No. 1021 , has been classified as 0 and should be 1\n",
            "No. 1026 , has been classified as 0 and should be 2\n",
            "No. 1036 , has been classified as 2 and should be 0\n",
            "No. 1040 , has been classified as 0 and should be 2\n",
            "No. 1042 , has been classified as 0 and should be 1\n",
            "No. 1045 , has been classified as 1 and should be 2\n",
            "No. 1049 , has been classified as 0 and should be 1\n",
            "No. 1059 , has been classified as 0 and should be 2\n",
            "No. 1064 , has been classified as 1 and should be 2\n",
            "No. 1070 , has been classified as 1 and should be 0\n",
            "No. 1086 , has been classified as 1 and should be 2\n",
            "No. 1096 , has been classified as 0 and should be 1\n",
            "No. 1099 , has been classified as 1 and should be 0\n",
            "No. 1130 , has been classified as 0 and should be 2\n",
            "No. 1133 , has been classified as 0 and should be 2\n",
            "No. 1138 , has been classified as 2 and should be 1\n",
            "No. 1146 , has been classified as 1 and should be 2\n",
            "No. 1147 , has been classified as 0 and should be 2\n",
            "No. 1155 , has been classified as 0 and should be 2\n",
            "No. 1162 , has been classified as 0 and should be 2\n",
            "No. 1169 , has been classified as 0 and should be 2\n",
            "No. 1188 , has been classified as 1 and should be 2\n",
            "No. 1195 , has been classified as 1 and should be 0\n",
            "No. 1223 , has been classified as 2 and should be 1\n",
            "No. 1226 , has been classified as 1 and should be 0\n",
            "No. 1229 , has been classified as 0 and should be 2\n",
            "No. 1242 , has been classified as 0 and should be 2\n",
            "No. 1247 , has been classified as 0 and should be 2\n",
            "No. 1248 , has been classified as 0 and should be 2\n",
            "No. 1249 , has been classified as 1 and should be 2\n",
            "No. 1256 , has been classified as 0 and should be 2\n",
            "No. 1274 , has been classified as 2 and should be 0\n",
            "No. 1281 , has been classified as 0 and should be 2\n",
            "No. 1285 , has been classified as 0 and should be 1\n",
            "No. 1291 , has been classified as 0 and should be 2\n",
            "No. 1300 , has been classified as 0 and should be 1\n",
            "No. 1301 , has been classified as 0 and should be 2\n",
            "No. 1305 , has been classified as 0 and should be 2\n",
            "No. 1309 , has been classified as 0 and should be 2\n",
            "No. 1310 , has been classified as 1 and should be 0\n",
            "No. 1311 , has been classified as 0 and should be 1\n",
            "No. 1315 , has been classified as 2 and should be 0\n",
            "No. 1331 , has been classified as 0 and should be 2\n",
            "No. 1334 , has been classified as 0 and should be 2\n",
            "No. 1346 , has been classified as 0 and should be 1\n",
            "No. 1347 , has been classified as 0 and should be 1\n",
            "No. 1349 , has been classified as 0 and should be 2\n",
            "No. 1353 , has been classified as 0 and should be 2\n",
            "No. 1356 , has been classified as 1 and should be 0\n",
            "No. 1359 , has been classified as 0 and should be 1\n",
            "No. 1365 , has been classified as 0 and should be 2\n",
            "No. 1367 , has been classified as 0 and should be 1\n",
            "No. 1375 , has been classified as 0 and should be 2\n",
            "No. 1381 , has been classified as 1 and should be 0\n",
            "No. 1387 , has been classified as 2 and should be 1\n",
            "No. 1388 , has been classified as 1 and should be 2\n",
            "No. 1400 , has been classified as 0 and should be 1\n",
            "No. 1413 , has been classified as 0 and should be 2\n",
            "No. 1421 , has been classified as 0 and should be 1\n",
            "No. 1423 , has been classified as 0 and should be 1\n",
            "No. 1424 , has been classified as 0 and should be 2\n",
            "No. 1430 , has been classified as 0 and should be 1\n",
            "No. 1433 , has been classified as 0 and should be 2\n",
            "No. 1437 , has been classified as 2 and should be 0\n",
            "No. 1442 , has been classified as 0 and should be 2\n",
            "No. 1447 , has been classified as 0 and should be 1\n",
            "No. 1463 , has been classified as 0 and should be 2\n",
            "No. 1465 , has been classified as 0 and should be 1\n",
            "No. 1466 , has been classified as 0 and should be 2\n",
            "No. 1468 , has been classified as 0 and should be 2\n",
            "No. 1476 , has been classified as 1 and should be 0\n",
            "No. 1483 , has been classified as 0 and should be 2\n",
            "No. 1488 , has been classified as 0 and should be 1\n",
            "No. 1490 , has been classified as 0 and should be 1\n",
            "No. 1491 , has been classified as 2 and should be 1\n",
            "No. 1493 , has been classified as 0 and should be 2\n",
            "No. 1497 , has been classified as 0 and should be 1\n",
            "No. 1500 , has been classified as 0 and should be 1\n",
            "No. 1501 , has been classified as 0 and should be 2\n",
            "No. 1507 , has been classified as 0 and should be 1\n",
            "No. 1511 , has been classified as 0 and should be 2\n",
            "No. 1522 , has been classified as 1 and should be 0\n",
            "No. 1523 , has been classified as 0 and should be 1\n",
            "No. 1525 , has been classified as 0 and should be 2\n",
            "No. 1533 , has been classified as 0 and should be 2\n",
            "No. 1539 , has been classified as 0 and should be 2\n",
            "No. 1541 , has been classified as 0 and should be 1\n",
            "No. 1545 , has been classified as 0 and should be 1\n",
            "No. 1549 , has been classified as 1 and should be 2\n",
            "No. 1552 , has been classified as 0 and should be 2\n",
            "No. 1556 , has been classified as 0 and should be 1\n",
            "No. 1563 , has been classified as 2 and should be 0\n",
            "No. 1592 , has been classified as 0 and should be 1\n",
            "No. 1593 , has been classified as 2 and should be 1\n",
            "No. 1595 , has been classified as 0 and should be 2\n",
            "No. 1598 , has been classified as 1 and should be 0\n",
            "No. 1601 , has been classified as 0 and should be 1\n",
            "No. 1605 , has been classified as 0 and should be 1\n",
            "No. 1628 , has been classified as 0 and should be 2\n",
            "No. 1634 , has been classified as 2 and should be 0\n",
            "No. 1643 , has been classified as 1 and should be 2\n",
            "No. 1645 , has been classified as 0 and should be 1\n",
            "No. 1647 , has been classified as 0 and should be 1\n",
            "No. 1662 , has been classified as 1 and should be 2\n",
            "No. 1666 , has been classified as 1 and should be 2\n",
            "No. 1677 , has been classified as 1 and should be 0\n",
            "No. 1702 , has been classified as 2 and should be 1\n",
            "No. 1706 , has been classified as 0 and should be 2\n",
            "No. 1707 , has been classified as 1 and should be 2\n",
            "No. 1713 , has been classified as 2 and should be 0\n",
            "No. 1719 , has been classified as 2 and should be 1\n",
            "No. 1720 , has been classified as 2 and should be 1\n",
            "No. 1723 , has been classified as 0 and should be 2\n",
            "No. 1733 , has been classified as 0 and should be 2\n",
            "No. 1746 , has been classified as 1 and should be 0\n",
            "No. 1748 , has been classified as 0 and should be 1\n",
            "No. 1751 , has been classified as 0 and should be 2\n",
            "No. 1752 , has been classified as 2 and should be 0\n",
            "No. 1757 , has been classified as 0 and should be 1\n",
            "No. 1767 , has been classified as 0 and should be 2\n",
            "No. 1769 , has been classified as 1 and should be 0\n",
            "No. 1785 , has been classified as 0 and should be 1\n",
            "No. 1807 , has been classified as 0 and should be 2\n",
            "No. 1827 , has been classified as 0 and should be 1\n",
            "No. 1835 , has been classified as 0 and should be 2\n",
            "No. 1836 , has been classified as 0 and should be 1\n",
            "No. 1837 , has been classified as 0 and should be 2\n",
            "No. 1839 , has been classified as 1 and should be 0\n",
            "No. 1841 , has been classified as 1 and should be 2\n",
            "No. 1847 , has been classified as 1 and should be 0\n",
            "No. 1856 , has been classified as 0 and should be 2\n",
            "No. 1869 , has been classified as 0 and should be 2\n",
            "No. 1871 , has been classified as 2 and should be 0\n",
            "No. 1874 , has been classified as 0 and should be 2\n",
            "No. 1881 , has been classified as 0 and should be 2\n",
            "No. 1886 , has been classified as 0 and should be 2\n",
            "No. 1888 , has been classified as 0 and should be 2\n",
            "No. 1900 , has been classified as 2 and should be 0\n",
            "No. 1903 , has been classified as 0 and should be 2\n",
            "No. 1913 , has been classified as 0 and should be 2\n",
            "No. 1919 , has been classified as 2 and should be 1\n",
            "No. 1924 , has been classified as 0 and should be 1\n",
            "No. 1925 , has been classified as 0 and should be 2\n",
            "No. 1935 , has been classified as 2 and should be 1\n",
            "No. 1937 , has been classified as 0 and should be 2\n",
            "No. 1951 , has been classified as 1 and should be 2\n",
            "No. 1955 , has been classified as 0 and should be 2\n",
            "No. 1959 , has been classified as 1 and should be 2\n",
            "No. 1971 , has been classified as 1 and should be 0\n",
            "No. 1976 , has been classified as 0 and should be 1\n",
            "No. 1991 , has been classified as 0 and should be 2\n",
            "No. 1996 , has been classified as 0 and should be 2\n",
            "No. 1999 , has been classified as 1 and should be 0\n",
            "No. 2008 , has been classified as 0 and should be 1\n",
            "No. 2010 , has been classified as 0 and should be 2\n",
            "No. 2026 , has been classified as 0 and should be 2\n",
            "No. 2027 , has been classified as 0 and should be 1\n",
            "No. 2029 , has been classified as 0 and should be 2\n",
            "No. 2030 , has been classified as 1 and should be 0\n",
            "No. 2036 , has been classified as 1 and should be 0\n",
            "No. 2046 , has been classified as 2 and should be 0\n",
            "No. 2057 , has been classified as 0 and should be 2\n",
            "No. 2060 , has been classified as 1 and should be 2\n",
            "No. 2062 , has been classified as 0 and should be 2\n",
            "No. 2077 , has been classified as 1 and should be 0\n",
            "No. 2082 , has been classified as 0 and should be 1\n",
            "No. 2093 , has been classified as 1 and should be 2\n",
            "No. 2097 , has been classified as 2 and should be 0\n",
            "No. 2098 , has been classified as 1 and should be 2\n",
            "No. 2102 , has been classified as 0 and should be 2\n",
            "No. 2114 , has been classified as 0 and should be 1\n",
            "No. 2121 , has been classified as 2 and should be 0\n",
            "No. 2128 , has been classified as 0 and should be 1\n",
            "No. 2133 , has been classified as 1 and should be 2\n",
            "No. 2135 , has been classified as 0 and should be 2\n",
            "No. 2144 , has been classified as 0 and should be 2\n",
            "No. 2155 , has been classified as 0 and should be 2\n",
            "No. 2163 , has been classified as 2 and should be 1\n",
            "No. 2176 , has been classified as 0 and should be 1\n",
            "No. 2190 , has been classified as 0 and should be 1\n",
            "No. 2193 , has been classified as 0 and should be 2\n",
            "No. 2204 , has been classified as 0 and should be 1\n",
            "No. 2206 , has been classified as 2 and should be 1\n",
            "No. 2218 , has been classified as 2 and should be 0\n",
            "No. 2241 , has been classified as 0 and should be 2\n",
            "No. 2244 , has been classified as 0 and should be 2\n",
            "No. 2249 , has been classified as 0 and should be 2\n",
            "No. 2259 , has been classified as 0 and should be 2\n",
            "No. 2263 , has been classified as 2 and should be 0\n",
            "No. 2265 , has been classified as 1 and should be 2\n",
            "No. 2268 , has been classified as 0 and should be 2\n",
            "No. 2275 , has been classified as 0 and should be 2\n",
            "No. 2276 , has been classified as 1 and should be 0\n",
            "No. 2280 , has been classified as 2 and should be 1\n",
            "No. 2285 , has been classified as 2 and should be 1\n",
            "No. 2296 , has been classified as 2 and should be 0\n",
            "No. 2300 , has been classified as 0 and should be 2\n",
            "No. 2303 , has been classified as 0 and should be 2\n",
            "No. 2305 , has been classified as 0 and should be 1\n",
            "No. 2319 , has been classified as 1 and should be 0\n",
            "No. 2325 , has been classified as 0 and should be 1\n",
            "No. 2342 , has been classified as 0 and should be 2\n",
            "No. 2347 , has been classified as 1 and should be 0\n",
            "No. 2349 , has been classified as 0 and should be 2\n",
            "No. 2353 , has been classified as 0 and should be 1\n",
            "No. 2355 , has been classified as 0 and should be 1\n",
            "No. 2372 , has been classified as 0 and should be 2\n",
            "No. 2391 , has been classified as 0 and should be 1\n",
            "No. 2396 , has been classified as 0 and should be 1\n",
            "No. 2399 , has been classified as 1 and should be 2\n",
            "No. 2409 , has been classified as 0 and should be 2\n",
            "No. 2411 , has been classified as 0 and should be 1\n",
            "No. 2422 , has been classified as 0 and should be 1\n",
            "No. 2431 , has been classified as 0 and should be 1\n",
            "No. 2446 , has been classified as 0 and should be 1\n",
            "No. 2462 , has been classified as 1 and should be 0\n",
            "No. 2467 , has been classified as 1 and should be 0\n",
            "No. 2468 , has been classified as 0 and should be 2\n",
            "No. 2476 , has been classified as 2 and should be 0\n",
            "No. 2492 , has been classified as 0 and should be 2\n",
            "No. 2504 , has been classified as 0 and should be 2\n",
            "No. 2505 , has been classified as 0 and should be 1\n",
            "No. 2520 , has been classified as 0 and should be 2\n",
            "No. 2528 , has been classified as 2 and should be 0\n",
            "No. 2529 , has been classified as 0 and should be 2\n",
            "No. 2531 , has been classified as 0 and should be 2\n",
            "No. 2535 , has been classified as 1 and should be 2\n",
            "No. 2545 , has been classified as 0 and should be 1\n",
            "No. 2548 , has been classified as 2 and should be 0\n",
            "No. 2551 , has been classified as 0 and should be 1\n",
            "No. 2568 , has been classified as 0 and should be 2\n",
            "No. 2570 , has been classified as 0 and should be 2\n",
            "No. 2579 , has been classified as 0 and should be 1\n",
            "No. 2582 , has been classified as 2 and should be 0\n",
            "No. 2592 , has been classified as 0 and should be 1\n",
            "No. 2594 , has been classified as 0 and should be 1\n",
            "No. 2596 , has been classified as 0 and should be 2\n",
            "No. 2601 , has been classified as 1 and should be 2\n",
            "No. 2607 , has been classified as 0 and should be 1\n",
            "No. 2617 , has been classified as 0 and should be 2\n",
            "No. 2618 , has been classified as 1 and should be 0\n",
            "No. 2627 , has been classified as 1 and should be 2\n",
            "No. 2628 , has been classified as 0 and should be 1\n",
            "No. 2630 , has been classified as 0 and should be 1\n",
            "No. 2641 , has been classified as 0 and should be 2\n",
            "No. 2651 , has been classified as 1 and should be 2\n",
            "No. 2653 , has been classified as 0 and should be 2\n",
            "No. 2666 , has been classified as 0 and should be 1\n",
            "No. 2667 , has been classified as 2 and should be 0\n",
            "No. 2670 , has been classified as 1 and should be 0\n",
            "No. 2684 , has been classified as 0 and should be 2\n",
            "No. 2700 , has been classified as 1 and should be 0\n",
            "No. 2712 , has been classified as 1 and should be 0\n",
            "No. 2722 , has been classified as 0 and should be 1\n",
            "No. 2723 , has been classified as 0 and should be 2\n",
            "No. 2728 , has been classified as 1 and should be 2\n",
            "No. 2734 , has been classified as 0 and should be 1\n",
            "No. 2735 , has been classified as 0 and should be 1\n",
            "No. 2736 , has been classified as 0 and should be 1\n",
            "No. 2737 , has been classified as 0 and should be 2\n",
            "No. 2748 , has been classified as 0 and should be 2\n",
            "No. 2754 , has been classified as 0 and should be 2\n",
            "No. 2755 , has been classified as 1 and should be 0\n",
            "No. 2760 , has been classified as 1 and should be 0\n",
            "No. 2763 , has been classified as 1 and should be 2\n",
            "No. 2766 , has been classified as 0 and should be 2\n",
            "No. 2767 , has been classified as 0 and should be 1\n",
            "No. 2768 , has been classified as 0 and should be 2\n",
            "No. 2775 , has been classified as 0 and should be 1\n",
            "No. 2777 , has been classified as 0 and should be 2\n",
            "No. 2779 , has been classified as 0 and should be 1\n",
            "No. 2781 , has been classified as 0 and should be 1\n",
            "No. 2788 , has been classified as 0 and should be 2\n",
            "No. 2791 , has been classified as 1 and should be 0\n",
            "No. 2802 , has been classified as 2 and should be 0\n",
            "No. 2805 , has been classified as 0 and should be 2\n",
            "No. 2809 , has been classified as 0 and should be 1\n",
            "No. 2810 , has been classified as 0 and should be 1\n",
            "No. 2847 , has been classified as 0 and should be 1\n",
            "No. 2850 , has been classified as 0 and should be 2\n",
            "No. 2859 , has been classified as 0 and should be 2\n",
            "No. 2866 , has been classified as 0 and should be 1\n",
            "No. 2875 , has been classified as 2 and should be 0\n",
            "No. 2884 , has been classified as 1 and should be 2\n",
            "No. 2894 , has been classified as 0 and should be 1\n",
            "No. 2900 , has been classified as 0 and should be 2\n",
            "No. 2906 , has been classified as 0 and should be 2\n",
            "No. 2907 , has been classified as 0 and should be 2\n",
            "No. 2908 , has been classified as 0 and should be 2\n",
            "No. 2915 , has been classified as 2 and should be 0\n",
            "No. 2921 , has been classified as 1 and should be 2\n",
            "No. 2930 , has been classified as 2 and should be 0\n",
            "No. 2939 , has been classified as 0 and should be 1\n",
            "No. 2945 , has been classified as 0 and should be 2\n",
            "No. 2947 , has been classified as 2 and should be 1\n",
            "No. 2948 , has been classified as 0 and should be 2\n",
            "No. 2949 , has been classified as 1 and should be 0\n",
            "No. 2956 , has been classified as 0 and should be 2\n",
            "No. 2960 , has been classified as 1 and should be 2\n",
            "No. 2966 , has been classified as 1 and should be 2\n",
            "No. 2967 , has been classified as 0 and should be 2\n",
            "No. 2968 , has been classified as 0 and should be 2\n",
            "No. 2973 , has been classified as 0 and should be 1\n",
            "No. 2977 , has been classified as 0 and should be 2\n",
            "No. 2980 , has been classified as 0 and should be 2\n",
            "No. 2981 , has been classified as 0 and should be 2\n",
            "No. 2982 , has been classified as 0 and should be 2\n",
            "No. 2988 , has been classified as 0 and should be 1\n",
            "No. 2990 , has been classified as 2 and should be 0\n",
            "No. 2991 , has been classified as 0 and should be 2\n",
            "No. 2999 , has been classified as 2 and should be 1\n",
            "No. 3027 , has been classified as 0 and should be 2\n",
            "No. 3034 , has been classified as 1 and should be 0\n",
            "No. 3045 , has been classified as 1 and should be 0\n",
            "No. 3058 , has been classified as 0 and should be 1\n",
            "No. 3060 , has been classified as 0 and should be 2\n",
            "No. 3064 , has been classified as 2 and should be 0\n",
            "No. 3099 , has been classified as 1 and should be 2\n",
            "No. 3104 , has been classified as 0 and should be 1\n",
            "No. 3109 , has been classified as 1 and should be 0\n",
            "No. 3116 , has been classified as 0 and should be 2\n",
            "No. 3122 , has been classified as 2 and should be 0\n",
            "No. 3128 , has been classified as 0 and should be 2\n",
            "No. 3133 , has been classified as 0 and should be 2\n",
            "No. 3154 , has been classified as 0 and should be 1\n",
            "No. 3156 , has been classified as 2 and should be 1\n",
            "No. 3159 , has been classified as 2 and should be 0\n",
            "No. 3186 , has been classified as 0 and should be 2\n",
            "No. 3193 , has been classified as 0 and should be 1\n",
            "No. 3209 , has been classified as 2 and should be 0\n",
            "No. 3219 , has been classified as 0 and should be 1\n",
            "No. 3222 , has been classified as 2 and should be 0\n",
            "No. 3223 , has been classified as 1 and should be 0\n",
            "No. 3237 , has been classified as 0 and should be 2\n",
            "No. 3256 , has been classified as 0 and should be 1\n",
            "No. 3267 , has been classified as 0 and should be 2\n",
            "No. 3270 , has been classified as 0 and should be 1\n",
            "No. 3273 , has been classified as 1 and should be 0\n",
            "No. 3275 , has been classified as 1 and should be 2\n",
            "No. 3282 , has been classified as 1 and should be 0\n",
            "No. 3291 , has been classified as 1 and should be 2\n",
            "No. 3299 , has been classified as 0 and should be 2\n",
            "No. 3304 , has been classified as 0 and should be 2\n",
            "No. 3309 , has been classified as 0 and should be 2\n",
            "No. 3310 , has been classified as 2 and should be 1\n",
            "No. 3318 , has been classified as 2 and should be 0\n",
            "No. 3327 , has been classified as 0 and should be 2\n",
            "No. 3328 , has been classified as 0 and should be 1\n",
            "No. 3331 , has been classified as 2 and should be 0\n",
            "No. 3333 , has been classified as 1 and should be 2\n",
            "No. 3366 , has been classified as 1 and should be 2\n",
            "No. 3374 , has been classified as 0 and should be 2\n",
            "No. 3378 , has been classified as 0 and should be 2\n",
            "No. 3379 , has been classified as 0 and should be 2\n",
            "No. 3384 , has been classified as 2 and should be 0\n",
            "No. 3395 , has been classified as 0 and should be 2\n",
            "No. 3400 , has been classified as 0 and should be 2\n",
            "No. 3404 , has been classified as 1 and should be 0\n",
            "No. 3405 , has been classified as 2 and should be 0\n",
            "No. 3418 , has been classified as 0 and should be 1\n",
            "No. 3422 , has been classified as 0 and should be 2\n",
            "No. 3428 , has been classified as 2 and should be 1\n",
            "No. 3434 , has been classified as 0 and should be 1\n",
            "No. 3453 , has been classified as 1 and should be 2\n",
            "No. 3455 , has been classified as 0 and should be 2\n",
            "No. 3456 , has been classified as 0 and should be 2\n",
            "No. 3458 , has been classified as 0 and should be 2\n",
            "No. 3460 , has been classified as 1 and should be 0\n",
            "No. 3466 , has been classified as 0 and should be 1\n",
            "No. 3469 , has been classified as 1 and should be 2\n",
            "No. 3470 , has been classified as 0 and should be 2\n",
            "No. 3501 , has been classified as 0 and should be 2\n",
            "No. 3510 , has been classified as 0 and should be 2\n",
            "No. 3511 , has been classified as 0 and should be 1\n",
            "No. 3515 , has been classified as 0 and should be 1\n",
            "No. 3521 , has been classified as 0 and should be 2\n",
            "No. 3525 , has been classified as 0 and should be 1\n",
            "No. 3527 , has been classified as 0 and should be 1\n",
            "No. 3534 , has been classified as 1 and should be 0\n",
            "No. 3549 , has been classified as 0 and should be 1\n",
            "No. 3556 , has been classified as 0 and should be 2\n",
            "No. 3559 , has been classified as 0 and should be 2\n",
            "No. 3564 , has been classified as 0 and should be 2\n",
            "No. 3567 , has been classified as 1 and should be 0\n",
            "No. 3572 , has been classified as 0 and should be 2\n",
            "No. 3579 , has been classified as 1 and should be 0\n",
            "No. 3584 , has been classified as 1 and should be 0\n",
            "No. 3591 , has been classified as 0 and should be 1\n",
            "No. 3598 , has been classified as 1 and should be 0\n",
            "No. 3630 , has been classified as 0 and should be 1\n",
            "No. 3635 , has been classified as 0 and should be 2\n",
            "No. 3645 , has been classified as 0 and should be 2\n",
            "No. 3649 , has been classified as 0 and should be 2\n",
            "No. 3651 , has been classified as 1 and should be 0\n",
            "No. 3657 , has been classified as 0 and should be 2\n",
            "No. 3661 , has been classified as 0 and should be 1\n",
            "No. 3698 , has been classified as 0 and should be 1\n",
            "No. 3706 , has been classified as 0 and should be 2\n",
            "No. 3712 , has been classified as 0 and should be 2\n",
            "No. 3717 , has been classified as 0 and should be 2\n",
            "No. 3723 , has been classified as 1 and should be 0\n",
            "No. 3733 , has been classified as 2 and should be 1\n",
            "No. 3745 , has been classified as 0 and should be 1\n",
            "No. 3747 , has been classified as 2 and should be 0\n",
            "No. 3751 , has been classified as 0 and should be 2\n",
            "No. 3759 , has been classified as 0 and should be 2\n",
            "No. 3764 , has been classified as 1 and should be 0\n",
            "No. 3783 , has been classified as 0 and should be 2\n",
            "No. 3785 , has been classified as 1 and should be 0\n",
            "No. 3787 , has been classified as 0 and should be 2\n",
            "No. 3789 , has been classified as 1 and should be 2\n",
            "No. 3794 , has been classified as 0 and should be 1\n",
            "No. 3796 , has been classified as 0 and should be 1\n",
            "No. 3797 , has been classified as 0 and should be 2\n",
            "No. 3803 , has been classified as 0 and should be 2\n",
            "No. 3805 , has been classified as 1 and should be 2\n",
            "No. 3821 , has been classified as 0 and should be 1\n",
            "No. 3830 , has been classified as 0 and should be 1\n",
            "No. 3833 , has been classified as 2 and should be 1\n",
            "No. 3846 , has been classified as 1 and should be 0\n",
            "No. 3851 , has been classified as 0 and should be 1\n",
            "No. 3853 , has been classified as 0 and should be 2\n",
            "No. 3860 , has been classified as 2 and should be 1\n",
            "No. 3866 , has been classified as 1 and should be 2\n",
            "No. 3879 , has been classified as 0 and should be 2\n",
            "No. 3887 , has been classified as 0 and should be 2\n",
            "No. 3892 , has been classified as 0 and should be 1\n",
            "No. 3893 , has been classified as 0 and should be 2\n",
            "No. 3895 , has been classified as 0 and should be 2\n",
            "No. 3898 , has been classified as 0 and should be 1\n",
            "No. 3902 , has been classified as 1 and should be 2\n",
            "No. 3903 , has been classified as 1 and should be 2\n",
            "No. 3937 , has been classified as 0 and should be 1\n",
            "No. 3942 , has been classified as 2 and should be 0\n",
            "No. 3950 , has been classified as 2 and should be 0\n",
            "No. 3951 , has been classified as 0 and should be 1\n",
            "No. 3957 , has been classified as 0 and should be 1\n",
            "No. 3958 , has been classified as 0 and should be 2\n",
            "No. 3963 , has been classified as 0 and should be 1\n",
            "No. 3973 , has been classified as 1 and should be 0\n",
            "No. 3980 , has been classified as 0 and should be 2\n",
            "No. 3996 , has been classified as 0 and should be 2\n",
            "No. 3998 , has been classified as 0 and should be 1\n",
            "No. 4006 , has been classified as 0 and should be 2\n",
            "No. 4022 , has been classified as 2 and should be 0\n",
            "No. 4025 , has been classified as 0 and should be 2\n",
            "No. 4035 , has been classified as 0 and should be 2\n",
            "No. 4041 , has been classified as 0 and should be 2\n",
            "No. 4047 , has been classified as 0 and should be 2\n",
            "No. 4051 , has been classified as 0 and should be 2\n",
            "No. 4056 , has been classified as 0 and should be 1\n",
            "No. 4065 , has been classified as 0 and should be 1\n",
            "No. 4071 , has been classified as 0 and should be 2\n",
            "No. 4077 , has been classified as 0 and should be 2\n",
            "No. 4079 , has been classified as 2 and should be 1\n",
            "No. 4080 , has been classified as 0 and should be 1\n",
            "No. 4084 , has been classified as 1 and should be 2\n",
            "No. 4096 , has been classified as 1 and should be 2\n",
            "No. 4098 , has been classified as 1 and should be 2\n",
            "No. 4101 , has been classified as 2 and should be 1\n",
            "No. 4105 , has been classified as 0 and should be 1\n",
            "No. 4118 , has been classified as 0 and should be 1\n",
            "No. 4124 , has been classified as 2 and should be 1\n",
            "No. 4129 , has been classified as 0 and should be 2\n",
            "No. 4130 , has been classified as 0 and should be 2\n",
            "No. 4140 , has been classified as 0 and should be 2\n",
            "No. 4143 , has been classified as 0 and should be 2\n",
            "No. 4146 , has been classified as 1 and should be 0\n",
            "No. 4157 , has been classified as 0 and should be 2\n",
            "No. 4160 , has been classified as 0 and should be 2\n",
            "No. 4178 , has been classified as 1 and should be 2\n",
            "No. 4193 , has been classified as 0 and should be 2\n",
            "No. 4197 , has been classified as 0 and should be 1\n",
            "No. 4203 , has been classified as 0 and should be 2\n",
            "No. 4204 , has been classified as 0 and should be 2\n",
            "No. 4208 , has been classified as 0 and should be 2\n",
            "No. 4237 , has been classified as 0 and should be 2\n",
            "No. 4242 , has been classified as 0 and should be 2\n",
            "No. 4251 , has been classified as 1 and should be 2\n",
            "No. 4255 , has been classified as 2 and should be 1\n",
            "No. 4263 , has been classified as 0 and should be 2\n",
            "No. 4264 , has been classified as 0 and should be 2\n",
            "No. 4268 , has been classified as 0 and should be 1\n",
            "No. 4277 , has been classified as 0 and should be 1\n",
            "No. 4283 , has been classified as 2 and should be 1\n",
            "No. 4292 , has been classified as 2 and should be 0\n",
            "No. 4297 , has been classified as 0 and should be 1\n",
            "No. 4298 , has been classified as 0 and should be 2\n",
            "No. 4301 , has been classified as 1 and should be 2\n",
            "No. 4309 , has been classified as 0 and should be 2\n",
            "No. 4316 , has been classified as 1 and should be 2\n",
            "No. 4317 , has been classified as 1 and should be 0\n",
            "No. 4322 , has been classified as 0 and should be 2\n",
            "No. 4325 , has been classified as 0 and should be 2\n",
            "No. 4326 , has been classified as 0 and should be 2\n",
            "No. 4328 , has been classified as 0 and should be 1\n",
            "No. 4339 , has been classified as 1 and should be 0\n",
            "No. 4348 , has been classified as 2 and should be 0\n",
            "No. 4369 , has been classified as 0 and should be 2\n",
            "No. 4372 , has been classified as 0 and should be 2\n",
            "No. 4379 , has been classified as 0 and should be 2\n",
            "No. 4381 , has been classified as 1 and should be 0\n",
            "No. 4385 , has been classified as 0 and should be 2\n",
            "No. 4395 , has been classified as 0 and should be 1\n",
            "No. 4402 , has been classified as 0 and should be 2\n",
            "No. 4416 , has been classified as 0 and should be 2\n",
            "No. 4426 , has been classified as 0 and should be 2\n",
            "No. 4436 , has been classified as 2 and should be 1\n",
            "No. 4437 , has been classified as 0 and should be 1\n",
            "No. 4439 , has been classified as 2 and should be 0\n",
            "No. 4479 , has been classified as 0 and should be 1\n",
            "No. 4490 , has been classified as 1 and should be 0\n",
            "No. 4491 , has been classified as 2 and should be 1\n",
            "No. 4493 , has been classified as 2 and should be 1\n",
            "No. 4498 , has been classified as 0 and should be 2\n",
            "No. 4500 , has been classified as 0 and should be 2\n",
            "No. 4521 , has been classified as 1 and should be 0\n",
            "No. 4528 , has been classified as 0 and should be 1\n",
            "No. 4536 , has been classified as 0 and should be 2\n",
            "No. 4542 , has been classified as 2 and should be 1\n",
            "No. 4553 , has been classified as 1 and should be 2\n",
            "No. 4561 , has been classified as 0 and should be 2\n",
            "No. 4570 , has been classified as 0 and should be 2\n",
            "No. 4576 , has been classified as 2 and should be 0\n",
            "No. 4582 , has been classified as 0 and should be 2\n",
            "No. 4583 , has been classified as 0 and should be 1\n",
            "No. 4584 , has been classified as 0 and should be 2\n",
            "No. 4585 , has been classified as 0 and should be 1\n",
            "No. 4588 , has been classified as 0 and should be 1\n",
            "No. 4591 , has been classified as 2 and should be 0\n",
            "No. 4597 , has been classified as 0 and should be 2\n",
            "No. 4605 , has been classified as 0 and should be 2\n",
            "No. 4613 , has been classified as 0 and should be 2\n",
            "No. 4632 , has been classified as 1 and should be 0\n",
            "No. 4635 , has been classified as 0 and should be 1\n",
            "No. 4641 , has been classified as 0 and should be 1\n",
            "No. 4642 , has been classified as 1 and should be 2\n",
            "No. 4645 , has been classified as 2 and should be 0\n",
            "No. 4646 , has been classified as 0 and should be 1\n",
            "No. 4650 , has been classified as 0 and should be 2\n",
            "No. 4657 , has been classified as 1 and should be 0\n",
            "No. 4659 , has been classified as 1 and should be 2\n",
            "No. 4663 , has been classified as 0 and should be 1\n",
            "No. 4666 , has been classified as 0 and should be 2\n",
            "No. 4678 , has been classified as 0 and should be 2\n",
            "No. 4680 , has been classified as 0 and should be 2\n",
            "No. 4681 , has been classified as 2 and should be 1\n",
            "No. 4696 , has been classified as 0 and should be 2\n",
            "No. 4697 , has been classified as 0 and should be 2\n",
            "No. 4698 , has been classified as 1 and should be 2\n",
            "No. 4699 , has been classified as 0 and should be 2\n",
            "No. 4708 , has been classified as 0 and should be 2\n",
            "No. 4709 , has been classified as 2 and should be 0\n",
            "No. 4711 , has been classified as 0 and should be 2\n",
            "No. 4718 , has been classified as 0 and should be 2\n",
            "No. 4722 , has been classified as 2 and should be 0\n",
            "No. 4729 , has been classified as 0 and should be 2\n",
            "No. 4730 , has been classified as 2 and should be 1\n",
            "No. 4750 , has been classified as 0 and should be 1\n",
            "No. 4768 , has been classified as 0 and should be 1\n",
            "No. 4775 , has been classified as 0 and should be 2\n",
            "No. 4777 , has been classified as 0 and should be 2\n",
            "No. 4784 , has been classified as 1 and should be 2\n",
            "No. 4805 , has been classified as 0 and should be 2\n",
            "No. 4815 , has been classified as 1 and should be 0\n",
            "No. 4819 , has been classified as 0 and should be 2\n",
            "No. 4827 , has been classified as 1 and should be 0\n",
            "No. 4844 , has been classified as 1 and should be 0\n",
            "No. 4851 , has been classified as 0 and should be 2\n",
            "No. 4856 , has been classified as 0 and should be 2\n",
            "No. 4870 , has been classified as 0 and should be 2\n",
            "No. 4874 , has been classified as 0 and should be 1\n",
            "No. 4878 , has been classified as 0 and should be 2\n",
            "No. 4881 , has been classified as 0 and should be 2\n",
            "No. 4882 , has been classified as 0 and should be 1\n",
            "No. 4883 , has been classified as 2 and should be 0\n",
            "No. 4895 , has been classified as 0 and should be 2\n",
            "No. 4898 , has been classified as 0 and should be 2\n",
            "No. 4900 , has been classified as 0 and should be 2\n",
            "No. 4914 , has been classified as 0 and should be 2\n",
            "No. 4925 , has been classified as 0 and should be 2\n",
            "No. 4933 , has been classified as 1 and should be 0\n",
            "No. 4938 , has been classified as 1 and should be 0\n",
            "No. 4944 , has been classified as 0 and should be 2\n",
            "No. 4952 , has been classified as 0 and should be 2\n",
            "No. 4967 , has been classified as 0 and should be 2\n",
            "No. 4976 , has been classified as 0 and should be 1\n",
            "No. 4990 , has been classified as 1 and should be 2\n",
            "No. 4992 , has been classified as 0 and should be 2\n",
            "No. 4996 , has been classified as 0 and should be 1\n",
            "No. 5004 , has been classified as 0 and should be 2\n",
            "No. 5009 , has been classified as 0 and should be 2\n",
            "No. 5020 , has been classified as 1 and should be 0\n",
            "No. 5026 , has been classified as 0 and should be 2\n",
            "No. 5030 , has been classified as 0 and should be 1\n",
            "No. 5037 , has been classified as 0 and should be 2\n",
            "No. 5039 , has been classified as 2 and should be 0\n",
            "No. 5047 , has been classified as 1 and should be 0\n",
            "No. 5062 , has been classified as 1 and should be 0\n",
            "No. 5071 , has been classified as 1 and should be 0\n",
            "No. 5081 , has been classified as 0 and should be 2\n",
            "No. 5089 , has been classified as 1 and should be 2\n",
            "No. 5105 , has been classified as 0 and should be 1\n",
            "No. 5106 , has been classified as 0 and should be 1\n",
            "No. 5117 , has been classified as 0 and should be 2\n",
            "No. 5127 , has been classified as 2 and should be 0\n",
            "No. 5137 , has been classified as 0 and should be 1\n",
            "No. 5138 , has been classified as 0 and should be 2\n",
            "No. 5143 , has been classified as 0 and should be 2\n",
            "No. 5144 , has been classified as 1 and should be 0\n",
            "No. 5151 , has been classified as 0 and should be 2\n",
            "No. 5154 , has been classified as 1 and should be 0\n",
            "No. 5162 , has been classified as 0 and should be 1\n",
            "No. 5163 , has been classified as 0 and should be 2\n",
            "No. 5176 , has been classified as 0 and should be 2\n",
            "No. 5178 , has been classified as 1 and should be 2\n",
            "No. 5185 , has been classified as 1 and should be 0\n",
            "No. 5186 , has been classified as 1 and should be 0\n",
            "No. 5195 , has been classified as 0 and should be 1\n",
            "No. 5205 , has been classified as 1 and should be 2\n",
            "No. 5214 , has been classified as 1 and should be 0\n",
            "No. 5227 , has been classified as 0 and should be 2\n",
            "No. 5229 , has been classified as 0 and should be 2\n",
            "No. 5242 , has been classified as 1 and should be 2\n",
            "No. 5256 , has been classified as 0 and should be 1\n",
            "No. 5258 , has been classified as 0 and should be 2\n",
            "No. 5264 , has been classified as 0 and should be 2\n",
            "No. 5280 , has been classified as 0 and should be 2\n",
            "No. 5281 , has been classified as 0 and should be 2\n",
            "No. 5288 , has been classified as 0 and should be 2\n",
            "No. 5289 , has been classified as 0 and should be 1\n",
            "No. 5302 , has been classified as 1 and should be 0\n",
            "No. 5306 , has been classified as 2 and should be 0\n",
            "No. 5307 , has been classified as 0 and should be 2\n",
            "No. 5322 , has been classified as 1 and should be 0\n",
            "No. 5326 , has been classified as 0 and should be 1\n",
            "No. 5328 , has been classified as 0 and should be 2\n",
            "No. 5343 , has been classified as 0 and should be 1\n",
            "No. 5347 , has been classified as 0 and should be 1\n",
            "No. 5350 , has been classified as 0 and should be 2\n",
            "No. 5371 , has been classified as 0 and should be 1\n",
            "No. 5378 , has been classified as 0 and should be 1\n",
            "No. 5380 , has been classified as 0 and should be 2\n",
            "No. 5381 , has been classified as 0 and should be 1\n",
            "No. 5384 , has been classified as 2 and should be 0\n",
            "No. 5385 , has been classified as 0 and should be 2\n",
            "No. 5389 , has been classified as 0 and should be 2\n",
            "No. 5395 , has been classified as 1 and should be 0\n",
            "No. 5396 , has been classified as 2 and should be 0\n",
            "No. 5405 , has been classified as 0 and should be 2\n",
            "No. 5416 , has been classified as 1 and should be 0\n",
            "No. 5418 , has been classified as 0 and should be 2\n",
            "No. 5423 , has been classified as 0 and should be 2\n",
            "No. 5428 , has been classified as 2 and should be 0\n",
            "No. 5490 , has been classified as 2 and should be 0\n",
            "No. 5494 , has been classified as 0 and should be 1\n",
            "No. 5509 , has been classified as 0 and should be 2\n",
            "No. 5518 , has been classified as 0 and should be 2\n",
            "No. 5519 , has been classified as 0 and should be 2\n",
            "No. 5521 , has been classified as 0 and should be 2\n",
            "No. 5528 , has been classified as 2 and should be 1\n",
            "No. 5530 , has been classified as 0 and should be 2\n",
            "No. 5546 , has been classified as 2 and should be 0\n",
            "No. 5558 , has been classified as 2 and should be 1\n",
            "No. 5567 , has been classified as 2 and should be 0\n",
            "No. 5570 , has been classified as 0 and should be 1\n",
            "No. 5574 , has been classified as 0 and should be 1\n",
            "No. 5576 , has been classified as 0 and should be 2\n",
            "No. 5577 , has been classified as 0 and should be 1\n",
            "No. 5583 , has been classified as 0 and should be 1\n",
            "No. 5587 , has been classified as 0 and should be 1\n",
            "No. 5593 , has been classified as 0 and should be 1\n",
            "No. 5603 , has been classified as 0 and should be 2\n",
            "No. 5614 , has been classified as 0 and should be 1\n",
            "No. 5620 , has been classified as 0 and should be 1\n",
            "No. 5624 , has been classified as 1 and should be 0\n",
            "No. 5625 , has been classified as 1 and should be 2\n",
            "No. 5631 , has been classified as 0 and should be 2\n",
            "No. 5638 , has been classified as 2 and should be 0\n",
            "No. 5651 , has been classified as 0 and should be 2\n",
            "No. 5655 , has been classified as 0 and should be 2\n",
            "No. 5658 , has been classified as 0 and should be 2\n",
            "No. 5694 , has been classified as 0 and should be 2\n",
            "No. 5696 , has been classified as 0 and should be 2\n",
            "No. 5704 , has been classified as 0 and should be 2\n",
            "No. 5722 , has been classified as 2 and should be 1\n",
            "No. 5744 , has been classified as 1 and should be 0\n",
            "No. 5755 , has been classified as 0 and should be 1\n",
            "No. 5764 , has been classified as 0 and should be 2\n",
            "No. 5765 , has been classified as 0 and should be 2\n",
            "No. 5770 , has been classified as 2 and should be 0\n",
            "No. 5774 , has been classified as 2 and should be 0\n",
            "No. 5788 , has been classified as 0 and should be 1\n",
            "No. 5798 , has been classified as 0 and should be 1\n",
            "No. 5800 , has been classified as 0 and should be 2\n",
            "No. 5805 , has been classified as 0 and should be 2\n",
            "No. 5813 , has been classified as 0 and should be 2\n",
            "No. 5819 , has been classified as 0 and should be 1\n",
            "No. 5821 , has been classified as 0 and should be 1\n",
            "No. 5826 , has been classified as 0 and should be 2\n",
            "No. 5831 , has been classified as 0 and should be 1\n",
            "No. 5844 , has been classified as 0 and should be 2\n",
            "No. 5847 , has been classified as 1 and should be 0\n",
            "No. 5856 , has been classified as 1 and should be 2\n",
            "No. 5868 , has been classified as 0 and should be 2\n",
            "No. 5874 , has been classified as 0 and should be 2\n",
            "No. 5875 , has been classified as 0 and should be 1\n",
            "No. 5876 , has been classified as 0 and should be 2\n",
            "No. 5880 , has been classified as 0 and should be 1\n",
            "No. 5887 , has been classified as 0 and should be 2\n",
            "No. 5905 , has been classified as 2 and should be 0\n",
            "No. 5914 , has been classified as 0 and should be 1\n",
            "No. 5919 , has been classified as 0 and should be 2\n",
            "No. 5925 , has been classified as 0 and should be 2\n",
            "No. 5936 , has been classified as 1 and should be 2\n",
            "No. 5938 , has been classified as 1 and should be 0\n",
            "No. 5943 , has been classified as 0 and should be 2\n",
            "No. 5948 , has been classified as 2 and should be 0\n",
            "No. 5952 , has been classified as 1 and should be 0\n",
            "No. 5955 , has been classified as 2 and should be 0\n",
            "No. 5975 , has been classified as 0 and should be 2\n",
            "No. 5983 , has been classified as 1 and should be 0\n",
            "No. 5989 , has been classified as 1 and should be 2\n",
            "No. 5993 , has been classified as 0 and should be 2\n",
            "No. 5997 , has been classified as 0 and should be 2\n",
            "No. 6004 , has been classified as 1 and should be 2\n",
            "No. 6005 , has been classified as 1 and should be 0\n",
            "No. 6007 , has been classified as 0 and should be 2\n",
            "No. 6008 , has been classified as 0 and should be 1\n",
            "No. 6013 , has been classified as 0 and should be 2\n",
            "No. 6016 , has been classified as 1 and should be 0\n",
            "No. 6018 , has been classified as 0 and should be 1\n",
            "No. 6026 , has been classified as 0 and should be 1\n",
            "No. 6027 , has been classified as 0 and should be 2\n",
            "No. 6035 , has been classified as 0 and should be 2\n",
            "No. 6036 , has been classified as 1 and should be 0\n",
            "No. 6047 , has been classified as 0 and should be 1\n",
            "No. 6048 , has been classified as 0 and should be 1\n",
            "No. 6054 , has been classified as 0 and should be 2\n",
            "No. 6068 , has been classified as 0 and should be 2\n",
            "No. 6075 , has been classified as 1 and should be 2\n",
            "No. 6076 , has been classified as 0 and should be 2\n",
            "No. 6079 , has been classified as 0 and should be 2\n",
            "No. 6082 , has been classified as 2 and should be 0\n",
            "No. 6090 , has been classified as 0 and should be 1\n",
            "No. 6091 , has been classified as 0 and should be 2\n",
            "No. 6104 , has been classified as 0 and should be 2\n",
            "No. 6107 , has been classified as 2 and should be 0\n",
            "No. 6108 , has been classified as 0 and should be 1\n",
            "No. 6109 , has been classified as 0 and should be 2\n",
            "No. 6119 , has been classified as 2 and should be 1\n",
            "No. 6121 , has been classified as 2 and should be 0\n",
            "No. 6124 , has been classified as 0 and should be 2\n",
            "No. 6126 , has been classified as 0 and should be 1\n",
            "No. 6129 , has been classified as 2 and should be 1\n",
            "No. 6131 , has been classified as 0 and should be 1\n",
            "No. 6134 , has been classified as 2 and should be 0\n",
            "No. 6139 , has been classified as 0 and should be 2\n",
            "No. 6150 , has been classified as 1 and should be 2\n",
            "No. 6151 , has been classified as 0 and should be 1\n",
            "No. 6163 , has been classified as 2 and should be 1\n",
            "No. 6168 , has been classified as 1 and should be 0\n",
            "No. 6172 , has been classified as 2 and should be 0\n",
            "No. 6173 , has been classified as 0 and should be 1\n",
            "No. 6174 , has been classified as 0 and should be 2\n",
            "No. 6192 , has been classified as 2 and should be 0\n",
            "No. 6200 , has been classified as 0 and should be 2\n",
            "No. 6205 , has been classified as 0 and should be 1\n",
            "No. 6209 , has been classified as 0 and should be 2\n",
            "No. 6215 , has been classified as 0 and should be 1\n",
            "No. 6219 , has been classified as 1 and should be 0\n",
            "No. 6240 , has been classified as 0 and should be 1\n",
            "No. 6242 , has been classified as 2 and should be 0\n",
            "No. 6244 , has been classified as 2 and should be 0\n",
            "No. 6248 , has been classified as 1 and should be 0\n",
            "No. 6252 , has been classified as 1 and should be 0\n",
            "No. 6257 , has been classified as 0 and should be 1\n",
            "No. 6270 , has been classified as 0 and should be 2\n",
            "No. 6280 , has been classified as 0 and should be 2\n",
            "No. 6289 , has been classified as 2 and should be 0\n",
            "No. 6292 , has been classified as 0 and should be 2\n",
            "No. 6301 , has been classified as 0 and should be 2\n",
            "No. 6304 , has been classified as 2 and should be 0\n",
            "No. 6307 , has been classified as 1 and should be 2\n",
            "No. 6314 , has been classified as 0 and should be 1\n",
            "No. 6319 , has been classified as 0 and should be 1\n",
            "No. 6324 , has been classified as 0 and should be 2\n",
            "No. 6326 , has been classified as 2 and should be 1\n",
            "No. 6327 , has been classified as 1 and should be 0\n",
            "No. 6339 , has been classified as 2 and should be 0\n",
            "No. 6342 , has been classified as 0 and should be 1\n",
            "No. 6343 , has been classified as 0 and should be 2\n",
            "No. 6353 , has been classified as 0 and should be 1\n",
            "No. 6363 , has been classified as 0 and should be 1\n",
            "No. 6365 , has been classified as 2 and should be 0\n",
            "No. 6385 , has been classified as 2 and should be 1\n",
            "No. 6402 , has been classified as 0 and should be 2\n",
            "No. 6405 , has been classified as 0 and should be 2\n",
            "No. 6406 , has been classified as 0 and should be 2\n",
            "No. 6407 , has been classified as 0 and should be 2\n",
            "No. 6429 , has been classified as 2 and should be 1\n",
            "No. 6436 , has been classified as 0 and should be 2\n",
            "No. 6441 , has been classified as 2 and should be 1\n",
            "No. 6446 , has been classified as 0 and should be 1\n",
            "No. 6448 , has been classified as 0 and should be 2\n",
            "No. 6450 , has been classified as 2 and should be 0\n",
            "No. 6463 , has been classified as 0 and should be 2\n",
            "No. 6477 , has been classified as 2 and should be 0\n",
            "No. 6481 , has been classified as 0 and should be 2\n",
            "No. 6483 , has been classified as 0 and should be 2\n",
            "No. 6489 , has been classified as 2 and should be 1\n",
            "No. 6494 , has been classified as 0 and should be 1\n",
            "No. 6509 , has been classified as 1 and should be 2\n",
            "No. 6520 , has been classified as 0 and should be 2\n",
            "No. 6525 , has been classified as 0 and should be 1\n",
            "No. 6534 , has been classified as 1 and should be 0\n",
            "No. 6554 , has been classified as 1 and should be 2\n",
            "No. 6559 , has been classified as 0 and should be 2\n",
            "No. 6601 , has been classified as 0 and should be 1\n",
            "No. 6611 , has been classified as 0 and should be 2\n",
            "No. 6626 , has been classified as 0 and should be 2\n",
            "No. 6634 , has been classified as 2 and should be 1\n",
            "No. 6635 , has been classified as 0 and should be 2\n",
            "No. 6637 , has been classified as 0 and should be 1\n",
            "No. 6658 , has been classified as 1 and should be 0\n",
            "No. 6659 , has been classified as 0 and should be 2\n",
            "No. 6660 , has been classified as 0 and should be 1\n",
            "No. 6670 , has been classified as 0 and should be 2\n",
            "No. 6672 , has been classified as 0 and should be 1\n",
            "982\n"
          ]
        }
      ]
    },
    {
      "cell_type": "code",
      "source": [
        "arr1=[]\n",
        "for idx, text_input, prediction, label in zip(enumerate(X_test_encoded), X_test_encoded, RF_y_pred, y_test):\n",
        "    if prediction != label:\n",
        "        arr1.append(idx[0])\n",
        "\n",
        "arr2=[]\n",
        "for idx, text_input, prediction, label in zip(enumerate(X_test_nsw_encoded), X_test_nsw_encoded, RF_nsw_y_pred, y_test):\n",
        "    if prediction != label:\n",
        "        arr2.append(idx[0])\n",
        "\n",
        "\n",
        "list(set(arr1) - set(arr2)) + list(set(arr2) - set(arr1))\n"
      ],
      "metadata": {
        "id": "9YxtfAX-fLQu",
        "colab": {
          "base_uri": "https://localhost:8080/"
        },
        "outputId": "9dd96bac-093b-42d6-c8cb-d8d4a36e80ef"
      },
      "execution_count": null,
      "outputs": [
        {
          "output_type": "execute_result",
          "data": {
            "text/plain": [
              "[4099,\n",
              " 2052,\n",
              " 22,\n",
              " 6678,\n",
              " 32,\n",
              " 1573,\n",
              " 1062,\n",
              " 5161,\n",
              " 42,\n",
              " 1080,\n",
              " 4156,\n",
              " 3648,\n",
              " 1611,\n",
              " 3659,\n",
              " 5709,\n",
              " 5203,\n",
              " 4087,\n",
              " 6233,\n",
              " 2141,\n",
              " 2142,\n",
              " 6239,\n",
              " 5216,\n",
              " 5220,\n",
              " 614,\n",
              " 4710,\n",
              " 616,\n",
              " 3176,\n",
              " 1639,\n",
              " 5738,\n",
              " 1646,\n",
              " 1136,\n",
              " 5235,\n",
              " 1652,\n",
              " 4213,\n",
              " 3700,\n",
              " 4733,\n",
              " 3714,\n",
              " 3715,\n",
              " 2714,\n",
              " 2725,\n",
              " 3242,\n",
              " 3756,\n",
              " 4270,\n",
              " 1198,\n",
              " 1724,\n",
              " 1725,\n",
              " 5310,\n",
              " 2752,\n",
              " 196,\n",
              " 5829,\n",
              " 1225,\n",
              " 5324,\n",
              " 3283,\n",
              " 1236,\n",
              " 6357,\n",
              " 4821,\n",
              " 1749,\n",
              " 216,\n",
              " 1758,\n",
              " 3297,\n",
              " 5345,\n",
              " 3812,\n",
              " 3301,\n",
              " 5863,\n",
              " 5352,\n",
              " 2288,\n",
              " 758,\n",
              " 5369,\n",
              " 5885,\n",
              " 2814,\n",
              " 3840,\n",
              " 2817,\n",
              " 1290,\n",
              " 5390,\n",
              " 787,\n",
              " 3349,\n",
              " 3865,\n",
              " 3355,\n",
              " 2845,\n",
              " 5923,\n",
              " 4902,\n",
              " 5929,\n",
              " 309,\n",
              " 1333,\n",
              " 824,\n",
              " 825,\n",
              " 4410,\n",
              " 5435,\n",
              " 2876,\n",
              " 2366,\n",
              " 320,\n",
              " 5954,\n",
              " 6471,\n",
              " 3916,\n",
              " 6480,\n",
              " 3413,\n",
              " 865,\n",
              " 4452,\n",
              " 2415,\n",
              " 5499,\n",
              " 6012,\n",
              " 3968,\n",
              " 6533,\n",
              " 5511,\n",
              " 3982,\n",
              " 2961,\n",
              " 3991,\n",
              " 6040,\n",
              " 5531,\n",
              " 4509,\n",
              " 5535,\n",
              " 5538,\n",
              " 6564,\n",
              " 4015,\n",
              " 1456,\n",
              " 1475,\n",
              " 965,\n",
              " 6598,\n",
              " 3530,\n",
              " 3024,\n",
              " 979,\n",
              " 2006,\n",
              " 5080,\n",
              " 1503,\n",
              " 3044,\n",
              " 4068,\n",
              " 3558,\n",
              " 3047,\n",
              " 1517,\n",
              " 4590,\n",
              " 3575,\n",
              " 504,\n",
              " 5115,\n",
              " 5116,\n",
              " 6658,\n",
              " 13,\n",
              " 1040,\n",
              " 6163,\n",
              " 2582,\n",
              " 535,\n",
              " 5144,\n",
              " 1563,\n",
              " 6172,\n",
              " 540,\n",
              " 6174,\n",
              " 2594,\n",
              " 1059,\n",
              " 3109,\n",
              " 6192,\n",
              " 2097,\n",
              " 4146,\n",
              " 4659,\n",
              " 2618,\n",
              " 1598,\n",
              " 5185,\n",
              " 3649,\n",
              " 5704,\n",
              " 2121,\n",
              " 5195,\n",
              " 589,\n",
              " 80,\n",
              " 3154,\n",
              " 3159,\n",
              " 3579,\n",
              " 5722,\n",
              " 6242,\n",
              " 1634,\n",
              " 6248,\n",
              " 6252,\n",
              " 5229,\n",
              " 5744,\n",
              " 6257,\n",
              " 1138,\n",
              " 3717,\n",
              " 646,\n",
              " 5258,\n",
              " 5770,\n",
              " 3723,\n",
              " 5774,\n",
              " 1169,\n",
              " 3733,\n",
              " 3222,\n",
              " 2712,\n",
              " 6304,\n",
              " 3747,\n",
              " 676,\n",
              " 3237,\n",
              " 4777,\n",
              " 2218,\n",
              " 683,\n",
              " 173,\n",
              " 3764,\n",
              " 6326,\n",
              " 6327,\n",
              " 1723,\n",
              " 2755,\n",
              " 4292,\n",
              " 713,\n",
              " 5322,\n",
              " 2763,\n",
              " 3282,\n",
              " 2263,\n",
              " 5847,\n",
              " 2265,\n",
              " 2777,\n",
              " 4827,\n",
              " 4317,\n",
              " 6365,\n",
              " 5343,\n",
              " 2791,\n",
              " 6385,\n",
              " 2802,\n",
              " 5875,\n",
              " 1274,\n",
              " 6402,\n",
              " 3333,\n",
              " 3846,\n",
              " 264,\n",
              " 5384,\n",
              " 3853,\n",
              " 274,\n",
              " 4882,\n",
              " 5396,\n",
              " 1301,\n",
              " 3866,\n",
              " 290,\n",
              " 808,\n",
              " 6441,\n",
              " 5416,\n",
              " 2347,\n",
              " 1839,\n",
              " 305,\n",
              " 6450,\n",
              " 1847,\n",
              " 3895,\n",
              " 2875,\n",
              " 5948,\n",
              " 5955,\n",
              " 1356,\n",
              " 3404,\n",
              " 4439,\n",
              " 861,\n",
              " 5983,\n",
              " 2915,\n",
              " 357,\n",
              " 5989,\n",
              " 3942,\n",
              " 2409,\n",
              " 1900,\n",
              " 1903,\n",
              " 2930,\n",
              " 5490,\n",
              " 373,\n",
              " 5494,\n",
              " 6005,\n",
              " 6520,\n",
              " 381,\n",
              " 6016,\n",
              " 3460,\n",
              " 1413,\n",
              " 3973,\n",
              " 4493,\n",
              " 1935,\n",
              " 1437,\n",
              " 6048,\n",
              " 1959,\n",
              " 424,\n",
              " 5546,\n",
              " 2476,\n",
              " 5037,\n",
              " 4022,\n",
              " 1463,\n",
              " 446,\n",
              " 5567,\n",
              " 5071,\n",
              " 1999,\n",
              " 1501,\n",
              " 479,\n",
              " 2528,\n",
              " 4576,\n",
              " 6121,\n",
              " 6635,\n",
              " 2029,\n",
              " 2030,\n",
              " 4591,\n",
              " 5106,\n",
              " 1522,\n",
              " 1523,\n",
              " 2036,\n",
              " 507,\n",
              " 1533]"
            ]
          },
          "metadata": {},
          "execution_count": 63
        }
      ]
    },
    {
      "cell_type": "code",
      "source": [
        "X_test[5235]"
      ],
      "metadata": {
        "id": "YYZ8V2xtgpv_",
        "colab": {
          "base_uri": "https://localhost:8080/",
          "height": 35
        },
        "outputId": "d680495b-4e00-431b-bdf8-c00a85eabb09"
      },
      "execution_count": null,
      "outputs": [
        {
          "output_type": "execute_result",
          "data": {
            "application/vnd.google.colaboratory.intrinsic+json": {
              "type": "string"
            },
            "text/plain": [
              "'liếm ko từ cái gì cả cứt và lá xoan cũng liếm nốt'"
            ]
          },
          "metadata": {},
          "execution_count": 64
        }
      ]
    },
    {
      "cell_type": "code",
      "source": [
        "X_test[5530]"
      ],
      "metadata": {
        "id": "0lZ5W1QlrhZO",
        "colab": {
          "base_uri": "https://localhost:8080/",
          "height": 35
        },
        "outputId": "adb35074-be05-440a-a292-6ca1b5c73309"
      },
      "execution_count": null,
      "outputs": [
        {
          "output_type": "execute_result",
          "data": {
            "application/vnd.google.colaboratory.intrinsic+json": {
              "type": "string"
            },
            "text/plain": [
              "'thôi bớt ngựa ông đừng đi tùm_lum để khéo mắc bệnh rồi cách_li là dân việt_nam mừng lắm rồi'"
            ]
          },
          "metadata": {},
          "execution_count": 65
        }
      ]
    },
    {
      "cell_type": "code",
      "source": [
        "test_X[4933]"
      ],
      "metadata": {
        "id": "Wn3UH21pgtNx",
        "colab": {
          "base_uri": "https://localhost:8080/",
          "height": 35
        },
        "outputId": "f2cfdc83-fb10-4058-86ae-d660ac9ff2c6"
      },
      "execution_count": null,
      "outputs": [
        {
          "output_type": "execute_result",
          "data": {
            "application/vnd.google.colaboratory.intrinsic+json": {
              "type": "string"
            },
            "text/plain": [
              "'giúp k đm'"
            ]
          },
          "metadata": {},
          "execution_count": 66
        }
      ]
    },
    {
      "cell_type": "markdown",
      "metadata": {
        "id": "s0rHUdE8gApi"
      },
      "source": [
        "### Support Vector Machine"
      ]
    },
    {
      "cell_type": "code",
      "metadata": {
        "id": "NvYYcYVAQ4JZ",
        "colab": {
          "base_uri": "https://localhost:8080/"
        },
        "outputId": "5717ede8-265c-4e04-c3a0-fc44f0e231bf"
      },
      "source": [
        "from sklearn import svm\n",
        "SVM_nsw = svm.SVC(decision_function_shape='ovo')\n",
        "SVM_nsw.fit(X_train_nsw_encoded, train_y) "
      ],
      "execution_count": null,
      "outputs": [
        {
          "output_type": "execute_result",
          "data": {
            "text/plain": [
              "SVC(decision_function_shape='ovo')"
            ]
          },
          "metadata": {},
          "execution_count": 67
        }
      ]
    },
    {
      "cell_type": "code",
      "metadata": {
        "id": "PhKdM42nQ86t"
      },
      "source": [
        "SVM_nsw_y_pred = SVM_nsw.predict(X_test_nsw_encoded)"
      ],
      "execution_count": null,
      "outputs": []
    },
    {
      "cell_type": "code",
      "metadata": {
        "id": "k-b2DKgfQ-KY",
        "colab": {
          "base_uri": "https://localhost:8080/"
        },
        "outputId": "a903411d-605f-47a5-f8e5-4fd59d927a6f"
      },
      "source": [
        "from sklearn.metrics import accuracy_score, precision_score, recall_score, f1_score, confusion_matrix, classification_report\n",
        "print(\"Accuracy: {}\".format(accuracy_score(test_y, SVM_nsw_y_pred)))\n",
        "print(\"Precision: \",str(precision_score(test_y, SVM_nsw_y_pred, average='macro')))\n",
        "print(\"Recall: \" + str(recall_score(test_y, SVM_nsw_y_pred, average='macro')))\n",
        "print(\"F1 - micro: \" + str(f1_score(test_y, SVM_nsw_y_pred, average='micro')))\n",
        "print(\"F1 - macro: \" + str(f1_score(test_y, SVM_nsw_y_pred, average='macro')))\n",
        "\n",
        "cmSVM_nsw = confusion_matrix(test_y, SVM_nsw_y_pred)\n",
        "crSVM_nsw = classification_report(test_y, SVM_nsw_y_pred)"
      ],
      "execution_count": null,
      "outputs": [
        {
          "output_type": "stream",
          "name": "stdout",
          "text": [
            "Accuracy: 0.8538922155688623\n",
            "Precision:  0.7068643739332637\n",
            "Recall: 0.44568631251764496\n",
            "F1 - micro: 0.8538922155688623\n",
            "F1 - macro: 0.48813077866515026\n"
          ]
        }
      ]
    },
    {
      "cell_type": "code",
      "metadata": {
        "id": "r8BJLRzsRBsf",
        "colab": {
          "base_uri": "https://localhost:8080/",
          "height": 279
        },
        "outputId": "33732d2e-c1b0-412f-da83-9e9632f95b38"
      },
      "source": [
        "import matplotlib.pyplot as plt\n",
        "import seaborn as sn\n",
        "\n",
        "sn.heatmap(cmSVM_nsw, annot=True, cmap=\"Greys\",fmt='g', cbar=True, annot_kws={\"size\": 30})\n",
        "plt.ylabel('True Label')\n",
        "plt.xlabel('Predicted Label')\n",
        "plt.show()"
      ],
      "execution_count": null,
      "outputs": [
        {
          "output_type": "display_data",
          "data": {
            "image/png": "[encoded data removed]",
            "text/plain": [
              "<Figure size 432x288 with 2 Axes>"
            ]
          },
          "metadata": {
            "needs_background": "light"
          }
        }
      ]
    },
    {
      "cell_type": "markdown",
      "source": [
        "# Demo"
      ],
      "metadata": {
        "id": "W1HoHAjIwKR3"
      }
    },
    {
      "cell_type": "code",
      "source": [
        "REAL_LABEL = {\n",
        "    0: \"CLEAR (SẠCH)\",\n",
        "    1: \"OFFENSIVE (XÚC PHẠM)\",\n",
        "    2: \"HATE (THÙ GHÉT)\"\n",
        "}"
      ],
      "metadata": {
        "id": "i-sxTsFlcIEt"
      },
      "execution_count": null,
      "outputs": []
    },
    {
      "cell_type": "code",
      "source": [
        "# demo random forest with stopwords\n",
        "textS = input('Nhập bình luận: ')\n",
        "textS_encoded = vectorizer.transform([textS])\n",
        "label = RF_clf.predict(textS_encoded)\n",
        "\n",
        "print(\"Nhãn của câu bình luận là: {}\".format(REAL_LABEL[label[0]]))"
      ],
      "metadata": {
        "id": "ZV8l11WBcI0p",
        "colab": {
          "base_uri": "https://localhost:8080/"
        },
        "outputId": "86cee070-c394-4f16-fb1f-64714113ab76"
      },
      "execution_count": null,
      "outputs": [
        {
          "output_type": "stream",
          "name": "stdout",
          "text": [
            "Nhập bình luận: thần điêu đại bịp\n",
            "Nhãn của câu bình luận là: CLEAR (SẠCH)\n"
          ]
        }
      ]
    },
    {
      "cell_type": "code",
      "source": [
        ""
      ],
      "metadata": {
        "id": "01CxLSY9dcoK"
      },
      "execution_count": null,
      "outputs": []
    }
  ]
}